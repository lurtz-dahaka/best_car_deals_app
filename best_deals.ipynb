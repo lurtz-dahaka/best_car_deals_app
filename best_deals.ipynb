{
 "cells": [
  {
   "cell_type": "markdown",
   "metadata": {},
   "source": [
    "## 0.1 Importing libraries"
   ]
  },
  {
   "cell_type": "code",
   "execution_count": 76,
   "metadata": {
    "ExecuteTime": {
     "end_time": "2023-11-07T10:18:34.256683Z",
     "start_time": "2023-11-07T10:18:34.152262Z"
    }
   },
   "outputs": [],
   "source": [
    "import joblib\n",
    "import numpy\n",
    "# Linear algebra\n",
    "import numpy as np\n",
    "\n",
    "import datetime\n",
    "\n",
    "from selenium import webdriver\n",
    "from selenium.webdriver.common.by import By\n",
    "from webdriver_manager.chrome import ChromeDriverManager\n",
    "\n",
    "# dataframe management\n",
    "import pandas as pd\n",
    "\n",
    "# regular expressions\n",
    "import re\n",
    "\n",
    "# Statistical tests\n",
    "from statistics import mean\n",
    "\n",
    "from joblib import load\n"
   ]
  },
  {
   "cell_type": "markdown",
   "metadata": {},
   "source": [
    "### 1.2 Web scrapping"
   ]
  },
  {
   "cell_type": "code",
   "execution_count": 77,
   "metadata": {
    "ExecuteTime": {
     "end_time": "2023-11-07T10:18:37.460241Z",
     "start_time": "2023-11-07T10:18:34.159504Z"
    }
   },
   "outputs": [
    {
     "data": {
      "text/plain": "['Acura',\n 'Alfa Romeo',\n 'AMC',\n 'Aston Martin',\n 'Audi',\n 'Austin',\n 'Bedford',\n 'Bentley',\n 'BMW',\n 'BMW Alpina',\n 'Buick',\n 'BYD',\n 'Cadillac',\n 'Chandler',\n 'Chevrolet',\n 'Chrysler',\n 'Citroen',\n 'Cobra',\n 'Commer',\n 'Cupra',\n 'Dacia',\n 'Daewoo',\n 'Daf',\n 'Daihatsu',\n 'Daimler',\n 'Datsun',\n 'Datsun-Nissan',\n 'DeSoto',\n 'DKW',\n 'Dodge',\n 'Donau',\n 'DS',\n 'Edsel',\n 'EMW',\n 'Essex',\n 'Ferrari',\n 'Fiat',\n 'Fiat-Abarth',\n 'Fisker',\n 'Ford',\n 'GAZ',\n 'GMC',\n 'Hillman',\n 'Honda',\n 'Hudson',\n 'Humber',\n 'Hummer',\n 'Hyundai',\n 'Ifa',\n 'Imperial',\n 'Infiniti',\n 'International',\n 'Inzile',\n 'Isuzu',\n 'Iveco',\n 'Jaguar',\n 'Jeep',\n 'Kia',\n 'Lada',\n 'Lamborghini',\n 'Lancia',\n 'Land Rover',\n 'Lexus',\n 'Leyland',\n 'Lincoln',\n 'Lloyd',\n 'London taxi',\n 'Lotus',\n 'LuAZ',\n 'Lynk & Co',\n 'MAN',\n 'Maserati',\n 'Matra',\n 'Maxus',\n 'Mazda',\n 'McLaren',\n 'Mercedes-Benz',\n 'Mercury',\n 'MG',\n 'Mini',\n 'Mitsubishi',\n 'Mitsubishi Fuso',\n 'Morris',\n 'Moskvitsh',\n 'Muu merkki',\n 'Nissan',\n 'NSU',\n 'Oldsmobile',\n 'Opel',\n 'Packard',\n 'Peugeot',\n 'Plymouth',\n 'Polestar',\n 'Pontiac',\n 'Porsche',\n 'RAM',\n 'Rambler',\n 'Renault',\n 'Reo',\n 'Riley',\n 'Rolls-Royce',\n 'Rover',\n 'Saab',\n 'Santana',\n 'Seat',\n 'Simca',\n 'Skoda',\n 'Smart',\n 'SsangYong',\n 'Studebaker',\n 'Subaru',\n 'Sunbeam',\n 'Suzuki',\n 'Talbot',\n 'Teijo',\n 'Tesla',\n 'Think',\n 'Toyota',\n 'Trabant',\n 'Triumph',\n 'TruckMasters',\n 'UAZ',\n 'Vauxhall',\n 'Volga',\n 'Volkswagen',\n 'Volvo',\n 'Voyah',\n 'Wartburg',\n 'Willys',\n 'Wolseley',\n 'Zastava']"
     },
     "execution_count": 77,
     "metadata": {},
     "output_type": "execute_result"
    }
   ],
   "source": [
    "browser = webdriver.Chrome()\n",
    "\n",
    "url = f'https://www.nettiauto.com'\n",
    "browser.get(url)\n",
    "all_makes = browser.find_elements(By.CSS_SELECTOR, '#srch_id_make')[0].text\n",
    "browser.close()\n",
    "\n",
    "all_makes = all_makes.replace('\\n', ', ').replace('  ', '').split(', ')\n",
    "all_makes = all_makes[11:-1]\n",
    "\n",
    "all_makes"
   ]
  },
  {
   "cell_type": "code",
   "execution_count": 78,
   "outputs": [
    {
     "name": "stdout",
     "output_type": "stream",
     "text": [
      "Initiating web-scraping of 72...\n",
      "32 32 32 32 32 32 32\n",
      "Page 1 out of 72 completed\n",
      "30 30 30 30 30 30 30\n",
      "Page 2 out of 72 completed\n",
      "30 30 30 30 30 30 30\n",
      "Page 3 out of 72 completed\n",
      "30 30 30 30 30 30 30\n",
      "Page 4 out of 72 completed\n",
      "30 30 30 30 30 30 30\n",
      "Page 5 out of 72 completed\n",
      "30 30 30 30 30 30 30\n",
      "Page 6 out of 72 completed\n",
      "30 30 30 30 30 30 30\n",
      "Page 7 out of 72 completed\n",
      "30 30 30 30 30 30 30\n",
      "Page 8 out of 72 completed\n",
      "30 30 30 30 30 30 30\n",
      "Page 9 out of 72 completed\n",
      "30 30 30 30 30 30 30\n",
      "Page 10 out of 72 completed\n",
      "30 30 30 30 30 30 30\n",
      "Page 11 out of 72 completed\n",
      "30 30 30 30 30 30 30\n",
      "Page 12 out of 72 completed\n",
      "30 30 30 30 30 30 30\n",
      "Page 13 out of 72 completed\n",
      "30 30 30 30 30 30 30\n",
      "Page 14 out of 72 completed\n",
      "30 30 30 30 30 30 30\n",
      "Page 15 out of 72 completed\n",
      "30 30 30 30 30 30 30\n",
      "Page 16 out of 72 completed\n",
      "30 30 30 30 30 30 30\n",
      "Page 17 out of 72 completed\n",
      "30 30 30 30 30 30 30\n",
      "Page 18 out of 72 completed\n",
      "30 30 30 30 30 30 30\n",
      "Page 19 out of 72 completed\n",
      "30 30 30 30 30 30 30\n",
      "Page 20 out of 72 completed\n",
      "30 30 30 30 30 30 30\n",
      "Page 21 out of 72 completed\n",
      "30 30 30 30 30 30 30\n",
      "Page 22 out of 72 completed\n",
      "30 30 30 30 30 30 30\n",
      "Page 23 out of 72 completed\n",
      "30 30 30 30 30 30 30\n",
      "Page 24 out of 72 completed\n",
      "30 30 30 30 30 30 30\n",
      "Page 25 out of 72 completed\n",
      "30 30 30 30 30 30 30\n",
      "Page 26 out of 72 completed\n",
      "30 30 30 30 30 30 30\n",
      "Page 27 out of 72 completed\n",
      "30 30 30 30 30 30 30\n",
      "Page 28 out of 72 completed\n",
      "30 30 30 30 30 30 30\n",
      "Page 29 out of 72 completed\n",
      "30 30 30 30 30 30 30\n",
      "Page 30 out of 72 completed\n",
      "30 30 30 30 30 30 30\n",
      "Page 31 out of 72 completed\n",
      "30 30 30 30 30 30 30\n",
      "Page 32 out of 72 completed\n",
      "30 30 30 30 30 30 30\n",
      "Page 33 out of 72 completed\n",
      "30 30 30 30 30 30 30\n",
      "Page 34 out of 72 completed\n",
      "30 30 30 30 30 30 30\n",
      "Page 35 out of 72 completed\n",
      "30 30 30 30 30 30 30\n",
      "Page 36 out of 72 completed\n",
      "30 30 30 30 30 30 30\n",
      "Page 37 out of 72 completed\n",
      "30 30 30 30 30 30 30\n",
      "Page 38 out of 72 completed\n",
      "30 30 30 30 30 30 30\n",
      "Page 39 out of 72 completed\n",
      "30 30 30 30 30 30 30\n",
      "Page 40 out of 72 completed\n",
      "30 30 30 30 30 30 30\n",
      "Page 41 out of 72 completed\n",
      "30 30 30 30 30 30 30\n",
      "Page 42 out of 72 completed\n",
      "30 30 30 30 30 30 30\n",
      "Page 43 out of 72 completed\n",
      "30 30 30 30 30 30 30\n",
      "Page 44 out of 72 completed\n",
      "30 30 30 30 30 30 30\n",
      "Page 45 out of 72 completed\n",
      "30 30 30 30 30 30 30\n",
      "Page 46 out of 72 completed\n",
      "30 30 30 30 30 30 30\n",
      "Page 47 out of 72 completed\n",
      "30 30 30 30 30 30 30\n",
      "Page 48 out of 72 completed\n",
      "30 30 30 30 30 30 30\n",
      "Page 49 out of 72 completed\n",
      "30 30 30 30 30 30 30\n",
      "Page 50 out of 72 completed\n",
      "30 30 30 30 30 30 30\n",
      "Page 51 out of 72 completed\n",
      "30 30 30 30 30 30 30\n",
      "Page 52 out of 72 completed\n",
      "30 30 30 30 30 30 30\n",
      "Page 53 out of 72 completed\n",
      "30 30 30 30 30 30 30\n",
      "Page 54 out of 72 completed\n",
      "30 30 30 30 30 30 30\n",
      "Page 55 out of 72 completed\n",
      "30 30 30 30 30 30 30\n",
      "Page 56 out of 72 completed\n",
      "30 30 30 30 30 30 30\n",
      "Page 57 out of 72 completed\n",
      "30 30 30 30 30 30 30\n",
      "Page 58 out of 72 completed\n",
      "30 30 30 30 30 30 30\n",
      "Page 59 out of 72 completed\n",
      "30 30 30 30 30 30 30\n",
      "Page 60 out of 72 completed\n",
      "30 30 30 30 30 30 30\n",
      "Page 61 out of 72 completed\n",
      "30 30 30 30 30 30 30\n",
      "Page 62 out of 72 completed\n",
      "30 30 30 30 30 30 30\n",
      "Page 63 out of 72 completed\n",
      "30 30 30 30 30 30 30\n",
      "Page 64 out of 72 completed\n",
      "30 30 30 30 30 30 30\n",
      "Page 65 out of 72 completed\n",
      "30 30 30 30 30 30 30\n",
      "Page 66 out of 72 completed\n",
      "30 30 30 30 30 30 30\n",
      "Page 67 out of 72 completed\n",
      "30 30 30 30 30 30 30\n",
      "Page 68 out of 72 completed\n",
      "30 30 30 30 30 30 30\n",
      "Page 69 out of 72 completed\n",
      "30 30 30 30 30 30 30\n",
      "Page 70 out of 72 completed\n",
      "30 30 30 30 30 30 30\n",
      "Page 71 out of 72 completed\n",
      "30 30 30 30 30 30 30\n",
      "Page 72 out of 72 completed\n"
     ]
    }
   ],
   "source": [
    "data_dict = {}\n",
    "data = pd.DataFrame(data_dict)\n",
    "browser = webdriver.Chrome()\n",
    "options = webdriver.ChromeOptions()\n",
    "options.add_argument(\"--start-maximized\")\n",
    "\n",
    "url = f'https://www.nettiauto.com/en/vaihtoautot?new=H&sortCol=price&ord=ASC&id_country[]=73'\n",
    "browser.get(url)\n",
    "number_of_pages = browser.find_elements(By.CSS_SELECTOR, '#pagingData > div > span.navigation_link > a.pageNavigation.dot_block')\n",
    "number_of_pages = int(number_of_pages[0].text)\n",
    "print(f'Initiating web-scraping of {number_of_pages}...')\n",
    "browser.close()\n",
    "\n",
    "for page in range(1, number_of_pages+1):\n",
    "\n",
    "    browser = webdriver.Chrome()\n",
    "    options.add_argument(\"--start-maximized\")\n",
    "\n",
    "    url = f'https://www.nettiauto.com/vaihtoautot?page={page}'\n",
    "    browser.get(url)\n",
    "    make_list = browser.find_elements(By.CSS_SELECTOR, '[class=\"make_model_link\"]')\n",
    "    desc_list = browser.find_elements(By.CSS_SELECTOR, '[class=\"checkLnesFlat for_rent_one_line\"]')\n",
    "    key_char_list = browser.find_elements(By.CSS_SELECTOR, '[class=\"vehicle_other_info clearfix_nett\"]')\n",
    "    places_list = browser.find_elements(By.CSS_SELECTOR, '[class=\"gray_text\"]')\n",
    "    sellers_list = browser.find_elements(By.CSS_SELECTOR, '[class=\"no_wrap gray_text\"]')\n",
    "    price_list = browser.find_elements(By.CSS_SELECTOR, '[class=\"price_block\"]')\n",
    "    ids_list = browser.find_elements(By.CSS_SELECTOR, '[class=\"childVifUrl tricky_link\"]')\n",
    "\n",
    "    print(len(make_list), len(desc_list), len(key_char_list), len(places_list), len(sellers_list), len(price_list), len(ids_list))\n",
    "\n",
    "    if len(make_list) == len(desc_list) == len(key_char_list) == len(places_list) == len(sellers_list) == len(price_list) == len(ids_list):\n",
    "        makes = []\n",
    "        descs = []\n",
    "        key_chars = []\n",
    "        places = []\n",
    "        sellers = []\n",
    "        prices = []\n",
    "        ids = []\n",
    "        \n",
    "        for val in range(len(make_list)):\n",
    "            makes.append(make_list[val].text)\n",
    "            descs.append(desc_list[val].text)\n",
    "            key_chars.append(key_char_list[val].text.replace('\\n', ' | '))\n",
    "            places.append(places_list[val].text)\n",
    "            sellers.append(sellers_list[val].text)\n",
    "            prices.append(price_list[val].text)\n",
    "            ids.append(ids_list[val].get_attribute('href'))\n",
    "\n",
    "    else:\n",
    "        print('Error! Number of values in columns is different!')\n",
    "        continue\n",
    "\n",
    "    data_dict['make'] = makes\n",
    "    data_dict['desc'] = descs\n",
    "    data_dict['key_char'] = key_chars\n",
    "    data_dict['town'] = places\n",
    "    data_dict['seller'] = sellers\n",
    "    data_dict['price'] = prices\n",
    "    data_dict['id'] = ids\n",
    "    \n",
    "    data_new = pd.DataFrame(data_dict)\n",
    "    data = pd.concat([data, data_new])\n",
    "    data.to_csv('data/data_new24.csv')\n",
    "    print(f'Page {page} out of {number_of_pages} completed')\n",
    "    browser.close()"
   ],
   "metadata": {
    "collapsed": false,
    "ExecuteTime": {
     "end_time": "2023-11-07T10:25:42.882341Z",
     "start_time": "2023-11-07T10:18:37.463951Z"
    }
   }
  },
  {
   "cell_type": "markdown",
   "metadata": {},
   "source": [
    "# 2. Data wrangling"
   ]
  },
  {
   "cell_type": "code",
   "execution_count": 79,
   "metadata": {
    "ExecuteTime": {
     "end_time": "2023-11-07T10:25:42.890407Z",
     "start_time": "2023-11-07T10:25:42.882195Z"
    }
   },
   "outputs": [],
   "source": [
    "data = pd.read_csv('data/data_new24.csv')"
   ]
  },
  {
   "cell_type": "code",
   "execution_count": 80,
   "metadata": {
    "ExecuteTime": {
     "end_time": "2023-11-07T10:25:42.896096Z",
     "start_time": "2023-11-07T10:25:42.893059Z"
    }
   },
   "outputs": [],
   "source": [
    "def get_engine_volume(sample_string):\n",
    "    pattern = r'\\((.*?)\\)'\n",
    "    values_in_brackets = re.findall(pattern, sample_string)\n",
    "    # for some cars engine volume is not indicated (for example electric cars)\n",
    "    # i'll tag them with -1\n",
    "    if len(values_in_brackets) == 0:\n",
    "        return -1\n",
    "    elif len(values_in_brackets) == 1:\n",
    "        return values_in_brackets[0] \n",
    "    # in case if string has several values in brackets\n",
    "    else:\n",
    "        return 'Error'\n",
    "\n",
    "# applying function to \"make\" feature and creating \"engine_vol\" column\n",
    "data['engine_vol'] = data['make'].apply(lambda x: get_engine_volume(x))"
   ]
  },
  {
   "cell_type": "code",
   "execution_count": 81,
   "metadata": {
    "ExecuteTime": {
     "end_time": "2023-11-07T10:25:42.921133Z",
     "start_time": "2023-11-07T10:25:42.901340Z"
    }
   },
   "outputs": [],
   "source": [
    "def extract_make_name(sample_string, make_list):\n",
    "    for make in make_list:\n",
    "        if make in sample_string:\n",
    "            return make\n",
    "    return None  # Return None if no matching make is found\n",
    "\n",
    "\n",
    "data['car_make'] = data['make'].apply(lambda x: extract_make_name(x, all_makes))"
   ]
  },
  {
   "cell_type": "code",
   "execution_count": 82,
   "metadata": {
    "ExecuteTime": {
     "end_time": "2023-11-07T10:25:42.922191Z",
     "start_time": "2023-11-07T10:25:42.911300Z"
    }
   },
   "outputs": [],
   "source": [
    "def extract_model_name(sample_string, make_list):\n",
    "    pattern = r'\\s*\\(\\d+\\.\\d+\\)'\n",
    "    values_in_brackets = re.findall(pattern, sample_string)\n",
    "    if len(values_in_brackets) == 1:\n",
    "        sample_string = sample_string.replace(values_in_brackets[0], '')\n",
    "    for make in make_list:\n",
    "        if make in sample_string:\n",
    "            sample_string = sample_string.replace(make, '').strip()\n",
    "    return sample_string  # Return None if no matching make is found\n",
    "\n",
    "data['model'] = data['make'].apply(lambda x: extract_model_name(x, all_makes))"
   ]
  },
  {
   "cell_type": "code",
   "execution_count": 83,
   "outputs": [],
   "source": [
    "data['make_model'] = data['car_make'] + ' ' + data['model']"
   ],
   "metadata": {
    "collapsed": false,
    "ExecuteTime": {
     "end_time": "2023-11-07T10:25:42.922253Z",
     "start_time": "2023-11-07T10:25:42.914090Z"
    }
   }
  },
  {
   "cell_type": "code",
   "execution_count": 84,
   "outputs": [],
   "source": [
    "data['desc'] = data['desc'].astype(str)\n",
    "\n",
    "data['roadworthy'] = data['desc'].apply(lambda x: 0 if 'Ei tieliikennekelpoinen' in x else 1)"
   ],
   "metadata": {
    "collapsed": false,
    "ExecuteTime": {
     "end_time": "2023-11-07T10:25:42.922302Z",
     "start_time": "2023-11-07T10:25:42.917557Z"
    }
   }
  },
  {
   "cell_type": "code",
   "execution_count": 85,
   "outputs": [],
   "source": [
    "awd_types = ['awd', '4wd', '4x4', 'xdrive', '4matic', 'quattro', 'all-wheel drive', 'all wheel', 'super select']\n",
    "\n",
    "def is_awd(sample_string, awd_types):\n",
    "    sample_string = sample_string.lower()\n",
    "    for type in awd_types:\n",
    "        if type in sample_string:\n",
    "            return 1\n",
    "    return 0  # Return 0 if no matching type is found\n",
    "\n",
    "\n",
    "data['awd'] = data['desc'].apply(lambda x: is_awd(x, awd_types))"
   ],
   "metadata": {
    "collapsed": false,
    "ExecuteTime": {
     "end_time": "2023-11-07T10:25:42.935164Z",
     "start_time": "2023-11-07T10:25:42.922334Z"
    }
   }
  },
  {
   "cell_type": "code",
   "execution_count": 86,
   "outputs": [],
   "source": [
    "categories = {\n",
    "    'sedan': 'Sedan',\n",
    "    'avant': 'Universal',\n",
    "    'van': 'Minivan',\n",
    "    'combi': 'Universal',\n",
    "    'tourer': 'Universal',\n",
    "    'wagon': 'Universal',\n",
    "    'touring': 'Universal',\n",
    "    'farmari': 'Universal',\n",
    "    'sportback': 'Hatchback',\n",
    "    'coupe': 'Coupe',\n",
    "    'coupé': 'Coupe',\n",
    "    'hatchback': 'Hatchback',\n",
    "    'cabriolet': 'Cabriolet',\n",
    "    'convertible': 'Cabriolet',\n",
    "    'cabrio': 'Cabriolet',\n",
    "    'pickup': 'Pickup',\n",
    "    'spaceback': 'Hatchback',\n",
    "    'crossover': 'Jeep',\n",
    "    'estate': 'Universal',\n",
    "    'sportswagon': 'Universal',\n",
    "    'shooting': 'Universal',\n",
    "    'targa': 'Coupe',\n",
    "    'hardtop': 'Coupe',\n",
    "    'saloon': 'Sedan',\n",
    "    'roadster': 'Coupe',\n",
    "    'spider': 'Coupe',\n",
    "    'turismo': 'Hatchback',\n",
    "    'mpv': 'Minivan',\n",
    "    'fastback': 'Coupe',\n",
    "    'suv': 'Jeep'\n",
    "}\n",
    "\n",
    "def get_category(sample_string, categories):\n",
    "    sample_string = sample_string.lower().split(' ')\n",
    "    for word in sample_string:\n",
    "        if word in categories:\n",
    "            return categories.get(word)\n",
    "\n",
    "data['category'] = data['desc'].apply(lambda x: get_category(x, categories))"
   ],
   "metadata": {
    "collapsed": false,
    "ExecuteTime": {
     "end_time": "2023-11-07T10:25:42.935365Z",
     "start_time": "2023-11-07T10:25:42.926155Z"
    }
   }
  },
  {
   "cell_type": "code",
   "execution_count": 87,
   "outputs": [],
   "source": [
    "doors_count = {\n",
    "    '5-ovinen,': '4/5',\n",
    "    '5-door': '4/5',\n",
    "    '5-ovinen': '4/5',\n",
    "    '#5-ovinen': '4/5',\n",
    "    '2ov': '2/3',\n",
    "    '2-door': '2/3',\n",
    "    '3-door': '2/3',\n",
    "    '3ov': '2/3',\n",
    "    '2-ov': '2/3',\n",
    "    '4ov': '4/5',\n",
    "    '4-ov': '4/5',\n",
    "    '4door': '4/5',\n",
    "    '5-ov,': '4/5',\n",
    "    'kaksiovinen': '2/3',\n",
    "    '2d': '2/3',\n",
    "    '3d': '2/3',\n",
    "    '4d': '4/5',\n",
    "    '5d': '4/5'\n",
    "    }\n",
    "\n",
    "def get_doors(sample_string, doors_count):\n",
    "    sample_string = sample_string.lower().split(' ')\n",
    "    for word in sample_string:\n",
    "        if word in doors_count:\n",
    "            return doors_count.get(word)\n",
    "\n",
    "data['doors'] = data['desc'].apply(lambda x: get_doors(x, doors_count))"
   ],
   "metadata": {
    "collapsed": false,
    "ExecuteTime": {
     "end_time": "2023-11-07T10:25:42.935415Z",
     "start_time": "2023-11-07T10:25:42.930617Z"
    }
   }
  },
  {
   "cell_type": "markdown",
   "source": [
    "Moving further. I'll review 'desc' column which contains description about the car. We can identify 2 key features: \n",
    "- whether the car is roadworthy or not. Some cars have \"Ei tieliikennekelpoinen\" in description which means that it is not roadworthy and repair is required.\n",
    "- whether the car has all-wheel drive option. There are several ways to define that car has AWD system, for example, xDrive for BMW or 4matic for Mercedes-Benz "
   ],
   "metadata": {
    "collapsed": false
   }
  },
  {
   "cell_type": "code",
   "execution_count": 88,
   "outputs": [],
   "source": [
    "def extract_horsepower(string):\n",
    "    string = string.lower()\n",
    "    pattern = r'(\\d+)\\s*hv'\n",
    "    match = re.search(pattern, string)\n",
    "    if match:\n",
    "        return int(match.group(1))\n",
    "\n",
    "data['hp'] = data['desc'].apply(lambda x: extract_horsepower(x))"
   ],
   "metadata": {
    "collapsed": false,
    "ExecuteTime": {
     "end_time": "2023-11-07T10:25:42.944450Z",
     "start_time": "2023-11-07T10:25:42.935024Z"
    }
   }
  },
  {
   "cell_type": "code",
   "execution_count": 89,
   "outputs": [],
   "source": [
    "def extract_power(string):\n",
    "    string = string.lower()\n",
    "    pattern = r'(\\d+)\\s*kw(?!h)'\n",
    "    match = re.search(pattern, string)\n",
    "    if match:\n",
    "        return int(match.group(1))\n",
    "\n",
    "data['power'] = data['desc'].apply(lambda x: extract_power(x))"
   ],
   "metadata": {
    "collapsed": false,
    "ExecuteTime": {
     "end_time": "2023-11-07T10:25:42.944606Z",
     "start_time": "2023-11-07T10:25:42.939335Z"
    }
   }
  },
  {
   "cell_type": "code",
   "execution_count": 90,
   "outputs": [],
   "source": [
    "def extract_capacity(string):\n",
    "    string = string.lower()\n",
    "    pattern = r'(\\d+)\\s*kwh'\n",
    "    match = re.search(pattern, string)\n",
    "    if match:\n",
    "        return int(match.group(1))\n",
    "\n",
    "data['capacity'] = data['desc'].apply(lambda x: extract_capacity(x))"
   ],
   "metadata": {
    "collapsed": false,
    "ExecuteTime": {
     "end_time": "2023-11-07T10:25:42.961011Z",
     "start_time": "2023-11-07T10:25:42.946392Z"
    }
   }
  },
  {
   "cell_type": "code",
   "execution_count": 91,
   "outputs": [],
   "source": [
    "def organize_key_char(sample_string):\n",
    "    sample_list = sample_string.split('|')\n",
    "    for i in range(len(sample_list)):\n",
    "        sample_list[i] = sample_list[i].strip()\n",
    "    return sample_list\n",
    "        \n",
    "data['key_char'] = data['key_char'].apply(lambda x: organize_key_char(x))"
   ],
   "metadata": {
    "collapsed": false,
    "ExecuteTime": {
     "end_time": "2023-11-07T10:25:42.961793Z",
     "start_time": "2023-11-07T10:25:42.949665Z"
    }
   }
  },
  {
   "cell_type": "code",
   "execution_count": 92,
   "outputs": [],
   "source": [
    "fuel_type = ['Bensiini', 'Diesel', 'Hybridi (bensiini/sähkö)', 'Hybridi (diesel/sähkö)', 'Sähkö', 'Kaasu', 'E85/bensiini', 'Ei saatavilla']\n",
    "gearbox_type = ['Automaatti', 'Manuaali']\n"
   ],
   "metadata": {
    "collapsed": false,
    "ExecuteTime": {
     "end_time": "2023-11-07T10:25:42.961881Z",
     "start_time": "2023-11-07T10:25:42.951677Z"
    }
   }
  },
  {
   "cell_type": "code",
   "execution_count": 93,
   "outputs": [],
   "source": [
    "data['year'] = data['key_char'].apply(lambda x: x[0].strip())\n",
    "data['year'] = data['year'].astype(int)\n",
    "curr_time = datetime.datetime.now()\n",
    "data['age'] = data['year'].apply(lambda x: curr_time.year - x)\n",
    "data['age'] = data['age'].apply(lambda x: 0 if x==-1 else x)"
   ],
   "metadata": {
    "collapsed": false,
    "ExecuteTime": {
     "end_time": "2023-11-07T10:25:42.961941Z",
     "start_time": "2023-11-07T10:25:42.955115Z"
    }
   }
  },
  {
   "cell_type": "code",
   "execution_count": 94,
   "outputs": [],
   "source": [
    "def extract_mileage(sample_list):\n",
    "    if 'km' in sample_list[1]:\n",
    "        return sample_list[1].strip()[:-2].replace(' ', '')\n",
    "    else:\n",
    "        '-1'\n",
    "    \n",
    "data['mileage'] = data['key_char'].apply(lambda x: extract_mileage(x))"
   ],
   "metadata": {
    "collapsed": false,
    "ExecuteTime": {
     "end_time": "2023-11-07T10:25:42.961993Z",
     "start_time": "2023-11-07T10:25:42.959086Z"
    }
   }
  },
  {
   "cell_type": "code",
   "execution_count": 95,
   "outputs": [],
   "source": [
    "fuel_type = ['Bensiini', 'Diesel', 'Hybridi (bensiini/sähkö)', 'Hybridi (diesel/sähkö)', 'Sähkö', 'Kaasu', 'E85/bensiini', 'Ei saatavilla']\n",
    "gearbox_type = ['Automaatti', 'Manuaali']\n",
    "\n",
    "def get_type(sample_list, types):\n",
    "    for type in types:\n",
    "        if type in sample_list:\n",
    "            return type\n",
    "\n",
    "data['fuel_type'] = data['key_char'].apply(lambda x: get_type(x, fuel_type))\n",
    "data['gearbox_type'] = data['key_char'].apply(lambda x: get_type(x, gearbox_type))"
   ],
   "metadata": {
    "collapsed": false,
    "ExecuteTime": {
     "end_time": "2023-11-07T10:25:42.976131Z",
     "start_time": "2023-11-07T10:25:42.962627Z"
    }
   }
  },
  {
   "cell_type": "code",
   "execution_count": 96,
   "outputs": [],
   "source": [
    "car_dealers = ['J. Rinta-Jouppi', 'Autokeskus Oy', 'Autolle.com', 'Suursavonauto.fi', 'Wetteri', 'AC Auto-Center', 'Rinta-Joupin Autoliike', 'Hedin Automotive', 'LänsiAuto', 'Kamux', 'K-auto', 'Saka Finland Oy', 'Secto Vaihtoautot', 'Autotalo', 'Auto-Suni', 'Nelipyörä', 'Ford Store', 'Hedin Automotive', 'Automaa', 'Bavaria', 'Toyota', 'Omax', 'ALD Carmarket', 'Delta Auto', 'Pörhö', 'Veho', 'Bilar99e', 'Autosalpa', 'Vaihtokaara', 'Auto-Kilta', 'Autodeal', 'Keskusautohalli Oy', 'Helkama-Auto', 'MB-mobile', 'XBIL', 'Autoverkkokauppa.fi', 'Kupen auto', 'KymppiPlus', 'Menoauto', 'Vaihtoautomaa', 'ALD Carmarket', 'MS-auto', 'Euro Auto', 'Tojo-Auto', 'Porsche Center', 'Levorannan Autoliike', 'SCC - Sports Car Center', 'Ajanvaunu Oy', 'Auto-Kehä Oy', 'Auto-Eekoo']\n",
    "\n",
    "def group_seller(sample_string, car_dealers):\n",
    "    sample_string = sample_string.lower()\n",
    "    for dealer in list(map(str.lower, car_dealers)):\n",
    "        x = sample_string.replace(dealer, '')\n",
    "        if(len(x) != len(sample_string)):\n",
    "            return dealer.lower()\n",
    "    return sample_string\n",
    "        \n",
    "data['car_seller'] = data['seller'].apply(lambda x: group_seller(x, car_dealers))\n",
    "data['car_seller'] = data['car_seller'].astype(str)\n",
    "data['car_seller'] = data['car_seller'].apply(lambda x: x.lower())"
   ],
   "metadata": {
    "collapsed": false,
    "ExecuteTime": {
     "end_time": "2023-11-07T10:25:42.982449Z",
     "start_time": "2023-11-07T10:25:42.965262Z"
    }
   }
  },
  {
   "cell_type": "code",
   "execution_count": 97,
   "outputs": [],
   "source": [
    "data['price'] = data['price'].apply(lambda x: x.split('\\n'))"
   ],
   "metadata": {
    "collapsed": false,
    "ExecuteTime": {
     "end_time": "2023-11-07T10:25:42.982605Z",
     "start_time": "2023-11-07T10:25:42.979896Z"
    }
   }
  },
  {
   "cell_type": "code",
   "execution_count": 98,
   "outputs": [],
   "source": [
    "data['car_price'] = data['price'].apply(lambda x: x[0].replace('€', '').replace(' ', ''))"
   ],
   "metadata": {
    "collapsed": false,
    "ExecuteTime": {
     "end_time": "2023-11-07T10:25:42.995053Z",
     "start_time": "2023-11-07T10:25:42.981784Z"
    }
   }
  },
  {
   "cell_type": "code",
   "execution_count": 99,
   "outputs": [],
   "source": [
    "def extract_deal(sample_list):\n",
    "    try:\n",
    "        if '(' in sample_list[1]:\n",
    "            return sample_list[1].replace('(', '').replace(')', '').strip()\n",
    "        else:\n",
    "            return None\n",
    "    except IndexError:\n",
    "        return None\n",
    "\n",
    "data['deal'] = data['price'].apply(lambda x: extract_deal(x))"
   ],
   "metadata": {
    "collapsed": false,
    "ExecuteTime": {
     "end_time": "2023-11-07T10:25:42.995791Z",
     "start_time": "2023-11-07T10:25:42.986497Z"
    }
   }
  },
  {
   "cell_type": "markdown",
   "source": [
    "## Data cleaning"
   ],
   "metadata": {
    "collapsed": false
   }
  },
  {
   "cell_type": "code",
   "execution_count": 100,
   "outputs": [],
   "source": [
    "data = data.drop(columns=['Unnamed: 0', 'make', 'desc', 'key_char', 'price', 'seller'])"
   ],
   "metadata": {
    "collapsed": false,
    "ExecuteTime": {
     "end_time": "2023-11-07T10:25:42.995844Z",
     "start_time": "2023-11-07T10:25:42.989291Z"
    }
   }
  },
  {
   "cell_type": "code",
   "execution_count": 101,
   "outputs": [],
   "source": [
    "data = data.dropna(subset=['mileage', 'make_model'])"
   ],
   "metadata": {
    "collapsed": false,
    "ExecuteTime": {
     "end_time": "2023-11-07T10:25:42.995886Z",
     "start_time": "2023-11-07T10:25:42.992861Z"
    }
   }
  },
  {
   "cell_type": "code",
   "execution_count": 102,
   "outputs": [],
   "source": [
    "to_be_deleted = set()"
   ],
   "metadata": {
    "collapsed": false,
    "ExecuteTime": {
     "end_time": "2023-11-07T10:25:43.008667Z",
     "start_time": "2023-11-07T10:25:42.995281Z"
    }
   }
  },
  {
   "cell_type": "code",
   "execution_count": 103,
   "outputs": [
    {
     "name": "stdout",
     "output_type": "stream",
     "text": [
      "<class 'pandas.core.frame.DataFrame'>\n",
      "Index: 2005 entries, 0 to 2161\n",
      "Data columns (total 21 columns):\n",
      " #   Column        Non-Null Count  Dtype  \n",
      "---  ------        --------------  -----  \n",
      " 0   town          2005 non-null   object \n",
      " 1   id            2005 non-null   object \n",
      " 2   engine_vol    2005 non-null   object \n",
      " 3   car_make      2005 non-null   object \n",
      " 4   model         2005 non-null   object \n",
      " 5   make_model    2005 non-null   object \n",
      " 6   roadworthy    2005 non-null   int64  \n",
      " 7   awd           2005 non-null   int64  \n",
      " 8   category      237 non-null    object \n",
      " 9   doors         704 non-null    object \n",
      " 10  hp            35 non-null     float64\n",
      " 11  power         59 non-null     float64\n",
      " 12  capacity      0 non-null      object \n",
      " 13  year          2005 non-null   int64  \n",
      " 14  age           2005 non-null   int64  \n",
      " 15  mileage       2005 non-null   object \n",
      " 16  fuel_type     2005 non-null   object \n",
      " 17  gearbox_type  2003 non-null   object \n",
      " 18  car_seller    2005 non-null   object \n",
      " 19  car_price     2005 non-null   object \n",
      " 20  deal          14 non-null     object \n",
      "dtypes: float64(2), int64(4), object(15)\n",
      "memory usage: 344.6+ KB\n"
     ]
    }
   ],
   "source": [
    "data.info()"
   ],
   "metadata": {
    "collapsed": false,
    "ExecuteTime": {
     "end_time": "2023-11-07T10:25:43.009019Z",
     "start_time": "2023-11-07T10:25:42.998792Z"
    }
   }
  },
  {
   "cell_type": "markdown",
   "source": [
    "Some cars don't have make and model indicated. They are indicated as 'Muu merkki' and 'Muu malli' which means 'Other make' and 'Other model'. "
   ],
   "metadata": {
    "collapsed": false
   }
  },
  {
   "cell_type": "code",
   "execution_count": 104,
   "outputs": [],
   "source": [
    "no_make_model = data[(data['model'] == 'Muu malli') | (data['car_make'] == 'Muu merkki')].index\n",
    "to_be_deleted.update(no_make_model)"
   ],
   "metadata": {
    "collapsed": false,
    "ExecuteTime": {
     "end_time": "2023-11-07T10:25:43.009075Z",
     "start_time": "2023-11-07T10:25:43.003204Z"
    }
   }
  },
  {
   "cell_type": "markdown",
   "source": [
    "Previously we've identified cars that are broken and require repair. We can't evaluate volume of investment to repair each particular car so I'd prefer to delete all cars that are not roadworthy from the dataset."
   ],
   "metadata": {
    "collapsed": false
   }
  },
  {
   "cell_type": "code",
   "execution_count": 105,
   "outputs": [],
   "source": [
    "to_be_deleted.update(data[data['roadworthy'] == 0].index)"
   ],
   "metadata": {
    "collapsed": false,
    "ExecuteTime": {
     "end_time": "2023-11-07T10:25:43.009120Z",
     "start_time": "2023-11-07T10:25:43.005428Z"
    }
   }
  },
  {
   "cell_type": "markdown",
   "source": [
    "In 'Gearbox' column we have more than 11000 NaN values. We can't delete all of them as we'll lose too much useful data. However, using common sense and knowledge about car mechanics we can transform this column. Firstly, manual transmission is only available in mild hybrid vehicles because full hybrid cars can only work optimally with an automatic transmission. Therefore all hybrid cars in the dataset could be marked as having 'Automatti' gearbox. Electric motors deliver their power in such a way that they feel similar to automatic petrol or diesel cars to drive, but while automatic petrol and diesel cars have multiple gears to choose from, electric cars tend to have only a single gear. In this regard I assume that electric (or Sähkö) cars could be marked 'Automatti' as well."
   ],
   "metadata": {
    "collapsed": false
   }
  },
  {
   "cell_type": "code",
   "execution_count": 106,
   "outputs": [],
   "source": [
    "nan_gearbox = data[data['gearbox_type'].isna()]"
   ],
   "metadata": {
    "collapsed": false,
    "ExecuteTime": {
     "end_time": "2023-11-07T10:25:43.021827Z",
     "start_time": "2023-11-07T10:25:43.008991Z"
    }
   }
  },
  {
   "cell_type": "code",
   "execution_count": 107,
   "outputs": [],
   "source": [
    "automaatti_index = nan_gearbox[(nan_gearbox['fuel_type'] == 'Hybridi (bensiini/sähkö)') | (nan_gearbox['fuel_type'] == 'Hybridi (diesel/sähkö)') | (nan_gearbox['fuel_type'] == 'Sähkö')].index\n",
    "data.loc[automaatti_index, 'gearbox_type'] = 'Automaatti'"
   ],
   "metadata": {
    "collapsed": false,
    "ExecuteTime": {
     "end_time": "2023-11-07T10:25:43.022741Z",
     "start_time": "2023-11-07T10:25:43.010197Z"
    }
   }
  },
  {
   "cell_type": "code",
   "execution_count": 108,
   "outputs": [],
   "source": [
    "data_automaatti_index = data[(data['fuel_type'] == 'Hybridi (bensiini/sähkö)') | (data['fuel_type'] == 'Hybridi (diesel/sähkö)') | (data['fuel_type'] == 'Sähkö')].index\n",
    "data.loc[data_automaatti_index, 'gearbox_type'] = 'Automaatti'"
   ],
   "metadata": {
    "collapsed": false,
    "ExecuteTime": {
     "end_time": "2023-11-07T10:25:43.061807Z",
     "start_time": "2023-11-07T10:25:43.014834Z"
    }
   }
  },
  {
   "cell_type": "code",
   "execution_count": 109,
   "outputs": [],
   "source": [
    "to_be_deleted.update(data[data['gearbox_type'].isna()].index)"
   ],
   "metadata": {
    "collapsed": false,
    "ExecuteTime": {
     "end_time": "2023-11-07T10:25:43.068705Z",
     "start_time": "2023-11-07T10:25:43.016504Z"
    }
   }
  },
  {
   "cell_type": "markdown",
   "source": [
    "Previously we've extracted several deal types. They are: 'Tax free', 'ALV väh.kelp.' and 'sis. ALV'. I'll explain this in detail.\n",
    " - Tax free' means that VAT is not included into car price. Usually such cars are sold outside Finland and purchase of such car requires additional car tax payment which is calculated based on vehicle's category, selling price, date of first registration and CO2 values. Car with this status usually cost significantly cheaper than same car that has already been registered in Finland. It means all ads with 'Tax free' shall be deleted from dataset.\n",
    "  - 'ALV väh.kelp.' and 'sis. ALV' statuses mean that VAT was included in the car price and it could be deducted. Finnish tax legislation allows such deduction if car is purchased for company and is used only for work related purposes. Such practice is quite popular in Finland, however, it requires strict reporting to tax administration related to car usage. For this project goal such status does not have affect on price as all taxes are already included in the price.\n"
   ],
   "metadata": {
    "collapsed": false
   }
  },
  {
   "cell_type": "code",
   "execution_count": 110,
   "outputs": [],
   "source": [
    "tax_free_cars = data[(data['deal'] == 'Tax free') | (data['deal'] == 'Tax free, sis. ALV') | (data['deal'] == 'Tax free, ALV väh.kelp.')].index\n",
    "to_be_deleted.update(tax_free_cars)"
   ],
   "metadata": {
    "collapsed": false,
    "ExecuteTime": {
     "end_time": "2023-11-07T10:25:43.068877Z",
     "start_time": "2023-11-07T10:25:43.020074Z"
    }
   }
  },
  {
   "cell_type": "markdown",
   "source": [
    "In the key column with car price there are 274 cars with status 'Eihinnoiteltu' which means 'No price'. Basically we can add these cars to test dataset so the model could predict price for them as well. However, we won't be able to count error metric for them so I prefer to delete them as well."
   ],
   "metadata": {
    "collapsed": false
   }
  },
  {
   "cell_type": "code",
   "execution_count": 111,
   "outputs": [],
   "source": [
    "to_be_deleted.update(data[data['car_price'] == 'Eihinnoiteltu'].index)"
   ],
   "metadata": {
    "collapsed": false,
    "ExecuteTime": {
     "end_time": "2023-11-07T10:25:43.072884Z",
     "start_time": "2023-11-07T10:25:43.022619Z"
    }
   }
  },
  {
   "cell_type": "markdown",
   "source": [
    "Finally we can delete those indexes that we've marked."
   ],
   "metadata": {
    "collapsed": false
   }
  },
  {
   "cell_type": "code",
   "execution_count": 112,
   "outputs": [],
   "source": [
    "data = data.drop(index=to_be_deleted)"
   ],
   "metadata": {
    "collapsed": false,
    "ExecuteTime": {
     "end_time": "2023-11-07T10:25:43.073006Z",
     "start_time": "2023-11-07T10:25:43.024592Z"
    }
   }
  },
  {
   "cell_type": "markdown",
   "source": [
    "As we extracted all necessary information from 'roadworthy' and 'deal' columns we can delete them as well."
   ],
   "metadata": {
    "collapsed": false
   }
  },
  {
   "cell_type": "code",
   "execution_count": 113,
   "outputs": [],
   "source": [
    "data = data.drop(columns=['roadworthy', 'deal'])"
   ],
   "metadata": {
    "collapsed": false,
    "ExecuteTime": {
     "end_time": "2023-11-07T10:25:43.073054Z",
     "start_time": "2023-11-07T10:25:43.027715Z"
    }
   }
  },
  {
   "cell_type": "code",
   "execution_count": 114,
   "outputs": [],
   "source": [
    "data['car_price'] = data['car_price'].astype(int)"
   ],
   "metadata": {
    "collapsed": false,
    "ExecuteTime": {
     "end_time": "2023-11-07T10:25:43.073159Z",
     "start_time": "2023-11-07T10:25:43.030495Z"
    }
   }
  },
  {
   "cell_type": "markdown",
   "source": [
    "As result now we have clean dataset without NaN values. "
   ],
   "metadata": {
    "collapsed": false
   }
  },
  {
   "cell_type": "code",
   "execution_count": 115,
   "outputs": [],
   "source": [
    "data['make_model'] = data['make_model'].apply(lambda x: x.lower())"
   ],
   "metadata": {
    "collapsed": false,
    "ExecuteTime": {
     "end_time": "2023-11-07T10:25:43.073477Z",
     "start_time": "2023-11-07T10:25:43.032931Z"
    }
   }
  },
  {
   "cell_type": "code",
   "execution_count": 116,
   "outputs": [],
   "source": [
    "cars = pd.read_csv('data/characteristics.csv', index_col=0)\n",
    "cars = cars[['manufacturer', 'model', 'category', 'year', 'gear_box_type', 'doors']]\n",
    "cars['make_model'] = cars['manufacturer'] + ' ' + cars['model']\n",
    "cars['make_model'] = cars['make_model'].astype(str).apply(lambda x: x.lower())\n",
    "cars['gear_box_type'] = cars['gear_box_type'].apply(\n",
    "    lambda x: {'Automatic': 'Automaatti', 'Tiptronic': 'Automaatti', 'Manual': 'Manuaali', 'Variator': 'Automaatti'}.get(x)\n",
    ")\n",
    "cars = cars.drop(columns=['manufacturer', 'model'])\n",
    "cars = cars.dropna()"
   ],
   "metadata": {
    "collapsed": false,
    "ExecuteTime": {
     "end_time": "2023-11-07T10:25:43.182510Z",
     "start_time": "2023-11-07T10:25:43.035694Z"
    }
   }
  },
  {
   "cell_type": "code",
   "execution_count": 117,
   "outputs": [
    {
     "data": {
      "text/plain": "                           fuel      gear     hp  year       make_model\n0                        Diesel  Manuaali  116.0  2011          bmw 316\n1                      Bensiini  Manuaali  122.0  2011  volkswagen golf\n2                      Bensiini  Manuaali  160.0  2011        seat exeo\n3                      Bensiini  Manuaali  110.0  2011   renault megane\n4                      Bensiini  Manuaali  156.0  2011      peugeot 308\n...                         ...       ...    ...   ...              ...\n46400  Hybridi (bensiini/sähkö)  Manuaali   71.0  2021         fiat 500\n46401  Hybridi (bensiini/sähkö)  Manuaali   71.0  2021         fiat 500\n46402  Hybridi (bensiini/sähkö)  Manuaali   71.0  2021         fiat 500\n46403  Hybridi (bensiini/sähkö)  Manuaali   71.0  2021         fiat 500\n46404  Hybridi (bensiini/sähkö)  Manuaali   71.0  2021         fiat 500\n\n[46071 rows x 5 columns]",
      "text/html": "<div>\n<style scoped>\n    .dataframe tbody tr th:only-of-type {\n        vertical-align: middle;\n    }\n\n    .dataframe tbody tr th {\n        vertical-align: top;\n    }\n\n    .dataframe thead th {\n        text-align: right;\n    }\n</style>\n<table border=\"1\" class=\"dataframe\">\n  <thead>\n    <tr style=\"text-align: right;\">\n      <th></th>\n      <th>fuel</th>\n      <th>gear</th>\n      <th>hp</th>\n      <th>year</th>\n      <th>make_model</th>\n    </tr>\n  </thead>\n  <tbody>\n    <tr>\n      <th>0</th>\n      <td>Diesel</td>\n      <td>Manuaali</td>\n      <td>116.0</td>\n      <td>2011</td>\n      <td>bmw 316</td>\n    </tr>\n    <tr>\n      <th>1</th>\n      <td>Bensiini</td>\n      <td>Manuaali</td>\n      <td>122.0</td>\n      <td>2011</td>\n      <td>volkswagen golf</td>\n    </tr>\n    <tr>\n      <th>2</th>\n      <td>Bensiini</td>\n      <td>Manuaali</td>\n      <td>160.0</td>\n      <td>2011</td>\n      <td>seat exeo</td>\n    </tr>\n    <tr>\n      <th>3</th>\n      <td>Bensiini</td>\n      <td>Manuaali</td>\n      <td>110.0</td>\n      <td>2011</td>\n      <td>renault megane</td>\n    </tr>\n    <tr>\n      <th>4</th>\n      <td>Bensiini</td>\n      <td>Manuaali</td>\n      <td>156.0</td>\n      <td>2011</td>\n      <td>peugeot 308</td>\n    </tr>\n    <tr>\n      <th>...</th>\n      <td>...</td>\n      <td>...</td>\n      <td>...</td>\n      <td>...</td>\n      <td>...</td>\n    </tr>\n    <tr>\n      <th>46400</th>\n      <td>Hybridi (bensiini/sähkö)</td>\n      <td>Manuaali</td>\n      <td>71.0</td>\n      <td>2021</td>\n      <td>fiat 500</td>\n    </tr>\n    <tr>\n      <th>46401</th>\n      <td>Hybridi (bensiini/sähkö)</td>\n      <td>Manuaali</td>\n      <td>71.0</td>\n      <td>2021</td>\n      <td>fiat 500</td>\n    </tr>\n    <tr>\n      <th>46402</th>\n      <td>Hybridi (bensiini/sähkö)</td>\n      <td>Manuaali</td>\n      <td>71.0</td>\n      <td>2021</td>\n      <td>fiat 500</td>\n    </tr>\n    <tr>\n      <th>46403</th>\n      <td>Hybridi (bensiini/sähkö)</td>\n      <td>Manuaali</td>\n      <td>71.0</td>\n      <td>2021</td>\n      <td>fiat 500</td>\n    </tr>\n    <tr>\n      <th>46404</th>\n      <td>Hybridi (bensiini/sähkö)</td>\n      <td>Manuaali</td>\n      <td>71.0</td>\n      <td>2021</td>\n      <td>fiat 500</td>\n    </tr>\n  </tbody>\n</table>\n<p>46071 rows × 5 columns</p>\n</div>"
     },
     "execution_count": 117,
     "metadata": {},
     "output_type": "execute_result"
    }
   ],
   "source": [
    "cars_hp = pd.read_csv('data/autoscout24-germany-dataset.csv')\n",
    "cars_hp['make_model'] = cars_hp['make'] + ' ' + cars_hp['model']\n",
    "cars_hp['make_model'] = cars_hp['make_model'].astype(str).apply(lambda x: x.lower())\n",
    "cars_hp = cars_hp.drop(columns=['make', 'model', 'mileage', 'offerType', 'price'])\n",
    "\n",
    "fuel_dict = {\n",
    "    'Gasoline': 'Bensiini',\n",
    "    'Electric/Gasoline': 'Hybridi (bensiini/sähkö)',\n",
    "    'Electric': 'Sähkö',\n",
    "    'LPG': 'Kaasu',\n",
    "    'CNG': 'Kaasu',\n",
    "    'Electric/Diesel': 'Hybridi (diesel/sähkö)',\n",
    "    'Others': np.nan,\n",
    "    '-/- (Fuel)': np.nan,\n",
    "    'Ethanol': 'E85/bensiini',\n",
    "    'Hydrogen': np.nan\n",
    "}\n",
    "\n",
    "cars_hp['fuel'] = cars_hp['fuel'].apply(lambda x: fuel_dict.get(x, x))\n",
    "\n",
    "gear_dict = {\n",
    "    'Manual': 'Manuaali',\n",
    "    'Automatic': 'Automaatti',\n",
    "    'Semi-automatic': np.nan\n",
    "}\n",
    "\n",
    "cars_hp['gear'] = cars_hp['gear'].apply(lambda x: gear_dict.get(x, x))\n",
    "cars_hp = cars_hp.dropna()\n",
    "cars_hp"
   ],
   "metadata": {
    "collapsed": false,
    "ExecuteTime": {
     "end_time": "2023-11-07T10:25:43.243338Z",
     "start_time": "2023-11-07T10:25:43.189483Z"
    }
   }
  },
  {
   "cell_type": "code",
   "execution_count": 118,
   "outputs": [],
   "source": [
    "cars_hp_grouped_year = cars_hp.groupby(by=['make_model', 'year', 'gear', 'fuel'], as_index=False)['hp'].agg(pd.Series.mode)\n",
    "cars_hp_grouped = cars_hp.groupby(by=['make_model', 'gear', 'fuel'], as_index=False)['hp'].agg(pd.Series.mode)"
   ],
   "metadata": {
    "collapsed": false,
    "ExecuteTime": {
     "end_time": "2023-11-07T10:25:43.493384Z",
     "start_time": "2023-11-07T10:25:43.243450Z"
    }
   }
  },
  {
   "cell_type": "code",
   "execution_count": 119,
   "outputs": [],
   "source": [
    "data_grouped_year = data.groupby(by=['make_model', 'car_make', 'year', 'gearbox_type', 'fuel_type'], as_index=False)['engine_vol'].count()\n",
    "data_grouped = data.groupby(by=['make_model', 'gearbox_type', 'fuel_type'], as_index=False)['engine_vol'].count()"
   ],
   "metadata": {
    "collapsed": false,
    "ExecuteTime": {
     "end_time": "2023-11-07T10:25:43.499269Z",
     "start_time": "2023-11-07T10:25:43.494161Z"
    }
   }
  },
  {
   "cell_type": "code",
   "execution_count": 120,
   "outputs": [],
   "source": [
    "data_joined_year = pd.merge(\n",
    "    data_grouped_year,\n",
    "    cars_hp_grouped_year, \n",
    "    how='left', \n",
    "    left_on=['make_model', 'year', 'fuel_type', 'gearbox_type'],\n",
    "    right_on=['make_model', 'year', 'fuel', 'gear']\n",
    ")"
   ],
   "metadata": {
    "collapsed": false,
    "ExecuteTime": {
     "end_time": "2023-11-07T10:25:43.504623Z",
     "start_time": "2023-11-07T10:25:43.500145Z"
    }
   }
  },
  {
   "cell_type": "code",
   "execution_count": 121,
   "outputs": [],
   "source": [
    "data_joined = pd.merge(\n",
    "    data_joined_year,\n",
    "    cars_hp_grouped, \n",
    "    how='left', \n",
    "    left_on=['make_model', 'fuel_type', 'gearbox_type'],\n",
    "    right_on=['make_model', 'fuel', 'gear']\n",
    ")"
   ],
   "metadata": {
    "collapsed": false,
    "ExecuteTime": {
     "end_time": "2023-11-07T10:25:43.509691Z",
     "start_time": "2023-11-07T10:25:43.504910Z"
    }
   }
  },
  {
   "cell_type": "code",
   "execution_count": 122,
   "outputs": [],
   "source": [
    "data_joined['hp'] = np.where(data_joined['hp_x'].notna(), data_joined['hp_x'], data_joined['hp_y'])\n",
    "data_joined['hp'] = data_joined['hp'].apply(lambda x: x if isinstance(x, float) else mean(x))\n",
    "data_joined = data_joined.drop(columns=['engine_vol', 'gear_x', 'gear_y', 'fuel_x', 'fuel_y', 'hp_x', 'hp_y'])\n",
    "\n",
    "data_joined_make = data_joined.groupby(by='car_make')['hp'].mean()\n",
    "\n",
    "data_joined = pd.merge(\n",
    "    data_joined,\n",
    "    data_joined_make, \n",
    "    how='left', \n",
    "    on='car_make'\n",
    ")\n",
    "\n",
    "data_joined['hp'] = np.where(data_joined['hp_x'].notna(), data_joined['hp_x'], data_joined['hp_y'])\n",
    "data_joined = data_joined.drop(columns=['car_make', 'hp_x', 'hp_y'])"
   ],
   "metadata": {
    "collapsed": false,
    "ExecuteTime": {
     "end_time": "2023-11-07T10:25:43.514980Z",
     "start_time": "2023-11-07T10:25:43.509815Z"
    }
   }
  },
  {
   "cell_type": "code",
   "execution_count": 123,
   "outputs": [],
   "source": [
    "data = pd.merge(\n",
    "    data,\n",
    "    data_joined, \n",
    "    how='left', \n",
    "    on=['make_model', 'year', 'gearbox_type', 'fuel_type']\n",
    ")\n",
    "data['hp_x'] = np.where(data['hp_x'].notna(), data['hp_x'], data['power']/0.73549875)\n",
    "data['hp_x'] = np.where(data['hp_x'] > 59, data['hp_x'], data['hp_y'])\n",
    "data = data.drop(columns=['hp_y', 'power'])\n",
    "data = data.rename(columns={'hp_x': 'hp'})"
   ],
   "metadata": {
    "collapsed": false,
    "ExecuteTime": {
     "end_time": "2023-11-07T10:25:43.524312Z",
     "start_time": "2023-11-07T10:25:43.514340Z"
    }
   }
  },
  {
   "cell_type": "code",
   "execution_count": 124,
   "outputs": [],
   "source": [
    "hp_grouped = data.groupby(by=['engine_vol', 'year', 'fuel_type', 'gearbox_type'], as_index=False)['hp'].mean()\n",
    "hp_grouped['hp'] = hp_grouped['hp'].apply(lambda x: x if isinstance(x, float) else np.nan if len(x)==0 else mean(x))\n",
    "\n",
    "data = pd.merge(\n",
    "    data,\n",
    "    hp_grouped, \n",
    "    how='left', \n",
    "    on=['engine_vol', 'year', 'fuel_type', 'gearbox_type']\n",
    ")\n",
    "data['hp_x'] = np.where(data['hp_x'].notna(), data['hp_x'], data['hp_y'])\n",
    "data = data.drop(columns=['hp_y'])\n",
    "data = data.rename(columns={'hp_x': 'hp'})"
   ],
   "metadata": {
    "collapsed": false,
    "ExecuteTime": {
     "end_time": "2023-11-07T10:25:43.524450Z",
     "start_time": "2023-11-07T10:25:43.519902Z"
    }
   }
  },
  {
   "cell_type": "code",
   "execution_count": 125,
   "outputs": [],
   "source": [
    "hp_grouped_no_year = data.groupby(by=['engine_vol', 'fuel_type'], as_index=False)['hp'].mean()\n",
    "\n",
    "data = pd.merge(\n",
    "    data,\n",
    "    hp_grouped_no_year, \n",
    "    how='left', \n",
    "    on=['engine_vol', 'fuel_type']\n",
    ")\n",
    "data['hp_x'] = np.where(data['hp_x'].notna(), data['hp_x'], data['hp_y'])\n",
    "data = data.drop(columns=['hp_y'])\n",
    "data = data.rename(columns={'hp_x': 'hp'})"
   ],
   "metadata": {
    "collapsed": false,
    "ExecuteTime": {
     "end_time": "2023-11-07T10:25:43.533044Z",
     "start_time": "2023-11-07T10:25:43.525264Z"
    }
   }
  },
  {
   "cell_type": "code",
   "execution_count": 126,
   "outputs": [],
   "source": [
    "data['hp'] = data['hp'].fillna(data['hp'].mean())"
   ],
   "metadata": {
    "collapsed": false,
    "ExecuteTime": {
     "end_time": "2023-11-07T10:25:43.533221Z",
     "start_time": "2023-11-07T10:25:43.530271Z"
    }
   }
  },
  {
   "cell_type": "code",
   "execution_count": 127,
   "outputs": [],
   "source": [
    "cars_categories = cars.groupby(by=['make_model'], as_index=False)[['doors', 'category']].agg(pd.Series.mode)\n",
    "\n",
    "cars_categories['doors'] = cars_categories['doors'].apply(\n",
    "    lambda x: x.replace(' ', '') if isinstance(x, str) else x.tolist()[0].replace(' ', '')\n",
    ")\n",
    "\n",
    "cars_categories['category'] = cars_categories['category'].apply(lambda x: x if isinstance(x, str) else x.tolist()[0])"
   ],
   "metadata": {
    "collapsed": false,
    "ExecuteTime": {
     "end_time": "2023-11-07T10:25:43.691825Z",
     "start_time": "2023-11-07T10:25:43.534653Z"
    }
   }
  },
  {
   "cell_type": "code",
   "execution_count": 128,
   "outputs": [],
   "source": [
    "data = pd.merge(\n",
    "    data,\n",
    "    cars_categories, \n",
    "    how='left', \n",
    "    on='make_model'\n",
    ")\n",
    "\n",
    "data['category_x'] = np.where(data['category_x'].notna(), data['category_x'], data['category_y'])\n",
    "\n",
    "data['doors_x'] = np.where(data['doors_x'].notna(), data['doors_x'], data['doors_y'])\n",
    "\n",
    "data = data.drop(columns=['category_y', 'doors_y'])\n",
    "data = data.rename(columns={'category_x': 'category', 'doors_x': 'doors'})"
   ],
   "metadata": {
    "collapsed": false,
    "ExecuteTime": {
     "end_time": "2023-11-07T10:25:43.698058Z",
     "start_time": "2023-11-07T10:25:43.693952Z"
    }
   }
  },
  {
   "cell_type": "code",
   "execution_count": 129,
   "outputs": [],
   "source": [
    "category_door = cars.groupby(by=['category'], as_index=False)['doors'].agg(pd.Series.mode)\n",
    "category_door['doors'] = category_door['doors'].apply(\n",
    "    lambda x: x.replace(' ', ''))\n",
    "\n",
    "door_category = cars.groupby(by=['doors'], as_index=False)['category'].agg(pd.Series.mode)\n",
    "door_category['doors'] = door_category['doors'].apply(\n",
    "    lambda x: x.replace(' ', ''))\n",
    "\n",
    "data = pd.merge(\n",
    "    data,\n",
    "    category_door, \n",
    "    how='left', \n",
    "    on='category'\n",
    ")\n",
    "\n",
    "data['doors_x'] = np.where(data['doors_x'].notna(), data['doors_x'], data['doors_y'])\n",
    "\n",
    "data = data.drop(columns=['doors_y'])\n",
    "data = data.rename(columns={'doors_x': 'doors'})\n",
    "\n",
    "data = pd.merge(\n",
    "    data,\n",
    "    door_category, \n",
    "    how='left', \n",
    "    on='doors'\n",
    ")\n",
    "\n",
    "data['category_x'] = np.where(data['category_x'].notna(), data['category_x'], data['category_y'])\n",
    "\n",
    "data = data.drop(columns=['category_y'])\n",
    "data = data.rename(columns={'category_x': 'category'})\n",
    "\n",
    "data = pd.merge(\n",
    "    data,\n",
    "    category_door, \n",
    "    how='left', \n",
    "    on='category'\n",
    ")\n",
    "\n",
    "data['doors_x'] = np.where(data['doors_x'].notna(), data['doors_x'], data['doors_y'])\n",
    "\n",
    "data = data.drop(columns=['doors_y'])\n",
    "data = data.rename(columns={'doors_x': 'doors'})"
   ],
   "metadata": {
    "collapsed": false,
    "ExecuteTime": {
     "end_time": "2023-11-07T10:25:43.722559Z",
     "start_time": "2023-11-07T10:25:43.701871Z"
    }
   }
  },
  {
   "cell_type": "code",
   "execution_count": 130,
   "outputs": [],
   "source": [
    "data['engine_vol'] = data['engine_vol'].astype(float)"
   ],
   "metadata": {
    "collapsed": false,
    "ExecuteTime": {
     "end_time": "2023-11-07T10:25:43.722769Z",
     "start_time": "2023-11-07T10:25:43.721082Z"
    }
   }
  },
  {
   "cell_type": "code",
   "execution_count": 131,
   "outputs": [],
   "source": [
    "main_data = pd.read_csv('data/data_clean.csv', index_col=0)\n",
    "car_companies = main_data[main_data['is_company'] == 1].groupby(by='car_seller')['town'].count().index\n",
    "main_data = main_data[[\n",
    "    'engine_vol', 'make_model', 'awd', 'category', \n",
    "    'doors', 'hp', 'capacity', 'fuel_type',\n",
    "    'price_category', 'gearbox_type']]\n",
    "md_grouped = main_data.groupby(by=['make_model', 'fuel_type', 'engine_vol'], as_index=False).agg(pd.Series.mode)\n",
    "\n",
    "data = pd.merge(\n",
    "    data,\n",
    "    md_grouped, \n",
    "    how='left', \n",
    "    on=['make_model', 'engine_vol', 'fuel_type']\n",
    ")\n",
    "\n",
    "data['awd_x'] = np.where(data['awd_x'].notna(), data['awd_x'], data['awd_y'])\n",
    "data['category_x'] = np.where(data['category_x'].notna(), data['category_x'], data['category_y'])\n",
    "data['doors_x'] = np.where(data['doors_x'].notna(), data['doors_x'], data['doors_y'])\n",
    "data['hp_x'] = np.where(data['hp_x'].notna(), data['hp_x'], data['hp_y'])\n",
    "data['capacity_x'] = np.where(data['capacity_x'].notna(), data['capacity_x'], data['capacity_y'])\n",
    "data['gearbox_type_x'] = np.where(data['gearbox_type_x'].notna(), data['gearbox_type_x'], data['gearbox_type_y'])\n",
    "\n",
    "data = data.drop(columns=['awd_y', 'doors_y', 'category_y', 'hp_y', 'capacity_y', 'gearbox_type_y'])\n",
    "data = data.rename(columns={\n",
    "    'doors_x': 'doors', \n",
    "    'awd_x': 'awd',\n",
    "    'category_x': 'category',\n",
    "    'hp_x': 'hp',\n",
    "    'capacity_x': 'capacity',\n",
    "    'gearbox_type_x': 'gearbox_type'\n",
    "})"
   ],
   "metadata": {
    "collapsed": false,
    "ExecuteTime": {
     "end_time": "2023-11-07T10:25:44.718376Z",
     "start_time": "2023-11-07T10:25:43.724930Z"
    }
   }
  },
  {
   "cell_type": "code",
   "execution_count": 132,
   "outputs": [],
   "source": [
    "def get_hp_cat(hp_value):\n",
    "    if hp_value < 100:\n",
    "        return 'low (less 100)'\n",
    "    elif hp_value < 170:\n",
    "        return 'medium (less 170)'\n",
    "    elif hp_value < 270:\n",
    "        return 'high (less 270)'\n",
    "    else:\n",
    "        return 'max (more 270)'\n",
    "    \n",
    "data['hp_cat'] = data['hp'].apply(get_hp_cat)"
   ],
   "metadata": {
    "collapsed": false,
    "ExecuteTime": {
     "end_time": "2023-11-07T10:25:44.721010Z",
     "start_time": "2023-11-07T10:25:44.719656Z"
    }
   }
  },
  {
   "cell_type": "markdown",
   "source": [
    "Some cars are sold by individuals, others are sold by car companies. I'll mark them as categorical."
   ],
   "metadata": {
    "collapsed": false
   }
  },
  {
   "cell_type": "code",
   "execution_count": 133,
   "outputs": [],
   "source": [
    "company_tags = [' oy', 'tmi ', '.fi', 't:mi ', ' ky', '.com', ' ab', 'oy ', ' oü']\n",
    "\n",
    "def is_company(sample_string, car_companies, company_tags):\n",
    "    if sample_string in car_companies:\n",
    "        return 1\n",
    "    else:        \n",
    "        for tag in company_tags:\n",
    "            if tag in sample_string:\n",
    "                return 1\n",
    "        return 0\n",
    "\n",
    "data['is_company'] = data['car_seller'].apply(lambda x: is_company(x, car_companies, company_tags))"
   ],
   "metadata": {
    "collapsed": false,
    "ExecuteTime": {
     "end_time": "2023-11-07T10:25:44.726480Z",
     "start_time": "2023-11-07T10:25:44.723889Z"
    }
   }
  },
  {
   "cell_type": "code",
   "execution_count": 134,
   "outputs": [],
   "source": [
    "population = pd.read_excel('data/001_11lj_2023m08_20231024-194749.xlsx')\n",
    "population = population.dropna(\n",
    "    subset=['Unnamed: 1', 'Unnamed: 2']).reset_index(drop=True).drop(\n",
    "    columns='Preliminary population structure by Month, Area and Information').rename(\n",
    "    columns={'Unnamed: 1': 'town', 'Unnamed: 2': 'population'})\n",
    "\n",
    "population['population'] = population['population'].astype(int)\n",
    "\n",
    "data = pd.merge(\n",
    "    data,\n",
    "    population, \n",
    "    how='left', \n",
    "    on='town'\n",
    ")\n",
    "\n",
    "data['population'] = data['population'].fillna(data['population'].median()) "
   ],
   "metadata": {
    "collapsed": false,
    "ExecuteTime": {
     "end_time": "2023-11-07T10:25:44.756418Z",
     "start_time": "2023-11-07T10:25:44.726861Z"
    }
   }
  },
  {
   "cell_type": "code",
   "execution_count": 135,
   "outputs": [],
   "source": [
    "def get_city_cat(population):\n",
    "    if population <= 6000:\n",
    "        return 'Very small (0-6k)'\n",
    "    elif population <= 20000:\n",
    "        return 'Small (6k-20k)'\n",
    "    elif population <= 50000:\n",
    "        return 'Medium (20-50k)'\n",
    "    elif population <= 100000:\n",
    "        return 'Big (50-100k)'\n",
    "    else:\n",
    "        return 'Biggest (more 100k)'\n",
    "    \n",
    "data['town_category'] = data['population'].apply(get_city_cat)"
   ],
   "metadata": {
    "collapsed": false,
    "ExecuteTime": {
     "end_time": "2023-11-07T10:25:44.757348Z",
     "start_time": "2023-11-07T10:25:44.742463Z"
    }
   }
  },
  {
   "cell_type": "code",
   "execution_count": 136,
   "outputs": [],
   "source": [
    "for i in data.columns[data.isna().any()]:\n",
    "    data[i] = data[i].fillna(data[i].mode()[0])"
   ],
   "metadata": {
    "collapsed": false,
    "ExecuteTime": {
     "end_time": "2023-11-07T10:25:44.757404Z",
     "start_time": "2023-11-07T10:25:44.747911Z"
    }
   }
  },
  {
   "cell_type": "code",
   "execution_count": 137,
   "outputs": [
    {
     "data": {
      "text/plain": "         town                                                 id  engine_vol  \\\n0      Vantaa   https://www.nettiauto.com/skoda/octavia/13704517         1.4   \n1     Nummela    https://www.nettiauto.com/toyota/camry/13811148         2.5   \n2     Kajaani     https://www.nettiauto.com/ford/mondeo/13901773         1.8   \n3     Loviisa      https://www.nettiauto.com/fiat/marea/13860523         1.6   \n4      Vantaa     https://www.nettiauto.com/peugeot/306/13862925         1.6   \n...       ...                                                ...         ...   \n1329  Kouvola  https://www.nettiauto.com/chrysler/sebring/139...         2.7   \n1330  Varkaus        https://www.nettiauto.com/saab/9-5/13916900         2.0   \n1331    Espoo  https://www.nettiauto.com/volkswagen/bora/1392...         1.6   \n1332   Porvoo       https://www.nettiauto.com/volvo/v70/13921671         2.4   \n1333   Kuopio       https://www.nettiauto.com/mazda/323/13923347         1.5   \n\n        car_make    model        make_model  awd     category doors   hp  ...  \\\n0          Skoda  Octavia     skoda octavia    0    Universal   4/5  191  ...   \n1         Toyota    Camry      toyota camry    0        Sedan   4/5  218  ...   \n2           Ford   Mondeo       ford mondeo    0        Sedan   4/5  160  ...   \n3           Fiat    Marea        fiat marea    0        Sedan   4/5   81  ...   \n4        Peugeot      306       peugeot 306    0        Sedan   4/5   87  ...   \n...          ...      ...               ...  ...          ...   ...  ...  ...   \n1329    Chrysler  Sebring  chrysler sebring    0    Cabriolet   2/3  287  ...   \n1330        Saab      9-5          saab 9-5    0        Sedan   4/5  287  ...   \n1331  Volkswagen     Bora   volkswagen bora    0        Sedan   4/5  104  ...   \n1332       Volvo      V70         volvo v70    0  Goods wagon   4/5  215  ...   \n1333       Mazda      323         mazda 323    0    Hatchback   4/5  142  ...   \n\n      mileage                 fuel_type                     car_seller  \\\n0       62000                  Bensiini          future store drivalia   \n1       94000  Hybridi (bensiini/sähkö)                 auto-huiput oy   \n2      428000                  Bensiini  markus rikhard juhani lavonen   \n3      260000                  Bensiini                tiina karttiala   \n4      235987                  Bensiini                berts birznieks   \n...       ...                       ...                            ...   \n1329   148128                  Bensiini               lasse huhtaniemi   \n1330   402000              E85/bensiini                    juha laakko   \n1331   234821                  Bensiini                 oskari sandell   \n1332   505000                    Diesel                 antti saranoja   \n1333   279000                  Bensiini                   atte vuorela   \n\n     car_price price_category             hp_cat is_company population  \\\n0        21750        Highend    high (less 270)          0   245384.0   \n1        26990         Medium    high (less 270)          1    33352.0   \n2          220         Medium  medium (less 170)          0    36315.0   \n3          250         Medium     low (less 100)          0    14442.0   \n4          250         Medium     low (less 100)          0   245384.0   \n...        ...            ...                ...        ...        ...   \n1329      1300         Budget     max (more 270)          0    79080.0   \n1330      1300         Budget     max (more 270)          0    19655.0   \n1331      1300         Medium  medium (less 170)          0   310912.0   \n1332      1300        Highend    high (less 270)          0    51267.0   \n1333      1300         Medium  medium (less 170)          0   123239.0   \n\n            town_category  manual_gearbox  \n0     Biggest (more 100k)               0  \n1         Medium (20-50k)               0  \n2         Medium (20-50k)               1  \n3          Small (6k-20k)               1  \n4     Biggest (more 100k)               1  \n...                   ...             ...  \n1329        Big (50-100k)               0  \n1330       Small (6k-20k)               1  \n1331  Biggest (more 100k)               1  \n1332        Big (50-100k)               0  \n1333  Biggest (more 100k)               1  \n\n[1334 rows x 22 columns]",
      "text/html": "<div>\n<style scoped>\n    .dataframe tbody tr th:only-of-type {\n        vertical-align: middle;\n    }\n\n    .dataframe tbody tr th {\n        vertical-align: top;\n    }\n\n    .dataframe thead th {\n        text-align: right;\n    }\n</style>\n<table border=\"1\" class=\"dataframe\">\n  <thead>\n    <tr style=\"text-align: right;\">\n      <th></th>\n      <th>town</th>\n      <th>id</th>\n      <th>engine_vol</th>\n      <th>car_make</th>\n      <th>model</th>\n      <th>make_model</th>\n      <th>awd</th>\n      <th>category</th>\n      <th>doors</th>\n      <th>hp</th>\n      <th>...</th>\n      <th>mileage</th>\n      <th>fuel_type</th>\n      <th>car_seller</th>\n      <th>car_price</th>\n      <th>price_category</th>\n      <th>hp_cat</th>\n      <th>is_company</th>\n      <th>population</th>\n      <th>town_category</th>\n      <th>manual_gearbox</th>\n    </tr>\n  </thead>\n  <tbody>\n    <tr>\n      <th>0</th>\n      <td>Vantaa</td>\n      <td>https://www.nettiauto.com/skoda/octavia/13704517</td>\n      <td>1.4</td>\n      <td>Skoda</td>\n      <td>Octavia</td>\n      <td>skoda octavia</td>\n      <td>0</td>\n      <td>Universal</td>\n      <td>4/5</td>\n      <td>191</td>\n      <td>...</td>\n      <td>62000</td>\n      <td>Bensiini</td>\n      <td>future store drivalia</td>\n      <td>21750</td>\n      <td>Highend</td>\n      <td>high (less 270)</td>\n      <td>0</td>\n      <td>245384.0</td>\n      <td>Biggest (more 100k)</td>\n      <td>0</td>\n    </tr>\n    <tr>\n      <th>1</th>\n      <td>Nummela</td>\n      <td>https://www.nettiauto.com/toyota/camry/13811148</td>\n      <td>2.5</td>\n      <td>Toyota</td>\n      <td>Camry</td>\n      <td>toyota camry</td>\n      <td>0</td>\n      <td>Sedan</td>\n      <td>4/5</td>\n      <td>218</td>\n      <td>...</td>\n      <td>94000</td>\n      <td>Hybridi (bensiini/sähkö)</td>\n      <td>auto-huiput oy</td>\n      <td>26990</td>\n      <td>Medium</td>\n      <td>high (less 270)</td>\n      <td>1</td>\n      <td>33352.0</td>\n      <td>Medium (20-50k)</td>\n      <td>0</td>\n    </tr>\n    <tr>\n      <th>2</th>\n      <td>Kajaani</td>\n      <td>https://www.nettiauto.com/ford/mondeo/13901773</td>\n      <td>1.8</td>\n      <td>Ford</td>\n      <td>Mondeo</td>\n      <td>ford mondeo</td>\n      <td>0</td>\n      <td>Sedan</td>\n      <td>4/5</td>\n      <td>160</td>\n      <td>...</td>\n      <td>428000</td>\n      <td>Bensiini</td>\n      <td>markus rikhard juhani lavonen</td>\n      <td>220</td>\n      <td>Medium</td>\n      <td>medium (less 170)</td>\n      <td>0</td>\n      <td>36315.0</td>\n      <td>Medium (20-50k)</td>\n      <td>1</td>\n    </tr>\n    <tr>\n      <th>3</th>\n      <td>Loviisa</td>\n      <td>https://www.nettiauto.com/fiat/marea/13860523</td>\n      <td>1.6</td>\n      <td>Fiat</td>\n      <td>Marea</td>\n      <td>fiat marea</td>\n      <td>0</td>\n      <td>Sedan</td>\n      <td>4/5</td>\n      <td>81</td>\n      <td>...</td>\n      <td>260000</td>\n      <td>Bensiini</td>\n      <td>tiina karttiala</td>\n      <td>250</td>\n      <td>Medium</td>\n      <td>low (less 100)</td>\n      <td>0</td>\n      <td>14442.0</td>\n      <td>Small (6k-20k)</td>\n      <td>1</td>\n    </tr>\n    <tr>\n      <th>4</th>\n      <td>Vantaa</td>\n      <td>https://www.nettiauto.com/peugeot/306/13862925</td>\n      <td>1.6</td>\n      <td>Peugeot</td>\n      <td>306</td>\n      <td>peugeot 306</td>\n      <td>0</td>\n      <td>Sedan</td>\n      <td>4/5</td>\n      <td>87</td>\n      <td>...</td>\n      <td>235987</td>\n      <td>Bensiini</td>\n      <td>berts birznieks</td>\n      <td>250</td>\n      <td>Medium</td>\n      <td>low (less 100)</td>\n      <td>0</td>\n      <td>245384.0</td>\n      <td>Biggest (more 100k)</td>\n      <td>1</td>\n    </tr>\n    <tr>\n      <th>...</th>\n      <td>...</td>\n      <td>...</td>\n      <td>...</td>\n      <td>...</td>\n      <td>...</td>\n      <td>...</td>\n      <td>...</td>\n      <td>...</td>\n      <td>...</td>\n      <td>...</td>\n      <td>...</td>\n      <td>...</td>\n      <td>...</td>\n      <td>...</td>\n      <td>...</td>\n      <td>...</td>\n      <td>...</td>\n      <td>...</td>\n      <td>...</td>\n      <td>...</td>\n      <td>...</td>\n    </tr>\n    <tr>\n      <th>1329</th>\n      <td>Kouvola</td>\n      <td>https://www.nettiauto.com/chrysler/sebring/139...</td>\n      <td>2.7</td>\n      <td>Chrysler</td>\n      <td>Sebring</td>\n      <td>chrysler sebring</td>\n      <td>0</td>\n      <td>Cabriolet</td>\n      <td>2/3</td>\n      <td>287</td>\n      <td>...</td>\n      <td>148128</td>\n      <td>Bensiini</td>\n      <td>lasse huhtaniemi</td>\n      <td>1300</td>\n      <td>Budget</td>\n      <td>max (more 270)</td>\n      <td>0</td>\n      <td>79080.0</td>\n      <td>Big (50-100k)</td>\n      <td>0</td>\n    </tr>\n    <tr>\n      <th>1330</th>\n      <td>Varkaus</td>\n      <td>https://www.nettiauto.com/saab/9-5/13916900</td>\n      <td>2.0</td>\n      <td>Saab</td>\n      <td>9-5</td>\n      <td>saab 9-5</td>\n      <td>0</td>\n      <td>Sedan</td>\n      <td>4/5</td>\n      <td>287</td>\n      <td>...</td>\n      <td>402000</td>\n      <td>E85/bensiini</td>\n      <td>juha laakko</td>\n      <td>1300</td>\n      <td>Budget</td>\n      <td>max (more 270)</td>\n      <td>0</td>\n      <td>19655.0</td>\n      <td>Small (6k-20k)</td>\n      <td>1</td>\n    </tr>\n    <tr>\n      <th>1331</th>\n      <td>Espoo</td>\n      <td>https://www.nettiauto.com/volkswagen/bora/1392...</td>\n      <td>1.6</td>\n      <td>Volkswagen</td>\n      <td>Bora</td>\n      <td>volkswagen bora</td>\n      <td>0</td>\n      <td>Sedan</td>\n      <td>4/5</td>\n      <td>104</td>\n      <td>...</td>\n      <td>234821</td>\n      <td>Bensiini</td>\n      <td>oskari sandell</td>\n      <td>1300</td>\n      <td>Medium</td>\n      <td>medium (less 170)</td>\n      <td>0</td>\n      <td>310912.0</td>\n      <td>Biggest (more 100k)</td>\n      <td>1</td>\n    </tr>\n    <tr>\n      <th>1332</th>\n      <td>Porvoo</td>\n      <td>https://www.nettiauto.com/volvo/v70/13921671</td>\n      <td>2.4</td>\n      <td>Volvo</td>\n      <td>V70</td>\n      <td>volvo v70</td>\n      <td>0</td>\n      <td>Goods wagon</td>\n      <td>4/5</td>\n      <td>215</td>\n      <td>...</td>\n      <td>505000</td>\n      <td>Diesel</td>\n      <td>antti saranoja</td>\n      <td>1300</td>\n      <td>Highend</td>\n      <td>high (less 270)</td>\n      <td>0</td>\n      <td>51267.0</td>\n      <td>Big (50-100k)</td>\n      <td>0</td>\n    </tr>\n    <tr>\n      <th>1333</th>\n      <td>Kuopio</td>\n      <td>https://www.nettiauto.com/mazda/323/13923347</td>\n      <td>1.5</td>\n      <td>Mazda</td>\n      <td>323</td>\n      <td>mazda 323</td>\n      <td>0</td>\n      <td>Hatchback</td>\n      <td>4/5</td>\n      <td>142</td>\n      <td>...</td>\n      <td>279000</td>\n      <td>Bensiini</td>\n      <td>atte vuorela</td>\n      <td>1300</td>\n      <td>Medium</td>\n      <td>medium (less 170)</td>\n      <td>0</td>\n      <td>123239.0</td>\n      <td>Biggest (more 100k)</td>\n      <td>1</td>\n    </tr>\n  </tbody>\n</table>\n<p>1334 rows × 22 columns</p>\n</div>"
     },
     "execution_count": 137,
     "metadata": {},
     "output_type": "execute_result"
    }
   ],
   "source": [
    "data['mileage'] = data['mileage'].astype(int)\n",
    "data['awd'] = data['awd'].astype(int)\n",
    "data['hp'] = data['hp'].astype(int)\n",
    "data['capacity'] = data['capacity'].astype(int)\n",
    "data['manual_gearbox'] = data['gearbox_type'].apply(lambda x: 1 if x=='Manuaali' else 0)\n",
    "data = data.drop(columns=['year', 'gearbox_type'])\n",
    "data"
   ],
   "metadata": {
    "collapsed": false,
    "ExecuteTime": {
     "end_time": "2023-11-07T10:25:44.767376Z",
     "start_time": "2023-11-07T10:25:44.751587Z"
    }
   }
  },
  {
   "cell_type": "code",
   "execution_count": 138,
   "outputs": [],
   "source": [
    "data['category'] = data['category'].apply(lambda x: x[0] if type(x) is np.ndarray else x)\n",
    "data['doors'] = data['doors'].apply(lambda x: x[0] if type(x) is np.ndarray else x)"
   ],
   "metadata": {
    "collapsed": false,
    "ExecuteTime": {
     "end_time": "2023-11-07T10:25:44.767494Z",
     "start_time": "2023-11-07T10:25:44.761655Z"
    }
   }
  },
  {
   "cell_type": "code",
   "execution_count": 139,
   "outputs": [
    {
     "data": {
      "text/plain": "         town                                                 id  engine_vol  \\\n0      Vantaa   https://www.nettiauto.com/skoda/octavia/13704517         1.4   \n1     Nummela    https://www.nettiauto.com/toyota/camry/13811148         2.5   \n2     Kajaani     https://www.nettiauto.com/ford/mondeo/13901773         1.8   \n3     Loviisa      https://www.nettiauto.com/fiat/marea/13860523         1.6   \n4      Vantaa     https://www.nettiauto.com/peugeot/306/13862925         1.6   \n...       ...                                                ...         ...   \n1328  Kouvola  https://www.nettiauto.com/chrysler/sebring/139...         2.7   \n1329  Varkaus        https://www.nettiauto.com/saab/9-5/13916900         2.0   \n1330    Espoo  https://www.nettiauto.com/volkswagen/bora/1392...         1.6   \n1331   Porvoo       https://www.nettiauto.com/volvo/v70/13921671         2.4   \n1332   Kuopio       https://www.nettiauto.com/mazda/323/13923347         1.5   \n\n        car_make    model        make_model  awd     category doors   hp  ...  \\\n0          Skoda  Octavia     skoda octavia    0    Universal   4/5  191  ...   \n1         Toyota    Camry      toyota camry    0        Sedan   4/5  218  ...   \n2           Ford   Mondeo       ford mondeo    0        Sedan   4/5  160  ...   \n3           Fiat    Marea        fiat marea    0        Sedan   4/5   81  ...   \n4        Peugeot      306       peugeot 306    0        Sedan   4/5   87  ...   \n...          ...      ...               ...  ...          ...   ...  ...  ...   \n1328    Chrysler  Sebring  chrysler sebring    0    Cabriolet   2/3  287  ...   \n1329        Saab      9-5          saab 9-5    0        Sedan   4/5  287  ...   \n1330  Volkswagen     Bora   volkswagen bora    0        Sedan   4/5  104  ...   \n1331       Volvo      V70         volvo v70    0  Goods wagon   4/5  215  ...   \n1332       Mazda      323         mazda 323    0    Hatchback   4/5  142  ...   \n\n      mileage                 fuel_type                     car_seller  \\\n0       62000                  Bensiini          future store drivalia   \n1       94000  Hybridi (bensiini/sähkö)                 auto-huiput oy   \n2      428000                  Bensiini  markus rikhard juhani lavonen   \n3      260000                  Bensiini                tiina karttiala   \n4      235987                  Bensiini                berts birznieks   \n...       ...                       ...                            ...   \n1328   148128                  Bensiini               lasse huhtaniemi   \n1329   402000              E85/bensiini                    juha laakko   \n1330   234821                  Bensiini                 oskari sandell   \n1331   505000                    Diesel                 antti saranoja   \n1332   279000                  Bensiini                   atte vuorela   \n\n     car_price price_category             hp_cat is_company population  \\\n0        21750        Highend    high (less 270)          0   245384.0   \n1        26990         Medium    high (less 270)          1    33352.0   \n2          220         Medium  medium (less 170)          0    36315.0   \n3          250         Medium     low (less 100)          0    14442.0   \n4          250         Medium     low (less 100)          0   245384.0   \n...        ...            ...                ...        ...        ...   \n1328      1300         Budget     max (more 270)          0    79080.0   \n1329      1300         Budget     max (more 270)          0    19655.0   \n1330      1300         Medium  medium (less 170)          0   310912.0   \n1331      1300        Highend    high (less 270)          0    51267.0   \n1332      1300         Medium  medium (less 170)          0   123239.0   \n\n            town_category  manual_gearbox  \n0     Biggest (more 100k)               0  \n1         Medium (20-50k)               0  \n2         Medium (20-50k)               1  \n3          Small (6k-20k)               1  \n4     Biggest (more 100k)               1  \n...                   ...             ...  \n1328        Big (50-100k)               0  \n1329       Small (6k-20k)               1  \n1330  Biggest (more 100k)               1  \n1331        Big (50-100k)               0  \n1332  Biggest (more 100k)               1  \n\n[1333 rows x 22 columns]",
      "text/html": "<div>\n<style scoped>\n    .dataframe tbody tr th:only-of-type {\n        vertical-align: middle;\n    }\n\n    .dataframe tbody tr th {\n        vertical-align: top;\n    }\n\n    .dataframe thead th {\n        text-align: right;\n    }\n</style>\n<table border=\"1\" class=\"dataframe\">\n  <thead>\n    <tr style=\"text-align: right;\">\n      <th></th>\n      <th>town</th>\n      <th>id</th>\n      <th>engine_vol</th>\n      <th>car_make</th>\n      <th>model</th>\n      <th>make_model</th>\n      <th>awd</th>\n      <th>category</th>\n      <th>doors</th>\n      <th>hp</th>\n      <th>...</th>\n      <th>mileage</th>\n      <th>fuel_type</th>\n      <th>car_seller</th>\n      <th>car_price</th>\n      <th>price_category</th>\n      <th>hp_cat</th>\n      <th>is_company</th>\n      <th>population</th>\n      <th>town_category</th>\n      <th>manual_gearbox</th>\n    </tr>\n  </thead>\n  <tbody>\n    <tr>\n      <th>0</th>\n      <td>Vantaa</td>\n      <td>https://www.nettiauto.com/skoda/octavia/13704517</td>\n      <td>1.4</td>\n      <td>Skoda</td>\n      <td>Octavia</td>\n      <td>skoda octavia</td>\n      <td>0</td>\n      <td>Universal</td>\n      <td>4/5</td>\n      <td>191</td>\n      <td>...</td>\n      <td>62000</td>\n      <td>Bensiini</td>\n      <td>future store drivalia</td>\n      <td>21750</td>\n      <td>Highend</td>\n      <td>high (less 270)</td>\n      <td>0</td>\n      <td>245384.0</td>\n      <td>Biggest (more 100k)</td>\n      <td>0</td>\n    </tr>\n    <tr>\n      <th>1</th>\n      <td>Nummela</td>\n      <td>https://www.nettiauto.com/toyota/camry/13811148</td>\n      <td>2.5</td>\n      <td>Toyota</td>\n      <td>Camry</td>\n      <td>toyota camry</td>\n      <td>0</td>\n      <td>Sedan</td>\n      <td>4/5</td>\n      <td>218</td>\n      <td>...</td>\n      <td>94000</td>\n      <td>Hybridi (bensiini/sähkö)</td>\n      <td>auto-huiput oy</td>\n      <td>26990</td>\n      <td>Medium</td>\n      <td>high (less 270)</td>\n      <td>1</td>\n      <td>33352.0</td>\n      <td>Medium (20-50k)</td>\n      <td>0</td>\n    </tr>\n    <tr>\n      <th>2</th>\n      <td>Kajaani</td>\n      <td>https://www.nettiauto.com/ford/mondeo/13901773</td>\n      <td>1.8</td>\n      <td>Ford</td>\n      <td>Mondeo</td>\n      <td>ford mondeo</td>\n      <td>0</td>\n      <td>Sedan</td>\n      <td>4/5</td>\n      <td>160</td>\n      <td>...</td>\n      <td>428000</td>\n      <td>Bensiini</td>\n      <td>markus rikhard juhani lavonen</td>\n      <td>220</td>\n      <td>Medium</td>\n      <td>medium (less 170)</td>\n      <td>0</td>\n      <td>36315.0</td>\n      <td>Medium (20-50k)</td>\n      <td>1</td>\n    </tr>\n    <tr>\n      <th>3</th>\n      <td>Loviisa</td>\n      <td>https://www.nettiauto.com/fiat/marea/13860523</td>\n      <td>1.6</td>\n      <td>Fiat</td>\n      <td>Marea</td>\n      <td>fiat marea</td>\n      <td>0</td>\n      <td>Sedan</td>\n      <td>4/5</td>\n      <td>81</td>\n      <td>...</td>\n      <td>260000</td>\n      <td>Bensiini</td>\n      <td>tiina karttiala</td>\n      <td>250</td>\n      <td>Medium</td>\n      <td>low (less 100)</td>\n      <td>0</td>\n      <td>14442.0</td>\n      <td>Small (6k-20k)</td>\n      <td>1</td>\n    </tr>\n    <tr>\n      <th>4</th>\n      <td>Vantaa</td>\n      <td>https://www.nettiauto.com/peugeot/306/13862925</td>\n      <td>1.6</td>\n      <td>Peugeot</td>\n      <td>306</td>\n      <td>peugeot 306</td>\n      <td>0</td>\n      <td>Sedan</td>\n      <td>4/5</td>\n      <td>87</td>\n      <td>...</td>\n      <td>235987</td>\n      <td>Bensiini</td>\n      <td>berts birznieks</td>\n      <td>250</td>\n      <td>Medium</td>\n      <td>low (less 100)</td>\n      <td>0</td>\n      <td>245384.0</td>\n      <td>Biggest (more 100k)</td>\n      <td>1</td>\n    </tr>\n    <tr>\n      <th>...</th>\n      <td>...</td>\n      <td>...</td>\n      <td>...</td>\n      <td>...</td>\n      <td>...</td>\n      <td>...</td>\n      <td>...</td>\n      <td>...</td>\n      <td>...</td>\n      <td>...</td>\n      <td>...</td>\n      <td>...</td>\n      <td>...</td>\n      <td>...</td>\n      <td>...</td>\n      <td>...</td>\n      <td>...</td>\n      <td>...</td>\n      <td>...</td>\n      <td>...</td>\n      <td>...</td>\n    </tr>\n    <tr>\n      <th>1328</th>\n      <td>Kouvola</td>\n      <td>https://www.nettiauto.com/chrysler/sebring/139...</td>\n      <td>2.7</td>\n      <td>Chrysler</td>\n      <td>Sebring</td>\n      <td>chrysler sebring</td>\n      <td>0</td>\n      <td>Cabriolet</td>\n      <td>2/3</td>\n      <td>287</td>\n      <td>...</td>\n      <td>148128</td>\n      <td>Bensiini</td>\n      <td>lasse huhtaniemi</td>\n      <td>1300</td>\n      <td>Budget</td>\n      <td>max (more 270)</td>\n      <td>0</td>\n      <td>79080.0</td>\n      <td>Big (50-100k)</td>\n      <td>0</td>\n    </tr>\n    <tr>\n      <th>1329</th>\n      <td>Varkaus</td>\n      <td>https://www.nettiauto.com/saab/9-5/13916900</td>\n      <td>2.0</td>\n      <td>Saab</td>\n      <td>9-5</td>\n      <td>saab 9-5</td>\n      <td>0</td>\n      <td>Sedan</td>\n      <td>4/5</td>\n      <td>287</td>\n      <td>...</td>\n      <td>402000</td>\n      <td>E85/bensiini</td>\n      <td>juha laakko</td>\n      <td>1300</td>\n      <td>Budget</td>\n      <td>max (more 270)</td>\n      <td>0</td>\n      <td>19655.0</td>\n      <td>Small (6k-20k)</td>\n      <td>1</td>\n    </tr>\n    <tr>\n      <th>1330</th>\n      <td>Espoo</td>\n      <td>https://www.nettiauto.com/volkswagen/bora/1392...</td>\n      <td>1.6</td>\n      <td>Volkswagen</td>\n      <td>Bora</td>\n      <td>volkswagen bora</td>\n      <td>0</td>\n      <td>Sedan</td>\n      <td>4/5</td>\n      <td>104</td>\n      <td>...</td>\n      <td>234821</td>\n      <td>Bensiini</td>\n      <td>oskari sandell</td>\n      <td>1300</td>\n      <td>Medium</td>\n      <td>medium (less 170)</td>\n      <td>0</td>\n      <td>310912.0</td>\n      <td>Biggest (more 100k)</td>\n      <td>1</td>\n    </tr>\n    <tr>\n      <th>1331</th>\n      <td>Porvoo</td>\n      <td>https://www.nettiauto.com/volvo/v70/13921671</td>\n      <td>2.4</td>\n      <td>Volvo</td>\n      <td>V70</td>\n      <td>volvo v70</td>\n      <td>0</td>\n      <td>Goods wagon</td>\n      <td>4/5</td>\n      <td>215</td>\n      <td>...</td>\n      <td>505000</td>\n      <td>Diesel</td>\n      <td>antti saranoja</td>\n      <td>1300</td>\n      <td>Highend</td>\n      <td>high (less 270)</td>\n      <td>0</td>\n      <td>51267.0</td>\n      <td>Big (50-100k)</td>\n      <td>0</td>\n    </tr>\n    <tr>\n      <th>1332</th>\n      <td>Kuopio</td>\n      <td>https://www.nettiauto.com/mazda/323/13923347</td>\n      <td>1.5</td>\n      <td>Mazda</td>\n      <td>323</td>\n      <td>mazda 323</td>\n      <td>0</td>\n      <td>Hatchback</td>\n      <td>4/5</td>\n      <td>142</td>\n      <td>...</td>\n      <td>279000</td>\n      <td>Bensiini</td>\n      <td>atte vuorela</td>\n      <td>1300</td>\n      <td>Medium</td>\n      <td>medium (less 170)</td>\n      <td>0</td>\n      <td>123239.0</td>\n      <td>Biggest (more 100k)</td>\n      <td>1</td>\n    </tr>\n  </tbody>\n</table>\n<p>1333 rows × 22 columns</p>\n</div>"
     },
     "execution_count": 139,
     "metadata": {},
     "output_type": "execute_result"
    }
   ],
   "source": [
    "data = data.dropna()\n",
    "data = data.drop_duplicates()\n",
    "data.reset_index(drop=True)"
   ],
   "metadata": {
    "collapsed": false,
    "ExecuteTime": {
     "end_time": "2023-11-07T10:25:44.776456Z",
     "start_time": "2023-11-07T10:25:44.764421Z"
    }
   }
  },
  {
   "cell_type": "code",
   "execution_count": 140,
   "outputs": [],
   "source": [
    "data.to_csv('data/data_new24_clean.csv')"
   ],
   "metadata": {
    "collapsed": false,
    "ExecuteTime": {
     "end_time": "2023-11-07T10:25:44.794166Z",
     "start_time": "2023-11-07T10:25:44.775195Z"
    }
   }
  },
  {
   "cell_type": "code",
   "execution_count": 141,
   "outputs": [
    {
     "name": "stderr",
     "output_type": "stream",
     "text": [
      "/Users/egor/Documents/best_car_deals_app/car_app/lib/python3.11/site-packages/sklearn/base.py:348: InconsistentVersionWarning: Trying to unpickle estimator OneHotEncoder from version 1.3.0 when using version 1.3.2. This might lead to breaking code or invalid results. Use at your own risk. For more info please refer to:\n",
      "https://scikit-learn.org/stable/model_persistence.html#security-maintainability-limitations\n",
      "  warnings.warn(\n",
      "/Users/egor/Documents/best_car_deals_app/car_app/lib/python3.11/site-packages/sklearn/base.py:348: InconsistentVersionWarning: Trying to unpickle estimator MinMaxScaler from version 1.3.0 when using version 1.3.2. This might lead to breaking code or invalid results. Use at your own risk. For more info please refer to:\n",
      "https://scikit-learn.org/stable/model_persistence.html#security-maintainability-limitations\n",
      "  warnings.warn(\n"
     ]
    }
   ],
   "source": [
    "ohe_mdl = joblib.load('models/ohe_mdl.joblib')\n",
    "scaler = joblib.load('models/scaler.joblib')\n",
    "xgb_reg_gs = joblib.load('models/xgb_reg_gs.joblib')"
   ],
   "metadata": {
    "collapsed": false,
    "ExecuteTime": {
     "end_time": "2023-11-07T10:25:44.844699Z",
     "start_time": "2023-11-07T10:25:44.783476Z"
    }
   }
  },
  {
   "cell_type": "code",
   "execution_count": 142,
   "outputs": [
    {
     "data": {
      "text/plain": "(1333, 1263)"
     },
     "execution_count": 142,
     "metadata": {},
     "output_type": "execute_result"
    }
   ],
   "source": [
    "data_mdl = data[[\n",
    "    'make_model',\n",
    "    'engine_vol',\n",
    "    'awd', \n",
    "    'category',\n",
    "    'hp',\n",
    "    'capacity',\n",
    "    'age',\n",
    "    'mileage',\n",
    "    'fuel_type',\n",
    "    'manual_gearbox',\n",
    "    'hp_cat',\n",
    "    'price_category',\n",
    "    'town_category',\n",
    "    'is_company',\n",
    "    'car_price'\n",
    "]].reset_index(drop=True)\n",
    "\n",
    "numerics = ['int16', 'int32', 'int64', 'float16', 'float32', 'float64']\n",
    "data_mdl_num_cols = list(data_mdl.select_dtypes(include=numerics).columns)\n",
    "data_mdl_cat_cols = list(data_mdl.select_dtypes(exclude=numerics).columns)\n",
    "\n",
    "data_mdl_ohe = ohe_mdl.transform(data_mdl[data_mdl_cat_cols])\n",
    "data_mdl_ohe = pd.DataFrame(data_mdl_ohe, columns=ohe_mdl.get_feature_names_out(input_features=data_mdl_cat_cols))\n",
    "\n",
    "data_mdl = data_mdl.drop(list(data_mdl_cat_cols), axis=1)\n",
    "data_mdl = pd.concat([data_mdl, data_mdl_ohe], axis=1)\n",
    "data_mdl.shape"
   ],
   "metadata": {
    "collapsed": false,
    "ExecuteTime": {
     "end_time": "2023-11-07T10:25:44.872981Z",
     "start_time": "2023-11-07T10:25:44.802330Z"
    }
   }
  },
  {
   "cell_type": "code",
   "execution_count": 143,
   "outputs": [],
   "source": [
    "X = data_mdl.drop(columns=['car_price'])\n",
    "y = data_mdl['car_price']\n",
    "\n",
    "data_mdl_num_cols.remove('car_price')\n",
    "X[data_mdl_num_cols] = scaler.transform(X[data_mdl_num_cols])"
   ],
   "metadata": {
    "collapsed": false,
    "ExecuteTime": {
     "end_time": "2023-11-07T10:25:44.902501Z",
     "start_time": "2023-11-07T10:25:44.813822Z"
    }
   }
  },
  {
   "cell_type": "code",
   "execution_count": 144,
   "outputs": [],
   "source": [
    "cols_when_model_builds = xgb_reg_gs.get_booster().feature_names\n",
    "X = X[cols_when_model_builds]"
   ],
   "metadata": {
    "collapsed": false,
    "ExecuteTime": {
     "end_time": "2023-11-07T10:25:44.902664Z",
     "start_time": "2023-11-07T10:25:44.819582Z"
    }
   }
  },
  {
   "cell_type": "code",
   "execution_count": 145,
   "outputs": [
    {
     "data": {
      "text/plain": "False"
     },
     "execution_count": 145,
     "metadata": {},
     "output_type": "execute_result"
    }
   ],
   "source": [
    "'gpu_id' in X.columns"
   ],
   "metadata": {
    "collapsed": false,
    "ExecuteTime": {
     "end_time": "2023-11-07T10:25:44.902849Z",
     "start_time": "2023-11-07T10:25:44.824923Z"
    }
   }
  },
  {
   "cell_type": "code",
   "execution_count": 146,
   "outputs": [],
   "source": [
    "y_pred = xgb_reg_gs.predict(X)\n",
    "data['y_pred'] = y_pred\n",
    "data['price_diff'] = data['y_pred'] - data['car_price']\n",
    "data['profit_%'] = data['price_diff']/data['car_price'] * 100\n",
    "result = data[(data['price_diff'] > 1000) & (data['age'] <15)]\n",
    "result = result[['make_model', 'id', 'car_price', 'y_pred', 'profit_%']]\n",
    "result = result.transpose()\n",
    "result.to_json('data/result.json')"
   ],
   "metadata": {
    "collapsed": false,
    "ExecuteTime": {
     "end_time": "2023-11-07T10:25:44.923489Z",
     "start_time": "2023-11-07T10:25:44.846303Z"
    }
   }
  }
 ],
 "metadata": {
  "kernelspec": {
   "display_name": "base",
   "language": "python",
   "name": "python3"
  },
  "language_info": {
   "codemirror_mode": {
    "name": "ipython",
    "version": 3
   },
   "file_extension": ".py",
   "mimetype": "text/x-python",
   "name": "python",
   "nbconvert_exporter": "python",
   "pygments_lexer": "ipython3",
   "version": "3.11.4"
  },
  "orig_nbformat": 4
 },
 "nbformat": 4,
 "nbformat_minor": 2
}
