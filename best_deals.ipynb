{
 "cells": [
  {
   "cell_type": "markdown",
   "metadata": {},
   "source": [
    "## 0.1 Importing libraries"
   ]
  },
  {
   "cell_type": "code",
   "execution_count": 2,
   "metadata": {
    "ExecuteTime": {
     "end_time": "2023-11-06T12:32:21.098526Z",
     "start_time": "2023-11-06T12:32:20.802570Z"
    }
   },
   "outputs": [],
   "source": [
    "import joblib\n",
    "import numpy\n",
    "# Linear algebra\n",
    "import numpy as np\n",
    "\n",
    "import datetime\n",
    "\n",
    "from selenium import webdriver\n",
    "from selenium.webdriver.common.by import By\n",
    "from webdriver_manager.chrome import ChromeDriverManager\n",
    "\n",
    "# dataframe management\n",
    "import pandas as pd\n",
    "\n",
    "# regular expressions\n",
    "import re\n",
    "\n",
    "# Statistical tests\n",
    "from statistics import mean\n",
    "\n",
    "from joblib import load\n"
   ]
  },
  {
   "cell_type": "markdown",
   "metadata": {},
   "source": [
    "### 1.2 Web scrapping"
   ]
  },
  {
   "cell_type": "code",
   "execution_count": 7,
   "metadata": {
    "ExecuteTime": {
     "end_time": "2023-11-06T12:33:26.664709Z",
     "start_time": "2023-11-06T12:33:21.634135Z"
    }
   },
   "outputs": [
    {
     "data": {
      "text/plain": "['Acura',\n 'Alfa Romeo',\n 'AMC',\n 'Aston Martin',\n 'Audi',\n 'Austin',\n 'Bedford',\n 'Bentley',\n 'BMW',\n 'BMW Alpina',\n 'Buick',\n 'BYD',\n 'Cadillac',\n 'Chandler',\n 'Chevrolet',\n 'Chrysler',\n 'Citroen',\n 'Cobra',\n 'Commer',\n 'Cupra',\n 'Dacia',\n 'Daewoo',\n 'Daf',\n 'Daihatsu',\n 'Daimler',\n 'Datsun',\n 'Datsun-Nissan',\n 'DeSoto',\n 'DKW',\n 'Dodge',\n 'Donau',\n 'DS',\n 'Edsel',\n 'EMW',\n 'Essex',\n 'Ferrari',\n 'Fiat',\n 'Fiat-Abarth',\n 'Fisker',\n 'Ford',\n 'GAZ',\n 'GMC',\n 'Hillman',\n 'Honda',\n 'Hudson',\n 'Humber',\n 'Hummer',\n 'Hyundai',\n 'Ifa',\n 'Imperial',\n 'Infiniti',\n 'International',\n 'Inzile',\n 'Isuzu',\n 'Iveco',\n 'Jaguar',\n 'Jeep',\n 'Kia',\n 'Lada',\n 'Lamborghini',\n 'Lancia',\n 'Land Rover',\n 'Lexus',\n 'Leyland',\n 'Lincoln',\n 'Lloyd',\n 'London taxi',\n 'Lotus',\n 'LuAZ',\n 'Lynk & Co',\n 'MAN',\n 'Maserati',\n 'Matra',\n 'Maxus',\n 'Mazda',\n 'McLaren',\n 'Mercedes-Benz',\n 'Mercury',\n 'MG',\n 'Mini',\n 'Mitsubishi',\n 'Mitsubishi Fuso',\n 'Morris',\n 'Moskvitsh',\n 'Muu merkki',\n 'Nissan',\n 'NSU',\n 'Oldsmobile',\n 'Opel',\n 'Packard',\n 'Peugeot',\n 'Plymouth',\n 'Polestar',\n 'Pontiac',\n 'Porsche',\n 'RAM',\n 'Rambler',\n 'Renault',\n 'Reo',\n 'Riley',\n 'Rolls-Royce',\n 'Rover',\n 'Saab',\n 'Santana',\n 'Seat',\n 'Simca',\n 'Skoda',\n 'Smart',\n 'SsangYong',\n 'Studebaker',\n 'Subaru',\n 'Sunbeam',\n 'Suzuki',\n 'Talbot',\n 'Teijo',\n 'Tesla',\n 'Think',\n 'Toyota',\n 'Trabant',\n 'Triumph',\n 'TruckMasters',\n 'UAZ',\n 'Vauxhall',\n 'Volga',\n 'Volkswagen',\n 'Volvo',\n 'Voyah',\n 'Wartburg',\n 'Willys',\n 'Wolseley',\n 'Zastava']"
     },
     "execution_count": 7,
     "metadata": {},
     "output_type": "execute_result"
    }
   ],
   "source": [
    "browser = webdriver.Chrome()\n",
    "\n",
    "url = f'https://www.nettiauto.com'\n",
    "browser.get(url)\n",
    "all_makes = browser.find_elements(By.CSS_SELECTOR, '#srch_id_make')[0].text\n",
    "browser.close()\n",
    "\n",
    "all_makes = all_makes.replace('\\n', ', ').replace('  ', '').split(', ')\n",
    "all_makes = all_makes[11:-1]\n",
    "\n",
    "all_makes"
   ]
  },
  {
   "cell_type": "code",
   "execution_count": 6,
   "outputs": [
    {
     "name": "stdout",
     "output_type": "stream",
     "text": [
      "Initiating web-scraping of 42...\n"
     ]
    },
    {
     "ename": "NoSuchWindowException",
     "evalue": "Message: no such window: target window already closed\nfrom unknown error: web view not found\n  (Session info: chrome=119.0.6045.105)\nStacktrace:\n0   chromedriver                        0x000000010459a004 chromedriver + 4169732\n1   chromedriver                        0x0000000104591ff8 chromedriver + 4136952\n2   chromedriver                        0x00000001041e7500 chromedriver + 292096\n3   chromedriver                        0x00000001041c02d8 chromedriver + 131800\n4   chromedriver                        0x0000000104253f68 chromedriver + 737128\n5   chromedriver                        0x0000000104266fac chromedriver + 815020\n6   chromedriver                        0x00000001042205e8 chromedriver + 525800\n7   chromedriver                        0x00000001042214b8 chromedriver + 529592\n8   chromedriver                        0x0000000104560334 chromedriver + 3932980\n9   chromedriver                        0x0000000104564970 chromedriver + 3950960\n10  chromedriver                        0x0000000104548774 chromedriver + 3835764\n11  chromedriver                        0x0000000104565478 chromedriver + 3953784\n12  chromedriver                        0x000000010453aab4 chromedriver + 3779252\n13  chromedriver                        0x0000000104581914 chromedriver + 4069652\n14  chromedriver                        0x0000000104581a90 chromedriver + 4070032\n15  chromedriver                        0x0000000104591c70 chromedriver + 4136048\n16  libsystem_pthread.dylib             0x0000000181993034 _pthread_start + 136\n17  libsystem_pthread.dylib             0x000000018198de3c thread_start + 8\n",
     "output_type": "error",
     "traceback": [
      "\u001B[0;31m---------------------------------------------------------------------------\u001B[0m",
      "\u001B[0;31mNoSuchWindowException\u001B[0m                     Traceback (most recent call last)",
      "Cell \u001B[0;32mIn[6], line 21\u001B[0m\n\u001B[1;32m     19\u001B[0m url \u001B[38;5;241m=\u001B[39m \u001B[38;5;124mf\u001B[39m\u001B[38;5;124m'\u001B[39m\u001B[38;5;124mhttps://www.nettiauto.com/vaihtoautot?page=\u001B[39m\u001B[38;5;132;01m{\u001B[39;00mpage\u001B[38;5;132;01m}\u001B[39;00m\u001B[38;5;124m'\u001B[39m\n\u001B[1;32m     20\u001B[0m browser\u001B[38;5;241m.\u001B[39mget(url)\n\u001B[0;32m---> 21\u001B[0m make_list \u001B[38;5;241m=\u001B[39m \u001B[43mbrowser\u001B[49m\u001B[38;5;241;43m.\u001B[39;49m\u001B[43mfind_elements\u001B[49m\u001B[43m(\u001B[49m\u001B[43mBy\u001B[49m\u001B[38;5;241;43m.\u001B[39;49m\u001B[43mCSS_SELECTOR\u001B[49m\u001B[43m,\u001B[49m\u001B[43m \u001B[49m\u001B[38;5;124;43m'\u001B[39;49m\u001B[38;5;124;43m[class=\u001B[39;49m\u001B[38;5;124;43m\"\u001B[39;49m\u001B[38;5;124;43mmake_model_link\u001B[39;49m\u001B[38;5;124;43m\"\u001B[39;49m\u001B[38;5;124;43m]\u001B[39;49m\u001B[38;5;124;43m'\u001B[39;49m\u001B[43m)\u001B[49m\n\u001B[1;32m     22\u001B[0m desc_list \u001B[38;5;241m=\u001B[39m browser\u001B[38;5;241m.\u001B[39mfind_elements(By\u001B[38;5;241m.\u001B[39mCSS_SELECTOR, \u001B[38;5;124m'\u001B[39m\u001B[38;5;124m[class=\u001B[39m\u001B[38;5;124m\"\u001B[39m\u001B[38;5;124mcheckLnesFlat for_rent_one_line\u001B[39m\u001B[38;5;124m\"\u001B[39m\u001B[38;5;124m]\u001B[39m\u001B[38;5;124m'\u001B[39m)\n\u001B[1;32m     23\u001B[0m key_char_list \u001B[38;5;241m=\u001B[39m browser\u001B[38;5;241m.\u001B[39mfind_elements(By\u001B[38;5;241m.\u001B[39mCSS_SELECTOR, \u001B[38;5;124m'\u001B[39m\u001B[38;5;124m[class=\u001B[39m\u001B[38;5;124m\"\u001B[39m\u001B[38;5;124mvehicle_other_info clearfix_nett\u001B[39m\u001B[38;5;124m\"\u001B[39m\u001B[38;5;124m]\u001B[39m\u001B[38;5;124m'\u001B[39m)\n",
      "File \u001B[0;32m~/Documents/best_car_deals_app/car_app/lib/python3.11/site-packages/selenium/webdriver/remote/webdriver.py:771\u001B[0m, in \u001B[0;36mWebDriver.find_elements\u001B[0;34m(self, by, value)\u001B[0m\n\u001B[1;32m    767\u001B[0m     value \u001B[38;5;241m=\u001B[39m \u001B[38;5;124mf\u001B[39m\u001B[38;5;124m'\u001B[39m\u001B[38;5;124m[name=\u001B[39m\u001B[38;5;124m\"\u001B[39m\u001B[38;5;132;01m{\u001B[39;00mvalue\u001B[38;5;132;01m}\u001B[39;00m\u001B[38;5;124m\"\u001B[39m\u001B[38;5;124m]\u001B[39m\u001B[38;5;124m'\u001B[39m\n\u001B[1;32m    769\u001B[0m \u001B[38;5;66;03m# Return empty list if driver returns null\u001B[39;00m\n\u001B[1;32m    770\u001B[0m \u001B[38;5;66;03m# See https://github.com/SeleniumHQ/selenium/issues/4555\u001B[39;00m\n\u001B[0;32m--> 771\u001B[0m \u001B[38;5;28;01mreturn\u001B[39;00m \u001B[38;5;28;43mself\u001B[39;49m\u001B[38;5;241;43m.\u001B[39;49m\u001B[43mexecute\u001B[49m\u001B[43m(\u001B[49m\u001B[43mCommand\u001B[49m\u001B[38;5;241;43m.\u001B[39;49m\u001B[43mFIND_ELEMENTS\u001B[49m\u001B[43m,\u001B[49m\u001B[43m \u001B[49m\u001B[43m{\u001B[49m\u001B[38;5;124;43m\"\u001B[39;49m\u001B[38;5;124;43musing\u001B[39;49m\u001B[38;5;124;43m\"\u001B[39;49m\u001B[43m:\u001B[49m\u001B[43m \u001B[49m\u001B[43mby\u001B[49m\u001B[43m,\u001B[49m\u001B[43m \u001B[49m\u001B[38;5;124;43m\"\u001B[39;49m\u001B[38;5;124;43mvalue\u001B[39;49m\u001B[38;5;124;43m\"\u001B[39;49m\u001B[43m:\u001B[49m\u001B[43m \u001B[49m\u001B[43mvalue\u001B[49m\u001B[43m}\u001B[49m\u001B[43m)\u001B[49m[\u001B[38;5;124m\"\u001B[39m\u001B[38;5;124mvalue\u001B[39m\u001B[38;5;124m\"\u001B[39m] \u001B[38;5;129;01mor\u001B[39;00m []\n",
      "File \u001B[0;32m~/Documents/best_car_deals_app/car_app/lib/python3.11/site-packages/selenium/webdriver/remote/webdriver.py:347\u001B[0m, in \u001B[0;36mWebDriver.execute\u001B[0;34m(self, driver_command, params)\u001B[0m\n\u001B[1;32m    345\u001B[0m response \u001B[38;5;241m=\u001B[39m \u001B[38;5;28mself\u001B[39m\u001B[38;5;241m.\u001B[39mcommand_executor\u001B[38;5;241m.\u001B[39mexecute(driver_command, params)\n\u001B[1;32m    346\u001B[0m \u001B[38;5;28;01mif\u001B[39;00m response:\n\u001B[0;32m--> 347\u001B[0m     \u001B[38;5;28;43mself\u001B[39;49m\u001B[38;5;241;43m.\u001B[39;49m\u001B[43merror_handler\u001B[49m\u001B[38;5;241;43m.\u001B[39;49m\u001B[43mcheck_response\u001B[49m\u001B[43m(\u001B[49m\u001B[43mresponse\u001B[49m\u001B[43m)\u001B[49m\n\u001B[1;32m    348\u001B[0m     response[\u001B[38;5;124m\"\u001B[39m\u001B[38;5;124mvalue\u001B[39m\u001B[38;5;124m\"\u001B[39m] \u001B[38;5;241m=\u001B[39m \u001B[38;5;28mself\u001B[39m\u001B[38;5;241m.\u001B[39m_unwrap_value(response\u001B[38;5;241m.\u001B[39mget(\u001B[38;5;124m\"\u001B[39m\u001B[38;5;124mvalue\u001B[39m\u001B[38;5;124m\"\u001B[39m, \u001B[38;5;28;01mNone\u001B[39;00m))\n\u001B[1;32m    349\u001B[0m     \u001B[38;5;28;01mreturn\u001B[39;00m response\n",
      "File \u001B[0;32m~/Documents/best_car_deals_app/car_app/lib/python3.11/site-packages/selenium/webdriver/remote/errorhandler.py:229\u001B[0m, in \u001B[0;36mErrorHandler.check_response\u001B[0;34m(self, response)\u001B[0m\n\u001B[1;32m    227\u001B[0m         alert_text \u001B[38;5;241m=\u001B[39m value[\u001B[38;5;124m\"\u001B[39m\u001B[38;5;124malert\u001B[39m\u001B[38;5;124m\"\u001B[39m]\u001B[38;5;241m.\u001B[39mget(\u001B[38;5;124m\"\u001B[39m\u001B[38;5;124mtext\u001B[39m\u001B[38;5;124m\"\u001B[39m)\n\u001B[1;32m    228\u001B[0m     \u001B[38;5;28;01mraise\u001B[39;00m exception_class(message, screen, stacktrace, alert_text)  \u001B[38;5;66;03m# type: ignore[call-arg]  # mypy is not smart enough here\u001B[39;00m\n\u001B[0;32m--> 229\u001B[0m \u001B[38;5;28;01mraise\u001B[39;00m exception_class(message, screen, stacktrace)\n",
      "\u001B[0;31mNoSuchWindowException\u001B[0m: Message: no such window: target window already closed\nfrom unknown error: web view not found\n  (Session info: chrome=119.0.6045.105)\nStacktrace:\n0   chromedriver                        0x000000010459a004 chromedriver + 4169732\n1   chromedriver                        0x0000000104591ff8 chromedriver + 4136952\n2   chromedriver                        0x00000001041e7500 chromedriver + 292096\n3   chromedriver                        0x00000001041c02d8 chromedriver + 131800\n4   chromedriver                        0x0000000104253f68 chromedriver + 737128\n5   chromedriver                        0x0000000104266fac chromedriver + 815020\n6   chromedriver                        0x00000001042205e8 chromedriver + 525800\n7   chromedriver                        0x00000001042214b8 chromedriver + 529592\n8   chromedriver                        0x0000000104560334 chromedriver + 3932980\n9   chromedriver                        0x0000000104564970 chromedriver + 3950960\n10  chromedriver                        0x0000000104548774 chromedriver + 3835764\n11  chromedriver                        0x0000000104565478 chromedriver + 3953784\n12  chromedriver                        0x000000010453aab4 chromedriver + 3779252\n13  chromedriver                        0x0000000104581914 chromedriver + 4069652\n14  chromedriver                        0x0000000104581a90 chromedriver + 4070032\n15  chromedriver                        0x0000000104591c70 chromedriver + 4136048\n16  libsystem_pthread.dylib             0x0000000181993034 _pthread_start + 136\n17  libsystem_pthread.dylib             0x000000018198de3c thread_start + 8\n"
     ]
    }
   ],
   "source": [
    "data_dict = {}\n",
    "data = pd.DataFrame(data_dict)\n",
    "browser = webdriver.Chrome()\n",
    "options = webdriver.ChromeOptions()\n",
    "options.add_argument(\"--start-maximized\")\n",
    "\n",
    "url = f'https://www.nettiauto.com/en/vaihtoautot?new=H&sortCol=price&ord=ASC&id_country[]=73'\n",
    "browser.get(url)\n",
    "number_of_pages = browser.find_elements(By.CSS_SELECTOR, '#pagingData > div > span.navigation_link > a.pageNavigation.dot_block')\n",
    "number_of_pages = int(number_of_pages[0].text)\n",
    "print(f'Initiating web-scraping of {number_of_pages}...')\n",
    "browser.close()\n",
    "\n",
    "for page in range(1, number_of_pages+1):\n",
    "\n",
    "    browser = webdriver.Chrome()\n",
    "    options.add_argument(\"--start-maximized\")\n",
    "\n",
    "    url = f'https://www.nettiauto.com/vaihtoautot?page={page}'\n",
    "    browser.get(url)\n",
    "    make_list = browser.find_elements(By.CSS_SELECTOR, '[class=\"make_model_link\"]')\n",
    "    desc_list = browser.find_elements(By.CSS_SELECTOR, '[class=\"checkLnesFlat for_rent_one_line\"]')\n",
    "    key_char_list = browser.find_elements(By.CSS_SELECTOR, '[class=\"vehicle_other_info clearfix_nett\"]')\n",
    "    places_list = browser.find_elements(By.CSS_SELECTOR, '[class=\"gray_text\"]')\n",
    "    sellers_list = browser.find_elements(By.CSS_SELECTOR, '[class=\"no_wrap gray_text\"]')\n",
    "    price_list = browser.find_elements(By.CSS_SELECTOR, '[class=\"price_block\"]')\n",
    "    ids_list = browser.find_elements(By.CSS_SELECTOR, '[class=\"childVifUrl tricky_link\"]')\n",
    "\n",
    "    print(len(make_list), len(desc_list), len(key_char_list), len(places_list), len(sellers_list), len(price_list), len(ids_list))\n",
    "\n",
    "    if len(make_list) == len(desc_list) == len(key_char_list) == len(places_list) == len(sellers_list) == len(price_list) == len(ids_list):\n",
    "        makes = []\n",
    "        descs = []\n",
    "        key_chars = []\n",
    "        places = []\n",
    "        sellers = []\n",
    "        prices = []\n",
    "        ids = []\n",
    "        \n",
    "        for val in range(len(make_list)):\n",
    "            makes.append(make_list[val].text)\n",
    "            descs.append(desc_list[val].text)\n",
    "            key_chars.append(key_char_list[val].text.replace('\\n', ' | '))\n",
    "            places.append(places_list[val].text)\n",
    "            sellers.append(sellers_list[val].text)\n",
    "            prices.append(price_list[val].text)\n",
    "            ids.append(ids_list[val].get_attribute('href'))\n",
    "\n",
    "    else:\n",
    "        print('Error! Number of values in columns is different!')\n",
    "        continue\n",
    "\n",
    "    data_dict['make'] = makes\n",
    "    data_dict['desc'] = descs\n",
    "    data_dict['key_char'] = key_chars\n",
    "    data_dict['town'] = places\n",
    "    data_dict['seller'] = sellers\n",
    "    data_dict['price'] = prices\n",
    "    data_dict['id'] = ids\n",
    "    \n",
    "    data_new = pd.DataFrame(data_dict)\n",
    "    data = pd.concat([data, data_new])\n",
    "    data.to_csv('data/data_new24.csv')\n",
    "    print(f'Page {page} out of {number_of_pages} completed')\n",
    "    browser.close()"
   ],
   "metadata": {
    "collapsed": false,
    "ExecuteTime": {
     "end_time": "2023-11-06T12:33:16.501406Z",
     "start_time": "2023-11-06T12:33:06.842691Z"
    }
   }
  },
  {
   "cell_type": "markdown",
   "metadata": {},
   "source": [
    "# 2. Data wrangling"
   ]
  },
  {
   "cell_type": "code",
   "execution_count": 8,
   "metadata": {
    "ExecuteTime": {
     "end_time": "2023-11-06T12:33:39.955481Z",
     "start_time": "2023-11-06T12:33:39.795775Z"
    }
   },
   "outputs": [],
   "source": [
    "data = pd.read_csv('data/data_new24.csv')"
   ]
  },
  {
   "cell_type": "code",
   "execution_count": 9,
   "metadata": {
    "ExecuteTime": {
     "end_time": "2023-11-06T12:33:39.957805Z",
     "start_time": "2023-11-06T12:33:39.805585Z"
    }
   },
   "outputs": [],
   "source": [
    "def get_engine_volume(sample_string):\n",
    "    pattern = r'\\((.*?)\\)'\n",
    "    values_in_brackets = re.findall(pattern, sample_string)\n",
    "    # for some cars engine volume is not indicated (for example electric cars)\n",
    "    # i'll tag them with -1\n",
    "    if len(values_in_brackets) == 0:\n",
    "        return -1\n",
    "    elif len(values_in_brackets) == 1:\n",
    "        return values_in_brackets[0] \n",
    "    # in case if string has several values in brackets\n",
    "    else:\n",
    "        return 'Error'\n",
    "\n",
    "# applying function to \"make\" feature and creating \"engine_vol\" column\n",
    "data['engine_vol'] = data['make'].apply(lambda x: get_engine_volume(x))"
   ]
  },
  {
   "cell_type": "code",
   "execution_count": 10,
   "metadata": {
    "ExecuteTime": {
     "end_time": "2023-11-06T12:33:40.128422Z",
     "start_time": "2023-11-06T12:33:39.812465Z"
    }
   },
   "outputs": [],
   "source": [
    "def extract_make_name(sample_string, make_list):\n",
    "    for make in make_list:\n",
    "        if make in sample_string:\n",
    "            return make\n",
    "    return None  # Return None if no matching make is found\n",
    "\n",
    "\n",
    "data['car_make'] = data['make'].apply(lambda x: extract_make_name(x, all_makes))"
   ]
  },
  {
   "cell_type": "code",
   "execution_count": 11,
   "metadata": {
    "ExecuteTime": {
     "end_time": "2023-11-06T12:33:40.167510Z",
     "start_time": "2023-11-06T12:33:39.821317Z"
    }
   },
   "outputs": [],
   "source": [
    "def extract_model_name(sample_string, make_list):\n",
    "    pattern = r'\\s*\\(\\d+\\.\\d+\\)'\n",
    "    values_in_brackets = re.findall(pattern, sample_string)\n",
    "    if len(values_in_brackets) == 1:\n",
    "        sample_string = sample_string.replace(values_in_brackets[0], '')\n",
    "    for make in make_list:\n",
    "        if make in sample_string:\n",
    "            sample_string = sample_string.replace(make, '').strip()\n",
    "    return sample_string  # Return None if no matching make is found\n",
    "\n",
    "data['model'] = data['make'].apply(lambda x: extract_model_name(x, all_makes))"
   ]
  },
  {
   "cell_type": "code",
   "execution_count": 12,
   "outputs": [],
   "source": [
    "data['make_model'] = data['car_make'] + ' ' + data['model']"
   ],
   "metadata": {
    "collapsed": false,
    "ExecuteTime": {
     "end_time": "2023-11-06T12:33:40.172191Z",
     "start_time": "2023-11-06T12:33:39.824209Z"
    }
   }
  },
  {
   "cell_type": "code",
   "execution_count": 13,
   "outputs": [],
   "source": [
    "data['desc'] = data['desc'].astype(str)\n",
    "\n",
    "data['roadworthy'] = data['desc'].apply(lambda x: 0 if 'Ei tieliikennekelpoinen' in x else 1)"
   ],
   "metadata": {
    "collapsed": false,
    "ExecuteTime": {
     "end_time": "2023-11-06T12:33:40.172255Z",
     "start_time": "2023-11-06T12:33:39.828170Z"
    }
   }
  },
  {
   "cell_type": "code",
   "execution_count": 14,
   "outputs": [],
   "source": [
    "awd_types = ['awd', '4wd', '4x4', 'xdrive', '4matic', 'quattro', 'all-wheel drive', 'all wheel', 'super select']\n",
    "\n",
    "def is_awd(sample_string, awd_types):\n",
    "    sample_string = sample_string.lower()\n",
    "    for type in awd_types:\n",
    "        if type in sample_string:\n",
    "            return 1\n",
    "    return 0  # Return 0 if no matching type is found\n",
    "\n",
    "\n",
    "data['awd'] = data['desc'].apply(lambda x: is_awd(x, awd_types))"
   ],
   "metadata": {
    "collapsed": false,
    "ExecuteTime": {
     "end_time": "2023-11-06T12:33:40.177958Z",
     "start_time": "2023-11-06T12:33:39.831790Z"
    }
   }
  },
  {
   "cell_type": "code",
   "execution_count": 15,
   "outputs": [],
   "source": [
    "categories = {\n",
    "    'sedan': 'Sedan',\n",
    "    'avant': 'Universal',\n",
    "    'van': 'Minivan',\n",
    "    'combi': 'Universal',\n",
    "    'tourer': 'Universal',\n",
    "    'wagon': 'Universal',\n",
    "    'touring': 'Universal',\n",
    "    'farmari': 'Universal',\n",
    "    'sportback': 'Hatchback',\n",
    "    'coupe': 'Coupe',\n",
    "    'coupé': 'Coupe',\n",
    "    'hatchback': 'Hatchback',\n",
    "    'cabriolet': 'Cabriolet',\n",
    "    'convertible': 'Cabriolet',\n",
    "    'cabrio': 'Cabriolet',\n",
    "    'pickup': 'Pickup',\n",
    "    'spaceback': 'Hatchback',\n",
    "    'crossover': 'Jeep',\n",
    "    'estate': 'Universal',\n",
    "    'sportswagon': 'Universal',\n",
    "    'shooting': 'Universal',\n",
    "    'targa': 'Coupe',\n",
    "    'hardtop': 'Coupe',\n",
    "    'saloon': 'Sedan',\n",
    "    'roadster': 'Coupe',\n",
    "    'spider': 'Coupe',\n",
    "    'turismo': 'Hatchback',\n",
    "    'mpv': 'Minivan',\n",
    "    'fastback': 'Coupe',\n",
    "    'suv': 'Jeep'\n",
    "}\n",
    "\n",
    "def get_category(sample_string, categories):\n",
    "    sample_string = sample_string.lower().split(' ')\n",
    "    for word in sample_string:\n",
    "        if word in categories:\n",
    "            return categories.get(word)\n",
    "\n",
    "data['category'] = data['desc'].apply(lambda x: get_category(x, categories))"
   ],
   "metadata": {
    "collapsed": false,
    "ExecuteTime": {
     "end_time": "2023-11-06T12:33:40.178101Z",
     "start_time": "2023-11-06T12:33:39.835878Z"
    }
   }
  },
  {
   "cell_type": "code",
   "execution_count": 16,
   "outputs": [],
   "source": [
    "doors_count = {\n",
    "    '5-ovinen,': '4/5',\n",
    "    '5-door': '4/5',\n",
    "    '5-ovinen': '4/5',\n",
    "    '#5-ovinen': '4/5',\n",
    "    '2ov': '2/3',\n",
    "    '2-door': '2/3',\n",
    "    '3-door': '2/3',\n",
    "    '3ov': '2/3',\n",
    "    '2-ov': '2/3',\n",
    "    '4ov': '4/5',\n",
    "    '4-ov': '4/5',\n",
    "    '4door': '4/5',\n",
    "    '5-ov,': '4/5',\n",
    "    'kaksiovinen': '2/3',\n",
    "    '2d': '2/3',\n",
    "    '3d': '2/3',\n",
    "    '4d': '4/5',\n",
    "    '5d': '4/5'\n",
    "    }\n",
    "\n",
    "def get_doors(sample_string, doors_count):\n",
    "    sample_string = sample_string.lower().split(' ')\n",
    "    for word in sample_string:\n",
    "        if word in doors_count:\n",
    "            return doors_count.get(word)\n",
    "\n",
    "data['doors'] = data['desc'].apply(lambda x: get_doors(x, doors_count))"
   ],
   "metadata": {
    "collapsed": false,
    "ExecuteTime": {
     "end_time": "2023-11-06T12:33:40.206323Z",
     "start_time": "2023-11-06T12:33:39.839677Z"
    }
   }
  },
  {
   "cell_type": "markdown",
   "source": [
    "Moving further. I'll review 'desc' column which contains description about the car. We can identify 2 key features: \n",
    "- whether the car is roadworthy or not. Some cars have \"Ei tieliikennekelpoinen\" in description which means that it is not roadworthy and repair is required.\n",
    "- whether the car has all-wheel drive option. There are several ways to define that car has AWD system, for example, xDrive for BMW or 4matic for Mercedes-Benz "
   ],
   "metadata": {
    "collapsed": false
   }
  },
  {
   "cell_type": "code",
   "execution_count": 17,
   "outputs": [],
   "source": [
    "def extract_horsepower(string):\n",
    "    string = string.lower()\n",
    "    pattern = r'(\\d+)\\s*hv'\n",
    "    match = re.search(pattern, string)\n",
    "    if match:\n",
    "        return int(match.group(1))\n",
    "\n",
    "data['hp'] = data['desc'].apply(lambda x: extract_horsepower(x))"
   ],
   "metadata": {
    "collapsed": false,
    "ExecuteTime": {
     "end_time": "2023-11-06T12:33:40.215285Z",
     "start_time": "2023-11-06T12:33:39.843156Z"
    }
   }
  },
  {
   "cell_type": "code",
   "execution_count": 18,
   "outputs": [],
   "source": [
    "def extract_power(string):\n",
    "    string = string.lower()\n",
    "    pattern = r'(\\d+)\\s*kw(?!h)'\n",
    "    match = re.search(pattern, string)\n",
    "    if match:\n",
    "        return int(match.group(1))\n",
    "\n",
    "data['power'] = data['desc'].apply(lambda x: extract_power(x))"
   ],
   "metadata": {
    "collapsed": false,
    "ExecuteTime": {
     "end_time": "2023-11-06T12:33:40.215420Z",
     "start_time": "2023-11-06T12:33:39.847016Z"
    }
   }
  },
  {
   "cell_type": "code",
   "execution_count": 19,
   "outputs": [],
   "source": [
    "def extract_capacity(string):\n",
    "    string = string.lower()\n",
    "    pattern = r'(\\d+)\\s*kwh'\n",
    "    match = re.search(pattern, string)\n",
    "    if match:\n",
    "        return int(match.group(1))\n",
    "\n",
    "data['capacity'] = data['desc'].apply(lambda x: extract_capacity(x))"
   ],
   "metadata": {
    "collapsed": false,
    "ExecuteTime": {
     "end_time": "2023-11-06T12:33:40.224360Z",
     "start_time": "2023-11-06T12:33:39.850738Z"
    }
   }
  },
  {
   "cell_type": "code",
   "execution_count": 20,
   "outputs": [],
   "source": [
    "def organize_key_char(sample_string):\n",
    "    sample_list = sample_string.split('|')\n",
    "    for i in range(len(sample_list)):\n",
    "        sample_list[i] = sample_list[i].strip()\n",
    "    return sample_list\n",
    "        \n",
    "data['key_char'] = data['key_char'].apply(lambda x: organize_key_char(x))"
   ],
   "metadata": {
    "collapsed": false,
    "ExecuteTime": {
     "end_time": "2023-11-06T12:33:40.224482Z",
     "start_time": "2023-11-06T12:33:39.853898Z"
    }
   }
  },
  {
   "cell_type": "code",
   "execution_count": 21,
   "outputs": [],
   "source": [
    "fuel_type = ['Bensiini', 'Diesel', 'Hybridi (bensiini/sähkö)', 'Hybridi (diesel/sähkö)', 'Sähkö', 'Kaasu', 'E85/bensiini', 'Ei saatavilla']\n",
    "gearbox_type = ['Automaatti', 'Manuaali']\n"
   ],
   "metadata": {
    "collapsed": false,
    "ExecuteTime": {
     "end_time": "2023-11-06T12:33:40.229272Z",
     "start_time": "2023-11-06T12:33:39.857983Z"
    }
   }
  },
  {
   "cell_type": "code",
   "execution_count": 22,
   "outputs": [],
   "source": [
    "data['year'] = data['key_char'].apply(lambda x: x[0].strip())\n",
    "data['year'] = data['year'].astype(int)\n",
    "curr_time = datetime.datetime.now()\n",
    "data['age'] = data['year'].apply(lambda x: curr_time.year - x)\n",
    "data['age'] = data['age'].apply(lambda x: 0 if x==-1 else x)"
   ],
   "metadata": {
    "collapsed": false,
    "ExecuteTime": {
     "end_time": "2023-11-06T12:33:40.242813Z",
     "start_time": "2023-11-06T12:33:39.861720Z"
    }
   }
  },
  {
   "cell_type": "code",
   "execution_count": 23,
   "outputs": [],
   "source": [
    "def extract_mileage(sample_list):\n",
    "    if 'km' in sample_list[1]:\n",
    "        return sample_list[1].strip()[:-2].replace(' ', '')\n",
    "    else:\n",
    "        '-1'\n",
    "    \n",
    "data['mileage'] = data['key_char'].apply(lambda x: extract_mileage(x))"
   ],
   "metadata": {
    "collapsed": false,
    "ExecuteTime": {
     "end_time": "2023-11-06T12:33:40.242881Z",
     "start_time": "2023-11-06T12:33:39.865435Z"
    }
   }
  },
  {
   "cell_type": "code",
   "execution_count": 24,
   "outputs": [],
   "source": [
    "fuel_type = ['Bensiini', 'Diesel', 'Hybridi (bensiini/sähkö)', 'Hybridi (diesel/sähkö)', 'Sähkö', 'Kaasu', 'E85/bensiini', 'Ei saatavilla']\n",
    "gearbox_type = ['Automaatti', 'Manuaali']\n",
    "\n",
    "def get_type(sample_list, types):\n",
    "    for type in types:\n",
    "        if type in sample_list:\n",
    "            return type\n",
    "\n",
    "data['fuel_type'] = data['key_char'].apply(lambda x: get_type(x, fuel_type))\n",
    "data['gearbox_type'] = data['key_char'].apply(lambda x: get_type(x, gearbox_type))"
   ],
   "metadata": {
    "collapsed": false,
    "ExecuteTime": {
     "end_time": "2023-11-06T12:33:40.362914Z",
     "start_time": "2023-11-06T12:33:39.868431Z"
    }
   }
  },
  {
   "cell_type": "code",
   "execution_count": 25,
   "outputs": [],
   "source": [
    "car_dealers = ['J. Rinta-Jouppi', 'Autokeskus Oy', 'Autolle.com', 'Suursavonauto.fi', 'Wetteri', 'AC Auto-Center', 'Rinta-Joupin Autoliike', 'Hedin Automotive', 'LänsiAuto', 'Kamux', 'K-auto', 'Saka Finland Oy', 'Secto Vaihtoautot', 'Autotalo', 'Auto-Suni', 'Nelipyörä', 'Ford Store', 'Hedin Automotive', 'Automaa', 'Bavaria', 'Toyota', 'Omax', 'ALD Carmarket', 'Delta Auto', 'Pörhö', 'Veho', 'Bilar99e', 'Autosalpa', 'Vaihtokaara', 'Auto-Kilta', 'Autodeal', 'Keskusautohalli Oy', 'Helkama-Auto', 'MB-mobile', 'XBIL', 'Autoverkkokauppa.fi', 'Kupen auto', 'KymppiPlus', 'Menoauto', 'Vaihtoautomaa', 'ALD Carmarket', 'MS-auto', 'Euro Auto', 'Tojo-Auto', 'Porsche Center', 'Levorannan Autoliike', 'SCC - Sports Car Center', 'Ajanvaunu Oy', 'Auto-Kehä Oy', 'Auto-Eekoo']\n",
    "\n",
    "def group_seller(sample_string, car_dealers):\n",
    "    sample_string = sample_string.lower()\n",
    "    for dealer in list(map(str.lower, car_dealers)):\n",
    "        x = sample_string.replace(dealer, '')\n",
    "        if(len(x) != len(sample_string)):\n",
    "            return dealer.lower()\n",
    "    return sample_string\n",
    "        \n",
    "data['car_seller'] = data['seller'].apply(lambda x: group_seller(x, car_dealers))\n",
    "data['car_seller'] = data['car_seller'].astype(str)\n",
    "data['car_seller'] = data['car_seller'].apply(lambda x: x.lower())"
   ],
   "metadata": {
    "collapsed": false,
    "ExecuteTime": {
     "end_time": "2023-11-06T12:33:40.464842Z",
     "start_time": "2023-11-06T12:33:39.877399Z"
    }
   }
  },
  {
   "cell_type": "code",
   "execution_count": 26,
   "outputs": [],
   "source": [
    "data['price'] = data['price'].apply(lambda x: x.split('\\n'))"
   ],
   "metadata": {
    "collapsed": false,
    "ExecuteTime": {
     "end_time": "2023-11-06T12:33:40.467046Z",
     "start_time": "2023-11-06T12:33:39.880902Z"
    }
   }
  },
  {
   "cell_type": "code",
   "execution_count": 27,
   "outputs": [],
   "source": [
    "data['car_price'] = data['price'].apply(lambda x: x[0].replace('€', '').replace(' ', ''))"
   ],
   "metadata": {
    "collapsed": false,
    "ExecuteTime": {
     "end_time": "2023-11-06T12:33:40.467119Z",
     "start_time": "2023-11-06T12:33:39.883793Z"
    }
   }
  },
  {
   "cell_type": "code",
   "execution_count": 28,
   "outputs": [],
   "source": [
    "def extract_deal(sample_list):\n",
    "    try:\n",
    "        if '(' in sample_list[1]:\n",
    "            return sample_list[1].replace('(', '').replace(')', '').strip()\n",
    "        else:\n",
    "            return None\n",
    "    except IndexError:\n",
    "        return None\n",
    "\n",
    "data['deal'] = data['price'].apply(lambda x: extract_deal(x))"
   ],
   "metadata": {
    "collapsed": false,
    "ExecuteTime": {
     "end_time": "2023-11-06T12:33:40.467196Z",
     "start_time": "2023-11-06T12:33:39.886743Z"
    }
   }
  },
  {
   "cell_type": "markdown",
   "source": [
    "## Data cleaning"
   ],
   "metadata": {
    "collapsed": false
   }
  },
  {
   "cell_type": "code",
   "execution_count": 29,
   "outputs": [],
   "source": [
    "data = data.drop(columns=['Unnamed: 0', 'make', 'desc', 'key_char', 'price', 'seller'])"
   ],
   "metadata": {
    "collapsed": false,
    "ExecuteTime": {
     "end_time": "2023-11-06T12:33:40.467595Z",
     "start_time": "2023-11-06T12:33:39.889716Z"
    }
   }
  },
  {
   "cell_type": "code",
   "execution_count": 30,
   "outputs": [],
   "source": [
    "data = data.dropna(subset=['mileage', 'make_model'])"
   ],
   "metadata": {
    "collapsed": false,
    "ExecuteTime": {
     "end_time": "2023-11-06T12:33:40.467932Z",
     "start_time": "2023-11-06T12:33:39.893640Z"
    }
   }
  },
  {
   "cell_type": "code",
   "execution_count": 31,
   "outputs": [],
   "source": [
    "to_be_deleted = set()"
   ],
   "metadata": {
    "collapsed": false,
    "ExecuteTime": {
     "end_time": "2023-11-06T12:33:40.467980Z",
     "start_time": "2023-11-06T12:33:39.896054Z"
    }
   }
  },
  {
   "cell_type": "code",
   "execution_count": 32,
   "outputs": [
    {
     "name": "stdout",
     "output_type": "stream",
     "text": [
      "<class 'pandas.core.frame.DataFrame'>\n",
      "Index: 1150 entries, 0 to 1260\n",
      "Data columns (total 21 columns):\n",
      " #   Column        Non-Null Count  Dtype  \n",
      "---  ------        --------------  -----  \n",
      " 0   town          1150 non-null   object \n",
      " 1   id            1150 non-null   object \n",
      " 2   engine_vol    1150 non-null   object \n",
      " 3   car_make      1150 non-null   object \n",
      " 4   model         1150 non-null   object \n",
      " 5   make_model    1150 non-null   object \n",
      " 6   roadworthy    1150 non-null   int64  \n",
      " 7   awd           1150 non-null   int64  \n",
      " 8   category      131 non-null    object \n",
      " 9   doors         399 non-null    object \n",
      " 10  hp            19 non-null     float64\n",
      " 11  power         26 non-null     float64\n",
      " 12  capacity      0 non-null      object \n",
      " 13  year          1150 non-null   int64  \n",
      " 14  age           1150 non-null   int64  \n",
      " 15  mileage       1150 non-null   object \n",
      " 16  fuel_type     1150 non-null   object \n",
      " 17  gearbox_type  1148 non-null   object \n",
      " 18  car_seller    1150 non-null   object \n",
      " 19  car_price     1150 non-null   object \n",
      " 20  deal          7 non-null      object \n",
      "dtypes: float64(2), int64(4), object(15)\n",
      "memory usage: 197.7+ KB\n"
     ]
    }
   ],
   "source": [
    "data.info()"
   ],
   "metadata": {
    "collapsed": false,
    "ExecuteTime": {
     "end_time": "2023-11-06T12:33:40.468186Z",
     "start_time": "2023-11-06T12:33:39.899700Z"
    }
   }
  },
  {
   "cell_type": "markdown",
   "source": [
    "Some cars don't have make and model indicated. They are indicated as 'Muu merkki' and 'Muu malli' which means 'Other make' and 'Other model'. "
   ],
   "metadata": {
    "collapsed": false
   }
  },
  {
   "cell_type": "code",
   "execution_count": 33,
   "outputs": [],
   "source": [
    "no_make_model = data[(data['model'] == 'Muu malli') | (data['car_make'] == 'Muu merkki')].index\n",
    "to_be_deleted.update(no_make_model)"
   ],
   "metadata": {
    "collapsed": false,
    "ExecuteTime": {
     "end_time": "2023-11-06T12:33:40.468233Z",
     "start_time": "2023-11-06T12:33:39.905674Z"
    }
   }
  },
  {
   "cell_type": "markdown",
   "source": [
    "Previously we've identified cars that are broken and require repair. We can't evaluate volume of investment to repair each particular car so I'd prefer to delete all cars that are not roadworthy from the dataset."
   ],
   "metadata": {
    "collapsed": false
   }
  },
  {
   "cell_type": "code",
   "execution_count": 34,
   "outputs": [],
   "source": [
    "to_be_deleted.update(data[data['roadworthy'] == 0].index)"
   ],
   "metadata": {
    "collapsed": false,
    "ExecuteTime": {
     "end_time": "2023-11-06T12:33:40.468278Z",
     "start_time": "2023-11-06T12:33:39.908112Z"
    }
   }
  },
  {
   "cell_type": "markdown",
   "source": [
    "In 'Gearbox' column we have more than 11000 NaN values. We can't delete all of them as we'll lose too much useful data. However, using common sense and knowledge about car mechanics we can transform this column. Firstly, manual transmission is only available in mild hybrid vehicles because full hybrid cars can only work optimally with an automatic transmission. Therefore all hybrid cars in the dataset could be marked as having 'Automatti' gearbox. Electric motors deliver their power in such a way that they feel similar to automatic petrol or diesel cars to drive, but while automatic petrol and diesel cars have multiple gears to choose from, electric cars tend to have only a single gear. In this regard I assume that electric (or Sähkö) cars could be marked 'Automatti' as well."
   ],
   "metadata": {
    "collapsed": false
   }
  },
  {
   "cell_type": "code",
   "execution_count": 35,
   "outputs": [],
   "source": [
    "nan_gearbox = data[data['gearbox_type'].isna()]"
   ],
   "metadata": {
    "collapsed": false,
    "ExecuteTime": {
     "end_time": "2023-11-06T12:33:40.468332Z",
     "start_time": "2023-11-06T12:33:39.911622Z"
    }
   }
  },
  {
   "cell_type": "code",
   "execution_count": 36,
   "outputs": [],
   "source": [
    "automaatti_index = nan_gearbox[(nan_gearbox['fuel_type'] == 'Hybridi (bensiini/sähkö)') | (nan_gearbox['fuel_type'] == 'Hybridi (diesel/sähkö)') | (nan_gearbox['fuel_type'] == 'Sähkö')].index\n",
    "data.loc[automaatti_index, 'gearbox_type'] = 'Automaatti'"
   ],
   "metadata": {
    "collapsed": false,
    "ExecuteTime": {
     "end_time": "2023-11-06T12:33:40.468377Z",
     "start_time": "2023-11-06T12:33:39.914807Z"
    }
   }
  },
  {
   "cell_type": "code",
   "execution_count": 37,
   "outputs": [],
   "source": [
    "data_automaatti_index = data[(data['fuel_type'] == 'Hybridi (bensiini/sähkö)') | (data['fuel_type'] == 'Hybridi (diesel/sähkö)') | (data['fuel_type'] == 'Sähkö')].index\n",
    "data.loc[data_automaatti_index, 'gearbox_type'] = 'Automaatti'"
   ],
   "metadata": {
    "collapsed": false,
    "ExecuteTime": {
     "end_time": "2023-11-06T12:33:40.468421Z",
     "start_time": "2023-11-06T12:33:39.917831Z"
    }
   }
  },
  {
   "cell_type": "code",
   "execution_count": 38,
   "outputs": [],
   "source": [
    "to_be_deleted.update(data[data['gearbox_type'].isna()].index)"
   ],
   "metadata": {
    "collapsed": false,
    "ExecuteTime": {
     "end_time": "2023-11-06T12:33:40.468478Z",
     "start_time": "2023-11-06T12:33:39.920253Z"
    }
   }
  },
  {
   "cell_type": "markdown",
   "source": [
    "Previously we've extracted several deal types. They are: 'Tax free', 'ALV väh.kelp.' and 'sis. ALV'. I'll explain this in detail.\n",
    " - Tax free' means that VAT is not included into car price. Usually such cars are sold outside Finland and purchase of such car requires additional car tax payment which is calculated based on vehicle's category, selling price, date of first registration and CO2 values. Car with this status usually cost significantly cheaper than same car that has already been registered in Finland. It means all ads with 'Tax free' shall be deleted from dataset.\n",
    "  - 'ALV väh.kelp.' and 'sis. ALV' statuses mean that VAT was included in the car price and it could be deducted. Finnish tax legislation allows such deduction if car is purchased for company and is used only for work related purposes. Such practice is quite popular in Finland, however, it requires strict reporting to tax administration related to car usage. For this project goal such status does not have affect on price as all taxes are already included in the price.\n"
   ],
   "metadata": {
    "collapsed": false
   }
  },
  {
   "cell_type": "code",
   "execution_count": 39,
   "outputs": [],
   "source": [
    "tax_free_cars = data[(data['deal'] == 'Tax free') | (data['deal'] == 'Tax free, sis. ALV') | (data['deal'] == 'Tax free, ALV väh.kelp.')].index\n",
    "to_be_deleted.update(tax_free_cars)"
   ],
   "metadata": {
    "collapsed": false,
    "ExecuteTime": {
     "end_time": "2023-11-06T12:33:40.468522Z",
     "start_time": "2023-11-06T12:33:39.923497Z"
    }
   }
  },
  {
   "cell_type": "markdown",
   "source": [
    "In the key column with car price there are 274 cars with status 'Eihinnoiteltu' which means 'No price'. Basically we can add these cars to test dataset so the model could predict price for them as well. However, we won't be able to count error metric for them so I prefer to delete them as well."
   ],
   "metadata": {
    "collapsed": false
   }
  },
  {
   "cell_type": "code",
   "execution_count": 40,
   "outputs": [],
   "source": [
    "to_be_deleted.update(data[data['car_price'] == 'Eihinnoiteltu'].index)"
   ],
   "metadata": {
    "collapsed": false,
    "ExecuteTime": {
     "end_time": "2023-11-06T12:33:40.468618Z",
     "start_time": "2023-11-06T12:33:39.925999Z"
    }
   }
  },
  {
   "cell_type": "markdown",
   "source": [
    "Finally we can delete those indexes that we've marked."
   ],
   "metadata": {
    "collapsed": false
   }
  },
  {
   "cell_type": "code",
   "execution_count": 41,
   "outputs": [],
   "source": [
    "data = data.drop(index=to_be_deleted)"
   ],
   "metadata": {
    "collapsed": false,
    "ExecuteTime": {
     "end_time": "2023-11-06T12:33:40.468665Z",
     "start_time": "2023-11-06T12:33:39.928620Z"
    }
   }
  },
  {
   "cell_type": "markdown",
   "source": [
    "As we extracted all necessary information from 'roadworthy' and 'deal' columns we can delete them as well."
   ],
   "metadata": {
    "collapsed": false
   }
  },
  {
   "cell_type": "code",
   "execution_count": 42,
   "outputs": [],
   "source": [
    "data = data.drop(columns=['roadworthy', 'deal'])"
   ],
   "metadata": {
    "collapsed": false,
    "ExecuteTime": {
     "end_time": "2023-11-06T12:33:40.468709Z",
     "start_time": "2023-11-06T12:33:39.934685Z"
    }
   }
  },
  {
   "cell_type": "code",
   "execution_count": 43,
   "outputs": [],
   "source": [
    "data['car_price'] = data['car_price'].astype(int)"
   ],
   "metadata": {
    "collapsed": false,
    "ExecuteTime": {
     "end_time": "2023-11-06T12:33:40.468753Z",
     "start_time": "2023-11-06T12:33:39.937416Z"
    }
   }
  },
  {
   "cell_type": "markdown",
   "source": [
    "As result now we have clean dataset without NaN values. "
   ],
   "metadata": {
    "collapsed": false
   }
  },
  {
   "cell_type": "code",
   "execution_count": 44,
   "outputs": [],
   "source": [
    "data['make_model'] = data['make_model'].apply(lambda x: x.lower())"
   ],
   "metadata": {
    "collapsed": false,
    "ExecuteTime": {
     "end_time": "2023-11-06T12:33:40.468797Z",
     "start_time": "2023-11-06T12:33:39.939829Z"
    }
   }
  },
  {
   "cell_type": "code",
   "execution_count": 45,
   "outputs": [],
   "source": [
    "cars = pd.read_csv('data/characteristics.csv', index_col=0)\n",
    "cars = cars[['manufacturer', 'model', 'category', 'year', 'gear_box_type', 'doors']]\n",
    "cars['make_model'] = cars['manufacturer'] + ' ' + cars['model']\n",
    "cars['make_model'] = cars['make_model'].astype(str).apply(lambda x: x.lower())\n",
    "cars['gear_box_type'] = cars['gear_box_type'].apply(\n",
    "    lambda x: {'Automatic': 'Automaatti', 'Tiptronic': 'Automaatti', 'Manual': 'Manuaali', 'Variator': 'Automaatti'}.get(x)\n",
    ")\n",
    "cars = cars.drop(columns=['manufacturer', 'model'])\n",
    "cars = cars.dropna()"
   ],
   "metadata": {
    "collapsed": false,
    "ExecuteTime": {
     "end_time": "2023-11-06T12:33:40.482829Z",
     "start_time": "2023-11-06T12:33:39.942857Z"
    }
   }
  },
  {
   "cell_type": "code",
   "execution_count": 46,
   "outputs": [
    {
     "data": {
      "text/plain": "                           fuel      gear     hp  year       make_model\n0                        Diesel  Manuaali  116.0  2011          bmw 316\n1                      Bensiini  Manuaali  122.0  2011  volkswagen golf\n2                      Bensiini  Manuaali  160.0  2011        seat exeo\n3                      Bensiini  Manuaali  110.0  2011   renault megane\n4                      Bensiini  Manuaali  156.0  2011      peugeot 308\n...                         ...       ...    ...   ...              ...\n46400  Hybridi (bensiini/sähkö)  Manuaali   71.0  2021         fiat 500\n46401  Hybridi (bensiini/sähkö)  Manuaali   71.0  2021         fiat 500\n46402  Hybridi (bensiini/sähkö)  Manuaali   71.0  2021         fiat 500\n46403  Hybridi (bensiini/sähkö)  Manuaali   71.0  2021         fiat 500\n46404  Hybridi (bensiini/sähkö)  Manuaali   71.0  2021         fiat 500\n\n[46071 rows x 5 columns]",
      "text/html": "<div>\n<style scoped>\n    .dataframe tbody tr th:only-of-type {\n        vertical-align: middle;\n    }\n\n    .dataframe tbody tr th {\n        vertical-align: top;\n    }\n\n    .dataframe thead th {\n        text-align: right;\n    }\n</style>\n<table border=\"1\" class=\"dataframe\">\n  <thead>\n    <tr style=\"text-align: right;\">\n      <th></th>\n      <th>fuel</th>\n      <th>gear</th>\n      <th>hp</th>\n      <th>year</th>\n      <th>make_model</th>\n    </tr>\n  </thead>\n  <tbody>\n    <tr>\n      <th>0</th>\n      <td>Diesel</td>\n      <td>Manuaali</td>\n      <td>116.0</td>\n      <td>2011</td>\n      <td>bmw 316</td>\n    </tr>\n    <tr>\n      <th>1</th>\n      <td>Bensiini</td>\n      <td>Manuaali</td>\n      <td>122.0</td>\n      <td>2011</td>\n      <td>volkswagen golf</td>\n    </tr>\n    <tr>\n      <th>2</th>\n      <td>Bensiini</td>\n      <td>Manuaali</td>\n      <td>160.0</td>\n      <td>2011</td>\n      <td>seat exeo</td>\n    </tr>\n    <tr>\n      <th>3</th>\n      <td>Bensiini</td>\n      <td>Manuaali</td>\n      <td>110.0</td>\n      <td>2011</td>\n      <td>renault megane</td>\n    </tr>\n    <tr>\n      <th>4</th>\n      <td>Bensiini</td>\n      <td>Manuaali</td>\n      <td>156.0</td>\n      <td>2011</td>\n      <td>peugeot 308</td>\n    </tr>\n    <tr>\n      <th>...</th>\n      <td>...</td>\n      <td>...</td>\n      <td>...</td>\n      <td>...</td>\n      <td>...</td>\n    </tr>\n    <tr>\n      <th>46400</th>\n      <td>Hybridi (bensiini/sähkö)</td>\n      <td>Manuaali</td>\n      <td>71.0</td>\n      <td>2021</td>\n      <td>fiat 500</td>\n    </tr>\n    <tr>\n      <th>46401</th>\n      <td>Hybridi (bensiini/sähkö)</td>\n      <td>Manuaali</td>\n      <td>71.0</td>\n      <td>2021</td>\n      <td>fiat 500</td>\n    </tr>\n    <tr>\n      <th>46402</th>\n      <td>Hybridi (bensiini/sähkö)</td>\n      <td>Manuaali</td>\n      <td>71.0</td>\n      <td>2021</td>\n      <td>fiat 500</td>\n    </tr>\n    <tr>\n      <th>46403</th>\n      <td>Hybridi (bensiini/sähkö)</td>\n      <td>Manuaali</td>\n      <td>71.0</td>\n      <td>2021</td>\n      <td>fiat 500</td>\n    </tr>\n    <tr>\n      <th>46404</th>\n      <td>Hybridi (bensiini/sähkö)</td>\n      <td>Manuaali</td>\n      <td>71.0</td>\n      <td>2021</td>\n      <td>fiat 500</td>\n    </tr>\n  </tbody>\n</table>\n<p>46071 rows × 5 columns</p>\n</div>"
     },
     "execution_count": 46,
     "metadata": {},
     "output_type": "execute_result"
    }
   ],
   "source": [
    "cars_hp = pd.read_csv('data/autoscout24-germany-dataset.csv')\n",
    "cars_hp['make_model'] = cars_hp['make'] + ' ' + cars_hp['model']\n",
    "cars_hp['make_model'] = cars_hp['make_model'].astype(str).apply(lambda x: x.lower())\n",
    "cars_hp = cars_hp.drop(columns=['make', 'model', 'mileage', 'offerType', 'price'])\n",
    "\n",
    "fuel_dict = {\n",
    "    'Gasoline': 'Bensiini',\n",
    "    'Electric/Gasoline': 'Hybridi (bensiini/sähkö)',\n",
    "    'Electric': 'Sähkö',\n",
    "    'LPG': 'Kaasu',\n",
    "    'CNG': 'Kaasu',\n",
    "    'Electric/Diesel': 'Hybridi (diesel/sähkö)',\n",
    "    'Others': np.nan,\n",
    "    '-/- (Fuel)': np.nan,\n",
    "    'Ethanol': 'E85/bensiini',\n",
    "    'Hydrogen': np.nan\n",
    "}\n",
    "\n",
    "cars_hp['fuel'] = cars_hp['fuel'].apply(lambda x: fuel_dict.get(x, x))\n",
    "\n",
    "gear_dict = {\n",
    "    'Manual': 'Manuaali',\n",
    "    'Automatic': 'Automaatti',\n",
    "    'Semi-automatic': np.nan\n",
    "}\n",
    "\n",
    "cars_hp['gear'] = cars_hp['gear'].apply(lambda x: gear_dict.get(x, x))\n",
    "cars_hp = cars_hp.dropna()\n",
    "cars_hp"
   ],
   "metadata": {
    "collapsed": false,
    "ExecuteTime": {
     "end_time": "2023-11-06T12:33:40.485921Z",
     "start_time": "2023-11-06T12:33:40.079132Z"
    }
   }
  },
  {
   "cell_type": "code",
   "execution_count": 47,
   "outputs": [],
   "source": [
    "cars_hp_grouped_year = cars_hp.groupby(by=['make_model', 'year', 'gear', 'fuel'], as_index=False)['hp'].agg(pd.Series.mode)\n",
    "cars_hp_grouped = cars_hp.groupby(by=['make_model', 'gear', 'fuel'], as_index=False)['hp'].agg(pd.Series.mode)"
   ],
   "metadata": {
    "collapsed": false,
    "ExecuteTime": {
     "end_time": "2023-11-06T12:33:40.628243Z",
     "start_time": "2023-11-06T12:33:40.131078Z"
    }
   }
  },
  {
   "cell_type": "code",
   "execution_count": 48,
   "outputs": [],
   "source": [
    "data_grouped_year = data.groupby(by=['make_model', 'car_make', 'year', 'gearbox_type', 'fuel_type'], as_index=False)['engine_vol'].count()\n",
    "data_grouped = data.groupby(by=['make_model', 'gearbox_type', 'fuel_type'], as_index=False)['engine_vol'].count()"
   ],
   "metadata": {
    "collapsed": false,
    "ExecuteTime": {
     "end_time": "2023-11-06T12:33:40.628472Z",
     "start_time": "2023-11-06T12:33:40.381840Z"
    }
   }
  },
  {
   "cell_type": "code",
   "execution_count": 49,
   "outputs": [],
   "source": [
    "data_joined_year = pd.merge(\n",
    "    data_grouped_year,\n",
    "    cars_hp_grouped_year, \n",
    "    how='left', \n",
    "    left_on=['make_model', 'year', 'fuel_type', 'gearbox_type'],\n",
    "    right_on=['make_model', 'year', 'fuel', 'gear']\n",
    ")"
   ],
   "metadata": {
    "collapsed": false,
    "ExecuteTime": {
     "end_time": "2023-11-06T12:33:40.628534Z",
     "start_time": "2023-11-06T12:33:40.387166Z"
    }
   }
  },
  {
   "cell_type": "code",
   "execution_count": 50,
   "outputs": [],
   "source": [
    "data_joined = pd.merge(\n",
    "    data_joined_year,\n",
    "    cars_hp_grouped, \n",
    "    how='left', \n",
    "    left_on=['make_model', 'fuel_type', 'gearbox_type'],\n",
    "    right_on=['make_model', 'fuel', 'gear']\n",
    ")"
   ],
   "metadata": {
    "collapsed": false,
    "ExecuteTime": {
     "end_time": "2023-11-06T12:33:40.628582Z",
     "start_time": "2023-11-06T12:33:40.392134Z"
    }
   }
  },
  {
   "cell_type": "code",
   "execution_count": 51,
   "outputs": [],
   "source": [
    "data_joined['hp'] = np.where(data_joined['hp_x'].notna(), data_joined['hp_x'], data_joined['hp_y'])\n",
    "data_joined['hp'] = data_joined['hp'].apply(lambda x: x if isinstance(x, float) else mean(x))\n",
    "data_joined = data_joined.drop(columns=['engine_vol', 'gear_x', 'gear_y', 'fuel_x', 'fuel_y', 'hp_x', 'hp_y'])\n",
    "\n",
    "data_joined_make = data_joined.groupby(by='car_make')['hp'].mean()\n",
    "\n",
    "data_joined = pd.merge(\n",
    "    data_joined,\n",
    "    data_joined_make, \n",
    "    how='left', \n",
    "    on='car_make'\n",
    ")\n",
    "\n",
    "data_joined['hp'] = np.where(data_joined['hp_x'].notna(), data_joined['hp_x'], data_joined['hp_y'])\n",
    "data_joined = data_joined.drop(columns=['car_make', 'hp_x', 'hp_y'])"
   ],
   "metadata": {
    "collapsed": false,
    "ExecuteTime": {
     "end_time": "2023-11-06T12:33:40.628626Z",
     "start_time": "2023-11-06T12:33:40.396077Z"
    }
   }
  },
  {
   "cell_type": "code",
   "execution_count": 52,
   "outputs": [],
   "source": [
    "data = pd.merge(\n",
    "    data,\n",
    "    data_joined, \n",
    "    how='left', \n",
    "    on=['make_model', 'year', 'gearbox_type', 'fuel_type']\n",
    ")\n",
    "data['hp_x'] = np.where(data['hp_x'].notna(), data['hp_x'], data['power']/0.73549875)\n",
    "data['hp_x'] = np.where(data['hp_x'] > 59, data['hp_x'], data['hp_y'])\n",
    "data = data.drop(columns=['hp_y', 'power'])\n",
    "data = data.rename(columns={'hp_x': 'hp'})"
   ],
   "metadata": {
    "collapsed": false,
    "ExecuteTime": {
     "end_time": "2023-11-06T12:33:40.628668Z",
     "start_time": "2023-11-06T12:33:40.401270Z"
    }
   }
  },
  {
   "cell_type": "code",
   "execution_count": 53,
   "outputs": [],
   "source": [
    "hp_grouped = data.groupby(by=['engine_vol', 'year', 'fuel_type', 'gearbox_type'], as_index=False)['hp'].mean()\n",
    "hp_grouped['hp'] = hp_grouped['hp'].apply(lambda x: x if isinstance(x, float) else np.nan if len(x)==0 else mean(x))\n",
    "\n",
    "data = pd.merge(\n",
    "    data,\n",
    "    hp_grouped, \n",
    "    how='left', \n",
    "    on=['engine_vol', 'year', 'fuel_type', 'gearbox_type']\n",
    ")\n",
    "data['hp_x'] = np.where(data['hp_x'].notna(), data['hp_x'], data['hp_y'])\n",
    "data = data.drop(columns=['hp_y'])\n",
    "data = data.rename(columns={'hp_x': 'hp'})"
   ],
   "metadata": {
    "collapsed": false,
    "ExecuteTime": {
     "end_time": "2023-11-06T12:33:40.628711Z",
     "start_time": "2023-11-06T12:33:40.406049Z"
    }
   }
  },
  {
   "cell_type": "code",
   "execution_count": 54,
   "outputs": [],
   "source": [
    "hp_grouped_no_year = data.groupby(by=['engine_vol', 'fuel_type'], as_index=False)['hp'].mean()\n",
    "\n",
    "data = pd.merge(\n",
    "    data,\n",
    "    hp_grouped_no_year, \n",
    "    how='left', \n",
    "    on=['engine_vol', 'fuel_type']\n",
    ")\n",
    "data['hp_x'] = np.where(data['hp_x'].notna(), data['hp_x'], data['hp_y'])\n",
    "data = data.drop(columns=['hp_y'])\n",
    "data = data.rename(columns={'hp_x': 'hp'})"
   ],
   "metadata": {
    "collapsed": false,
    "ExecuteTime": {
     "end_time": "2023-11-06T12:33:40.628753Z",
     "start_time": "2023-11-06T12:33:40.411976Z"
    }
   }
  },
  {
   "cell_type": "code",
   "execution_count": 55,
   "outputs": [],
   "source": [
    "data['hp'] = data['hp'].fillna(data['hp'].mean())"
   ],
   "metadata": {
    "collapsed": false,
    "ExecuteTime": {
     "end_time": "2023-11-06T12:33:40.628794Z",
     "start_time": "2023-11-06T12:33:40.416346Z"
    }
   }
  },
  {
   "cell_type": "code",
   "execution_count": 56,
   "outputs": [],
   "source": [
    "cars_categories = cars.groupby(by=['make_model'], as_index=False)[['doors', 'category']].agg(pd.Series.mode)\n",
    "\n",
    "cars_categories['doors'] = cars_categories['doors'].apply(\n",
    "    lambda x: x.replace(' ', '') if isinstance(x, str) else x.tolist()[0].replace(' ', '')\n",
    ")\n",
    "\n",
    "cars_categories['category'] = cars_categories['category'].apply(lambda x: x if isinstance(x, str) else x.tolist()[0])"
   ],
   "metadata": {
    "collapsed": false,
    "ExecuteTime": {
     "end_time": "2023-11-06T12:33:40.699629Z",
     "start_time": "2023-11-06T12:33:40.419474Z"
    }
   }
  },
  {
   "cell_type": "code",
   "execution_count": 57,
   "outputs": [],
   "source": [
    "data = pd.merge(\n",
    "    data,\n",
    "    cars_categories, \n",
    "    how='left', \n",
    "    on='make_model'\n",
    ")\n",
    "\n",
    "data['category_x'] = np.where(data['category_x'].notna(), data['category_x'], data['category_y'])\n",
    "\n",
    "data['doors_x'] = np.where(data['doors_x'].notna(), data['doors_x'], data['doors_y'])\n",
    "\n",
    "data = data.drop(columns=['category_y', 'doors_y'])\n",
    "data = data.rename(columns={'category_x': 'category', 'doors_x': 'doors'})"
   ],
   "metadata": {
    "collapsed": false,
    "ExecuteTime": {
     "end_time": "2023-11-06T12:33:40.713496Z",
     "start_time": "2023-11-06T12:33:40.584214Z"
    }
   }
  },
  {
   "cell_type": "code",
   "execution_count": 58,
   "outputs": [],
   "source": [
    "category_door = cars.groupby(by=['category'], as_index=False)['doors'].agg(pd.Series.mode)\n",
    "category_door['doors'] = category_door['doors'].apply(\n",
    "    lambda x: x.replace(' ', ''))\n",
    "\n",
    "door_category = cars.groupby(by=['doors'], as_index=False)['category'].agg(pd.Series.mode)\n",
    "door_category['doors'] = door_category['doors'].apply(\n",
    "    lambda x: x.replace(' ', ''))\n",
    "\n",
    "data = pd.merge(\n",
    "    data,\n",
    "    category_door, \n",
    "    how='left', \n",
    "    on='category'\n",
    ")\n",
    "\n",
    "data['doors_x'] = np.where(data['doors_x'].notna(), data['doors_x'], data['doors_y'])\n",
    "\n",
    "data = data.drop(columns=['doors_y'])\n",
    "data = data.rename(columns={'doors_x': 'doors'})\n",
    "\n",
    "data = pd.merge(\n",
    "    data,\n",
    "    door_category, \n",
    "    how='left', \n",
    "    on='doors'\n",
    ")\n",
    "\n",
    "data['category_x'] = np.where(data['category_x'].notna(), data['category_x'], data['category_y'])\n",
    "\n",
    "data = data.drop(columns=['category_y'])\n",
    "data = data.rename(columns={'category_x': 'category'})\n",
    "\n",
    "data = pd.merge(\n",
    "    data,\n",
    "    category_door, \n",
    "    how='left', \n",
    "    on='category'\n",
    ")\n",
    "\n",
    "data['doors_x'] = np.where(data['doors_x'].notna(), data['doors_x'], data['doors_y'])\n",
    "\n",
    "data = data.drop(columns=['doors_y'])\n",
    "data = data.rename(columns={'doors_x': 'doors'})"
   ],
   "metadata": {
    "collapsed": false,
    "ExecuteTime": {
     "end_time": "2023-11-06T12:33:40.713760Z",
     "start_time": "2023-11-06T12:33:40.591530Z"
    }
   }
  },
  {
   "cell_type": "code",
   "execution_count": 59,
   "outputs": [],
   "source": [
    "data['engine_vol'] = data['engine_vol'].astype(float)"
   ],
   "metadata": {
    "collapsed": false,
    "ExecuteTime": {
     "end_time": "2023-11-06T12:33:40.713817Z",
     "start_time": "2023-11-06T12:33:40.608381Z"
    }
   }
  },
  {
   "cell_type": "code",
   "execution_count": 60,
   "outputs": [],
   "source": [
    "main_data = pd.read_csv('data/data_clean.csv', index_col=0)\n",
    "car_companies = main_data[main_data['is_company'] == 1].groupby(by='car_seller')['town'].count().index\n",
    "main_data = main_data[[\n",
    "    'engine_vol', 'make_model', 'awd', 'category', \n",
    "    'doors', 'hp', 'capacity', 'fuel_type',\n",
    "    'price_category', 'gearbox_type']]\n",
    "md_grouped = main_data.groupby(by=['make_model', 'fuel_type', 'engine_vol'], as_index=False).agg(pd.Series.mode)\n",
    "\n",
    "data = pd.merge(\n",
    "    data,\n",
    "    md_grouped, \n",
    "    how='left', \n",
    "    on=['make_model', 'engine_vol', 'fuel_type']\n",
    ")\n",
    "\n",
    "data['awd_x'] = np.where(data['awd_x'].notna(), data['awd_x'], data['awd_y'])\n",
    "data['category_x'] = np.where(data['category_x'].notna(), data['category_x'], data['category_y'])\n",
    "data['doors_x'] = np.where(data['doors_x'].notna(), data['doors_x'], data['doors_y'])\n",
    "data['hp_x'] = np.where(data['hp_x'].notna(), data['hp_x'], data['hp_y'])\n",
    "data['capacity_x'] = np.where(data['capacity_x'].notna(), data['capacity_x'], data['capacity_y'])\n",
    "data['gearbox_type_x'] = np.where(data['gearbox_type_x'].notna(), data['gearbox_type_x'], data['gearbox_type_y'])\n",
    "\n",
    "data = data.drop(columns=['awd_y', 'doors_y', 'category_y', 'hp_y', 'capacity_y', 'gearbox_type_y'])\n",
    "data = data.rename(columns={\n",
    "    'doors_x': 'doors', \n",
    "    'awd_x': 'awd',\n",
    "    'category_x': 'category',\n",
    "    'hp_x': 'hp',\n",
    "    'capacity_x': 'capacity',\n",
    "    'gearbox_type_x': 'gearbox_type'\n",
    "})"
   ],
   "metadata": {
    "collapsed": false,
    "ExecuteTime": {
     "end_time": "2023-11-06T12:33:41.453543Z",
     "start_time": "2023-11-06T12:33:40.612611Z"
    }
   }
  },
  {
   "cell_type": "code",
   "execution_count": 61,
   "outputs": [],
   "source": [
    "def get_hp_cat(hp_value):\n",
    "    if hp_value < 100:\n",
    "        return 'low (less 100)'\n",
    "    elif hp_value < 170:\n",
    "        return 'medium (less 170)'\n",
    "    elif hp_value < 270:\n",
    "        return 'high (less 270)'\n",
    "    else:\n",
    "        return 'max (more 270)'\n",
    "    \n",
    "data['hp_cat'] = data['hp'].apply(get_hp_cat)"
   ],
   "metadata": {
    "collapsed": false,
    "ExecuteTime": {
     "end_time": "2023-11-06T12:33:41.460700Z",
     "start_time": "2023-11-06T12:33:41.454306Z"
    }
   }
  },
  {
   "cell_type": "markdown",
   "source": [
    "Some cars are sold by individuals, others are sold by car companies. I'll mark them as categorical."
   ],
   "metadata": {
    "collapsed": false
   }
  },
  {
   "cell_type": "code",
   "execution_count": 62,
   "outputs": [],
   "source": [
    "company_tags = [' oy', 'tmi ', '.fi', 't:mi ', ' ky', '.com', ' ab', 'oy ', ' oü']\n",
    "\n",
    "def is_company(sample_string, car_companies, company_tags):\n",
    "    if sample_string in car_companies:\n",
    "        return 1\n",
    "    else:        \n",
    "        for tag in company_tags:\n",
    "            if tag in sample_string:\n",
    "                return 1\n",
    "        return 0\n",
    "\n",
    "data['is_company'] = data['car_seller'].apply(lambda x: is_company(x, car_companies, company_tags))"
   ],
   "metadata": {
    "collapsed": false,
    "ExecuteTime": {
     "end_time": "2023-11-06T12:33:41.460919Z",
     "start_time": "2023-11-06T12:33:41.458439Z"
    }
   }
  },
  {
   "cell_type": "code",
   "execution_count": 63,
   "outputs": [],
   "source": [
    "population = pd.read_excel('data/001_11lj_2023m08_20231024-194749.xlsx')\n",
    "population = population.dropna(\n",
    "    subset=['Unnamed: 1', 'Unnamed: 2']).reset_index(drop=True).drop(\n",
    "    columns='Preliminary population structure by Month, Area and Information').rename(\n",
    "    columns={'Unnamed: 1': 'town', 'Unnamed: 2': 'population'})\n",
    "\n",
    "population['population'] = population['population'].astype(int)\n",
    "\n",
    "data = pd.merge(\n",
    "    data,\n",
    "    population, \n",
    "    how='left', \n",
    "    on='town'\n",
    ")\n",
    "\n",
    "data['population'] = data['population'].fillna(data['population'].median()) "
   ],
   "metadata": {
    "collapsed": false,
    "ExecuteTime": {
     "end_time": "2023-11-06T12:33:41.522721Z",
     "start_time": "2023-11-06T12:33:41.461182Z"
    }
   }
  },
  {
   "cell_type": "code",
   "execution_count": 64,
   "outputs": [],
   "source": [
    "def get_city_cat(population):\n",
    "    if population <= 6000:\n",
    "        return 'Very small (0-6k)'\n",
    "    elif population <= 20000:\n",
    "        return 'Small (6k-20k)'\n",
    "    elif population <= 50000:\n",
    "        return 'Medium (20-50k)'\n",
    "    elif population <= 100000:\n",
    "        return 'Big (50-100k)'\n",
    "    else:\n",
    "        return 'Biggest (more 100k)'\n",
    "    \n",
    "data['town_category'] = data['population'].apply(get_city_cat)"
   ],
   "metadata": {
    "collapsed": false,
    "ExecuteTime": {
     "end_time": "2023-11-06T12:33:41.530214Z",
     "start_time": "2023-11-06T12:33:41.524390Z"
    }
   }
  },
  {
   "cell_type": "code",
   "execution_count": 65,
   "outputs": [],
   "source": [
    "for i in data.columns[data.isna().any()]:\n",
    "    data[i] = data[i].fillna(data[i].mode()[0])"
   ],
   "metadata": {
    "collapsed": false,
    "ExecuteTime": {
     "end_time": "2023-11-06T12:33:41.532082Z",
     "start_time": "2023-11-06T12:33:41.528928Z"
    }
   }
  },
  {
   "cell_type": "code",
   "execution_count": 66,
   "outputs": [
    {
     "data": {
      "text/plain": "           town                                                 id  \\\n0        Vantaa  https://www.nettiauto.com/mercedes-benz/e/1382...   \n1        Vantaa   https://www.nettiauto.com/subaru/legacy/13834982   \n2    Nurmijärvi  https://www.nettiauto.com/volkswagen/passat/13...   \n3       Kajaani     https://www.nettiauto.com/ford/mondeo/13901773   \n4       Loviisa      https://www.nettiauto.com/fiat/marea/13860523   \n..          ...                                                ...   \n570     Joensuu   https://www.nettiauto.com/nissan/almera/13956130   \n571     Tampere     https://www.nettiauto.com/ford/mondeo/13956139   \n572     Tampere      https://www.nettiauto.com/ford/c-max/13956882   \n573    Helsinki  https://www.nettiauto.com/volkswagen/jetta/139...   \n574      Ähtäri    https://www.nettiauto.com/chrysler/neon/9511567   \n\n     engine_vol       car_make   model         make_model  awd   category  \\\n0           2.0  Mercedes-Benz       E    mercedes-benz e    0      Sedan   \n1           2.0         Subaru  Legacy      subaru legacy    1      Sedan   \n2           2.0     Volkswagen  Passat  volkswagen passat    0      Sedan   \n3           1.8           Ford  Mondeo        ford mondeo    0      Sedan   \n4           1.6           Fiat   Marea         fiat marea    0      Sedan   \n..          ...            ...     ...                ...  ...        ...   \n570         1.6         Nissan  Almera      nissan almera    0  Hatchback   \n571         1.8           Ford  Mondeo        ford mondeo    0      Sedan   \n572         1.8           Ford   C-Max         ford c-max    0  Universal   \n573         1.4     Volkswagen   Jetta   volkswagen jetta    0      Sedan   \n574         2.0       Chrysler    Neon      chrysler neon    0      Sedan   \n\n    doors   hp  ...  mileage               fuel_type  \\\n0     4/5  122  ...    81000  Hybridi (diesel/sähkö)   \n1     4/5  260  ...   122000                Bensiini   \n2     4/5  150  ...   114000                  Diesel   \n3     4/5  160  ...   428000                Bensiini   \n4     4/5   74  ...   260000                Bensiini   \n..    ...  ...  ...      ...                     ...   \n570   4/5   80  ...   255000                Bensiini   \n571   4/5  160  ...   320000                Bensiini   \n572   4/5  125  ...   299485                Bensiini   \n573   4/5  105  ...   290000                Bensiini   \n574   4/5  287  ...   220000                Bensiini   \n\n                        car_seller car_price price_category  \\\n0            future store drivalia     35750        Highend   \n1                       jdm outlet      9890         Medium   \n2                   juhani koskela       100         Medium   \n3    markus rikhard juhani lavonen       240         Medium   \n4                  tiina karttiala       250         Medium   \n..                             ...       ...            ...   \n570                 toni turpeinen       999         Medium   \n571                tero järvivuori       999         Medium   \n572                   carita start       999         Medium   \n573                   timo laurila       999         Medium   \n574              korsumäen auto ky      1000         Budget   \n\n                hp_cat is_company population        town_category  \\\n0    medium (less 170)          0   245384.0  Biggest (more 100k)   \n1      high (less 270)          1   245384.0  Biggest (more 100k)   \n2    medium (less 170)          0    44616.0      Medium (20-50k)   \n3    medium (less 170)          0    36315.0      Medium (20-50k)   \n4       low (less 100)          0    14442.0       Small (6k-20k)   \n..                 ...        ...        ...                  ...   \n570     low (less 100)          0    77531.0        Big (50-100k)   \n571  medium (less 170)          0   252872.0  Biggest (more 100k)   \n572  medium (less 170)          0   252872.0  Biggest (more 100k)   \n573  medium (less 170)          0   672036.0  Biggest (more 100k)   \n574     max (more 270)          1     5364.0    Very small (0-6k)   \n\n     manual_gearbox  \n0                 0  \n1                 0  \n2                 1  \n3                 1  \n4                 1  \n..              ...  \n570               1  \n571               1  \n572               1  \n573               1  \n574               1  \n\n[575 rows x 22 columns]",
      "text/html": "<div>\n<style scoped>\n    .dataframe tbody tr th:only-of-type {\n        vertical-align: middle;\n    }\n\n    .dataframe tbody tr th {\n        vertical-align: top;\n    }\n\n    .dataframe thead th {\n        text-align: right;\n    }\n</style>\n<table border=\"1\" class=\"dataframe\">\n  <thead>\n    <tr style=\"text-align: right;\">\n      <th></th>\n      <th>town</th>\n      <th>id</th>\n      <th>engine_vol</th>\n      <th>car_make</th>\n      <th>model</th>\n      <th>make_model</th>\n      <th>awd</th>\n      <th>category</th>\n      <th>doors</th>\n      <th>hp</th>\n      <th>...</th>\n      <th>mileage</th>\n      <th>fuel_type</th>\n      <th>car_seller</th>\n      <th>car_price</th>\n      <th>price_category</th>\n      <th>hp_cat</th>\n      <th>is_company</th>\n      <th>population</th>\n      <th>town_category</th>\n      <th>manual_gearbox</th>\n    </tr>\n  </thead>\n  <tbody>\n    <tr>\n      <th>0</th>\n      <td>Vantaa</td>\n      <td>https://www.nettiauto.com/mercedes-benz/e/1382...</td>\n      <td>2.0</td>\n      <td>Mercedes-Benz</td>\n      <td>E</td>\n      <td>mercedes-benz e</td>\n      <td>0</td>\n      <td>Sedan</td>\n      <td>4/5</td>\n      <td>122</td>\n      <td>...</td>\n      <td>81000</td>\n      <td>Hybridi (diesel/sähkö)</td>\n      <td>future store drivalia</td>\n      <td>35750</td>\n      <td>Highend</td>\n      <td>medium (less 170)</td>\n      <td>0</td>\n      <td>245384.0</td>\n      <td>Biggest (more 100k)</td>\n      <td>0</td>\n    </tr>\n    <tr>\n      <th>1</th>\n      <td>Vantaa</td>\n      <td>https://www.nettiauto.com/subaru/legacy/13834982</td>\n      <td>2.0</td>\n      <td>Subaru</td>\n      <td>Legacy</td>\n      <td>subaru legacy</td>\n      <td>1</td>\n      <td>Sedan</td>\n      <td>4/5</td>\n      <td>260</td>\n      <td>...</td>\n      <td>122000</td>\n      <td>Bensiini</td>\n      <td>jdm outlet</td>\n      <td>9890</td>\n      <td>Medium</td>\n      <td>high (less 270)</td>\n      <td>1</td>\n      <td>245384.0</td>\n      <td>Biggest (more 100k)</td>\n      <td>0</td>\n    </tr>\n    <tr>\n      <th>2</th>\n      <td>Nurmijärvi</td>\n      <td>https://www.nettiauto.com/volkswagen/passat/13...</td>\n      <td>2.0</td>\n      <td>Volkswagen</td>\n      <td>Passat</td>\n      <td>volkswagen passat</td>\n      <td>0</td>\n      <td>Sedan</td>\n      <td>4/5</td>\n      <td>150</td>\n      <td>...</td>\n      <td>114000</td>\n      <td>Diesel</td>\n      <td>juhani koskela</td>\n      <td>100</td>\n      <td>Medium</td>\n      <td>medium (less 170)</td>\n      <td>0</td>\n      <td>44616.0</td>\n      <td>Medium (20-50k)</td>\n      <td>1</td>\n    </tr>\n    <tr>\n      <th>3</th>\n      <td>Kajaani</td>\n      <td>https://www.nettiauto.com/ford/mondeo/13901773</td>\n      <td>1.8</td>\n      <td>Ford</td>\n      <td>Mondeo</td>\n      <td>ford mondeo</td>\n      <td>0</td>\n      <td>Sedan</td>\n      <td>4/5</td>\n      <td>160</td>\n      <td>...</td>\n      <td>428000</td>\n      <td>Bensiini</td>\n      <td>markus rikhard juhani lavonen</td>\n      <td>240</td>\n      <td>Medium</td>\n      <td>medium (less 170)</td>\n      <td>0</td>\n      <td>36315.0</td>\n      <td>Medium (20-50k)</td>\n      <td>1</td>\n    </tr>\n    <tr>\n      <th>4</th>\n      <td>Loviisa</td>\n      <td>https://www.nettiauto.com/fiat/marea/13860523</td>\n      <td>1.6</td>\n      <td>Fiat</td>\n      <td>Marea</td>\n      <td>fiat marea</td>\n      <td>0</td>\n      <td>Sedan</td>\n      <td>4/5</td>\n      <td>74</td>\n      <td>...</td>\n      <td>260000</td>\n      <td>Bensiini</td>\n      <td>tiina karttiala</td>\n      <td>250</td>\n      <td>Medium</td>\n      <td>low (less 100)</td>\n      <td>0</td>\n      <td>14442.0</td>\n      <td>Small (6k-20k)</td>\n      <td>1</td>\n    </tr>\n    <tr>\n      <th>...</th>\n      <td>...</td>\n      <td>...</td>\n      <td>...</td>\n      <td>...</td>\n      <td>...</td>\n      <td>...</td>\n      <td>...</td>\n      <td>...</td>\n      <td>...</td>\n      <td>...</td>\n      <td>...</td>\n      <td>...</td>\n      <td>...</td>\n      <td>...</td>\n      <td>...</td>\n      <td>...</td>\n      <td>...</td>\n      <td>...</td>\n      <td>...</td>\n      <td>...</td>\n      <td>...</td>\n    </tr>\n    <tr>\n      <th>570</th>\n      <td>Joensuu</td>\n      <td>https://www.nettiauto.com/nissan/almera/13956130</td>\n      <td>1.6</td>\n      <td>Nissan</td>\n      <td>Almera</td>\n      <td>nissan almera</td>\n      <td>0</td>\n      <td>Hatchback</td>\n      <td>4/5</td>\n      <td>80</td>\n      <td>...</td>\n      <td>255000</td>\n      <td>Bensiini</td>\n      <td>toni turpeinen</td>\n      <td>999</td>\n      <td>Medium</td>\n      <td>low (less 100)</td>\n      <td>0</td>\n      <td>77531.0</td>\n      <td>Big (50-100k)</td>\n      <td>1</td>\n    </tr>\n    <tr>\n      <th>571</th>\n      <td>Tampere</td>\n      <td>https://www.nettiauto.com/ford/mondeo/13956139</td>\n      <td>1.8</td>\n      <td>Ford</td>\n      <td>Mondeo</td>\n      <td>ford mondeo</td>\n      <td>0</td>\n      <td>Sedan</td>\n      <td>4/5</td>\n      <td>160</td>\n      <td>...</td>\n      <td>320000</td>\n      <td>Bensiini</td>\n      <td>tero järvivuori</td>\n      <td>999</td>\n      <td>Medium</td>\n      <td>medium (less 170)</td>\n      <td>0</td>\n      <td>252872.0</td>\n      <td>Biggest (more 100k)</td>\n      <td>1</td>\n    </tr>\n    <tr>\n      <th>572</th>\n      <td>Tampere</td>\n      <td>https://www.nettiauto.com/ford/c-max/13956882</td>\n      <td>1.8</td>\n      <td>Ford</td>\n      <td>C-Max</td>\n      <td>ford c-max</td>\n      <td>0</td>\n      <td>Universal</td>\n      <td>4/5</td>\n      <td>125</td>\n      <td>...</td>\n      <td>299485</td>\n      <td>Bensiini</td>\n      <td>carita start</td>\n      <td>999</td>\n      <td>Medium</td>\n      <td>medium (less 170)</td>\n      <td>0</td>\n      <td>252872.0</td>\n      <td>Biggest (more 100k)</td>\n      <td>1</td>\n    </tr>\n    <tr>\n      <th>573</th>\n      <td>Helsinki</td>\n      <td>https://www.nettiauto.com/volkswagen/jetta/139...</td>\n      <td>1.4</td>\n      <td>Volkswagen</td>\n      <td>Jetta</td>\n      <td>volkswagen jetta</td>\n      <td>0</td>\n      <td>Sedan</td>\n      <td>4/5</td>\n      <td>105</td>\n      <td>...</td>\n      <td>290000</td>\n      <td>Bensiini</td>\n      <td>timo laurila</td>\n      <td>999</td>\n      <td>Medium</td>\n      <td>medium (less 170)</td>\n      <td>0</td>\n      <td>672036.0</td>\n      <td>Biggest (more 100k)</td>\n      <td>1</td>\n    </tr>\n    <tr>\n      <th>574</th>\n      <td>Ähtäri</td>\n      <td>https://www.nettiauto.com/chrysler/neon/9511567</td>\n      <td>2.0</td>\n      <td>Chrysler</td>\n      <td>Neon</td>\n      <td>chrysler neon</td>\n      <td>0</td>\n      <td>Sedan</td>\n      <td>4/5</td>\n      <td>287</td>\n      <td>...</td>\n      <td>220000</td>\n      <td>Bensiini</td>\n      <td>korsumäen auto ky</td>\n      <td>1000</td>\n      <td>Budget</td>\n      <td>max (more 270)</td>\n      <td>1</td>\n      <td>5364.0</td>\n      <td>Very small (0-6k)</td>\n      <td>1</td>\n    </tr>\n  </tbody>\n</table>\n<p>575 rows × 22 columns</p>\n</div>"
     },
     "execution_count": 66,
     "metadata": {},
     "output_type": "execute_result"
    }
   ],
   "source": [
    "data['mileage'] = data['mileage'].astype(int)\n",
    "data['awd'] = data['awd'].astype(int)\n",
    "data['hp'] = data['hp'].astype(int)\n",
    "data['capacity'] = data['capacity'].astype(int)\n",
    "data['manual_gearbox'] = data['gearbox_type'].apply(lambda x: 1 if x=='Manuaali' else 0)\n",
    "data = data.drop(columns=['year', 'gearbox_type'])\n",
    "data"
   ],
   "metadata": {
    "collapsed": false,
    "ExecuteTime": {
     "end_time": "2023-11-06T12:33:41.544776Z",
     "start_time": "2023-11-06T12:33:41.532799Z"
    }
   }
  },
  {
   "cell_type": "code",
   "execution_count": 67,
   "outputs": [],
   "source": [
    "data['category'] = data['category'].apply(lambda x: x[0] if type(x) is np.ndarray else x)\n",
    "data['doors'] = data['doors'].apply(lambda x: x[0] if type(x) is np.ndarray else x)"
   ],
   "metadata": {
    "collapsed": false,
    "ExecuteTime": {
     "end_time": "2023-11-06T12:33:41.557740Z",
     "start_time": "2023-11-06T12:33:41.542909Z"
    }
   }
  },
  {
   "cell_type": "code",
   "execution_count": 68,
   "outputs": [
    {
     "data": {
      "text/plain": "           town                                                 id  \\\n0        Vantaa  https://www.nettiauto.com/mercedes-benz/e/1382...   \n1        Vantaa   https://www.nettiauto.com/subaru/legacy/13834982   \n2    Nurmijärvi  https://www.nettiauto.com/volkswagen/passat/13...   \n3       Kajaani     https://www.nettiauto.com/ford/mondeo/13901773   \n4       Loviisa      https://www.nettiauto.com/fiat/marea/13860523   \n..          ...                                                ...   \n570     Joensuu   https://www.nettiauto.com/nissan/almera/13956130   \n571     Tampere     https://www.nettiauto.com/ford/mondeo/13956139   \n572     Tampere      https://www.nettiauto.com/ford/c-max/13956882   \n573    Helsinki  https://www.nettiauto.com/volkswagen/jetta/139...   \n574      Ähtäri    https://www.nettiauto.com/chrysler/neon/9511567   \n\n     engine_vol       car_make   model         make_model  awd   category  \\\n0           2.0  Mercedes-Benz       E    mercedes-benz e    0      Sedan   \n1           2.0         Subaru  Legacy      subaru legacy    1      Sedan   \n2           2.0     Volkswagen  Passat  volkswagen passat    0      Sedan   \n3           1.8           Ford  Mondeo        ford mondeo    0      Sedan   \n4           1.6           Fiat   Marea         fiat marea    0      Sedan   \n..          ...            ...     ...                ...  ...        ...   \n570         1.6         Nissan  Almera      nissan almera    0  Hatchback   \n571         1.8           Ford  Mondeo        ford mondeo    0      Sedan   \n572         1.8           Ford   C-Max         ford c-max    0  Universal   \n573         1.4     Volkswagen   Jetta   volkswagen jetta    0      Sedan   \n574         2.0       Chrysler    Neon      chrysler neon    0      Sedan   \n\n    doors   hp  ...  mileage               fuel_type  \\\n0     4/5  122  ...    81000  Hybridi (diesel/sähkö)   \n1     4/5  260  ...   122000                Bensiini   \n2     4/5  150  ...   114000                  Diesel   \n3     4/5  160  ...   428000                Bensiini   \n4     4/5   74  ...   260000                Bensiini   \n..    ...  ...  ...      ...                     ...   \n570   4/5   80  ...   255000                Bensiini   \n571   4/5  160  ...   320000                Bensiini   \n572   4/5  125  ...   299485                Bensiini   \n573   4/5  105  ...   290000                Bensiini   \n574   4/5  287  ...   220000                Bensiini   \n\n                        car_seller car_price price_category  \\\n0            future store drivalia     35750        Highend   \n1                       jdm outlet      9890         Medium   \n2                   juhani koskela       100         Medium   \n3    markus rikhard juhani lavonen       240         Medium   \n4                  tiina karttiala       250         Medium   \n..                             ...       ...            ...   \n570                 toni turpeinen       999         Medium   \n571                tero järvivuori       999         Medium   \n572                   carita start       999         Medium   \n573                   timo laurila       999         Medium   \n574              korsumäen auto ky      1000         Budget   \n\n                hp_cat is_company population        town_category  \\\n0    medium (less 170)          0   245384.0  Biggest (more 100k)   \n1      high (less 270)          1   245384.0  Biggest (more 100k)   \n2    medium (less 170)          0    44616.0      Medium (20-50k)   \n3    medium (less 170)          0    36315.0      Medium (20-50k)   \n4       low (less 100)          0    14442.0       Small (6k-20k)   \n..                 ...        ...        ...                  ...   \n570     low (less 100)          0    77531.0        Big (50-100k)   \n571  medium (less 170)          0   252872.0  Biggest (more 100k)   \n572  medium (less 170)          0   252872.0  Biggest (more 100k)   \n573  medium (less 170)          0   672036.0  Biggest (more 100k)   \n574     max (more 270)          1     5364.0    Very small (0-6k)   \n\n     manual_gearbox  \n0                 0  \n1                 0  \n2                 1  \n3                 1  \n4                 1  \n..              ...  \n570               1  \n571               1  \n572               1  \n573               1  \n574               1  \n\n[575 rows x 22 columns]",
      "text/html": "<div>\n<style scoped>\n    .dataframe tbody tr th:only-of-type {\n        vertical-align: middle;\n    }\n\n    .dataframe tbody tr th {\n        vertical-align: top;\n    }\n\n    .dataframe thead th {\n        text-align: right;\n    }\n</style>\n<table border=\"1\" class=\"dataframe\">\n  <thead>\n    <tr style=\"text-align: right;\">\n      <th></th>\n      <th>town</th>\n      <th>id</th>\n      <th>engine_vol</th>\n      <th>car_make</th>\n      <th>model</th>\n      <th>make_model</th>\n      <th>awd</th>\n      <th>category</th>\n      <th>doors</th>\n      <th>hp</th>\n      <th>...</th>\n      <th>mileage</th>\n      <th>fuel_type</th>\n      <th>car_seller</th>\n      <th>car_price</th>\n      <th>price_category</th>\n      <th>hp_cat</th>\n      <th>is_company</th>\n      <th>population</th>\n      <th>town_category</th>\n      <th>manual_gearbox</th>\n    </tr>\n  </thead>\n  <tbody>\n    <tr>\n      <th>0</th>\n      <td>Vantaa</td>\n      <td>https://www.nettiauto.com/mercedes-benz/e/1382...</td>\n      <td>2.0</td>\n      <td>Mercedes-Benz</td>\n      <td>E</td>\n      <td>mercedes-benz e</td>\n      <td>0</td>\n      <td>Sedan</td>\n      <td>4/5</td>\n      <td>122</td>\n      <td>...</td>\n      <td>81000</td>\n      <td>Hybridi (diesel/sähkö)</td>\n      <td>future store drivalia</td>\n      <td>35750</td>\n      <td>Highend</td>\n      <td>medium (less 170)</td>\n      <td>0</td>\n      <td>245384.0</td>\n      <td>Biggest (more 100k)</td>\n      <td>0</td>\n    </tr>\n    <tr>\n      <th>1</th>\n      <td>Vantaa</td>\n      <td>https://www.nettiauto.com/subaru/legacy/13834982</td>\n      <td>2.0</td>\n      <td>Subaru</td>\n      <td>Legacy</td>\n      <td>subaru legacy</td>\n      <td>1</td>\n      <td>Sedan</td>\n      <td>4/5</td>\n      <td>260</td>\n      <td>...</td>\n      <td>122000</td>\n      <td>Bensiini</td>\n      <td>jdm outlet</td>\n      <td>9890</td>\n      <td>Medium</td>\n      <td>high (less 270)</td>\n      <td>1</td>\n      <td>245384.0</td>\n      <td>Biggest (more 100k)</td>\n      <td>0</td>\n    </tr>\n    <tr>\n      <th>2</th>\n      <td>Nurmijärvi</td>\n      <td>https://www.nettiauto.com/volkswagen/passat/13...</td>\n      <td>2.0</td>\n      <td>Volkswagen</td>\n      <td>Passat</td>\n      <td>volkswagen passat</td>\n      <td>0</td>\n      <td>Sedan</td>\n      <td>4/5</td>\n      <td>150</td>\n      <td>...</td>\n      <td>114000</td>\n      <td>Diesel</td>\n      <td>juhani koskela</td>\n      <td>100</td>\n      <td>Medium</td>\n      <td>medium (less 170)</td>\n      <td>0</td>\n      <td>44616.0</td>\n      <td>Medium (20-50k)</td>\n      <td>1</td>\n    </tr>\n    <tr>\n      <th>3</th>\n      <td>Kajaani</td>\n      <td>https://www.nettiauto.com/ford/mondeo/13901773</td>\n      <td>1.8</td>\n      <td>Ford</td>\n      <td>Mondeo</td>\n      <td>ford mondeo</td>\n      <td>0</td>\n      <td>Sedan</td>\n      <td>4/5</td>\n      <td>160</td>\n      <td>...</td>\n      <td>428000</td>\n      <td>Bensiini</td>\n      <td>markus rikhard juhani lavonen</td>\n      <td>240</td>\n      <td>Medium</td>\n      <td>medium (less 170)</td>\n      <td>0</td>\n      <td>36315.0</td>\n      <td>Medium (20-50k)</td>\n      <td>1</td>\n    </tr>\n    <tr>\n      <th>4</th>\n      <td>Loviisa</td>\n      <td>https://www.nettiauto.com/fiat/marea/13860523</td>\n      <td>1.6</td>\n      <td>Fiat</td>\n      <td>Marea</td>\n      <td>fiat marea</td>\n      <td>0</td>\n      <td>Sedan</td>\n      <td>4/5</td>\n      <td>74</td>\n      <td>...</td>\n      <td>260000</td>\n      <td>Bensiini</td>\n      <td>tiina karttiala</td>\n      <td>250</td>\n      <td>Medium</td>\n      <td>low (less 100)</td>\n      <td>0</td>\n      <td>14442.0</td>\n      <td>Small (6k-20k)</td>\n      <td>1</td>\n    </tr>\n    <tr>\n      <th>...</th>\n      <td>...</td>\n      <td>...</td>\n      <td>...</td>\n      <td>...</td>\n      <td>...</td>\n      <td>...</td>\n      <td>...</td>\n      <td>...</td>\n      <td>...</td>\n      <td>...</td>\n      <td>...</td>\n      <td>...</td>\n      <td>...</td>\n      <td>...</td>\n      <td>...</td>\n      <td>...</td>\n      <td>...</td>\n      <td>...</td>\n      <td>...</td>\n      <td>...</td>\n      <td>...</td>\n    </tr>\n    <tr>\n      <th>570</th>\n      <td>Joensuu</td>\n      <td>https://www.nettiauto.com/nissan/almera/13956130</td>\n      <td>1.6</td>\n      <td>Nissan</td>\n      <td>Almera</td>\n      <td>nissan almera</td>\n      <td>0</td>\n      <td>Hatchback</td>\n      <td>4/5</td>\n      <td>80</td>\n      <td>...</td>\n      <td>255000</td>\n      <td>Bensiini</td>\n      <td>toni turpeinen</td>\n      <td>999</td>\n      <td>Medium</td>\n      <td>low (less 100)</td>\n      <td>0</td>\n      <td>77531.0</td>\n      <td>Big (50-100k)</td>\n      <td>1</td>\n    </tr>\n    <tr>\n      <th>571</th>\n      <td>Tampere</td>\n      <td>https://www.nettiauto.com/ford/mondeo/13956139</td>\n      <td>1.8</td>\n      <td>Ford</td>\n      <td>Mondeo</td>\n      <td>ford mondeo</td>\n      <td>0</td>\n      <td>Sedan</td>\n      <td>4/5</td>\n      <td>160</td>\n      <td>...</td>\n      <td>320000</td>\n      <td>Bensiini</td>\n      <td>tero järvivuori</td>\n      <td>999</td>\n      <td>Medium</td>\n      <td>medium (less 170)</td>\n      <td>0</td>\n      <td>252872.0</td>\n      <td>Biggest (more 100k)</td>\n      <td>1</td>\n    </tr>\n    <tr>\n      <th>572</th>\n      <td>Tampere</td>\n      <td>https://www.nettiauto.com/ford/c-max/13956882</td>\n      <td>1.8</td>\n      <td>Ford</td>\n      <td>C-Max</td>\n      <td>ford c-max</td>\n      <td>0</td>\n      <td>Universal</td>\n      <td>4/5</td>\n      <td>125</td>\n      <td>...</td>\n      <td>299485</td>\n      <td>Bensiini</td>\n      <td>carita start</td>\n      <td>999</td>\n      <td>Medium</td>\n      <td>medium (less 170)</td>\n      <td>0</td>\n      <td>252872.0</td>\n      <td>Biggest (more 100k)</td>\n      <td>1</td>\n    </tr>\n    <tr>\n      <th>573</th>\n      <td>Helsinki</td>\n      <td>https://www.nettiauto.com/volkswagen/jetta/139...</td>\n      <td>1.4</td>\n      <td>Volkswagen</td>\n      <td>Jetta</td>\n      <td>volkswagen jetta</td>\n      <td>0</td>\n      <td>Sedan</td>\n      <td>4/5</td>\n      <td>105</td>\n      <td>...</td>\n      <td>290000</td>\n      <td>Bensiini</td>\n      <td>timo laurila</td>\n      <td>999</td>\n      <td>Medium</td>\n      <td>medium (less 170)</td>\n      <td>0</td>\n      <td>672036.0</td>\n      <td>Biggest (more 100k)</td>\n      <td>1</td>\n    </tr>\n    <tr>\n      <th>574</th>\n      <td>Ähtäri</td>\n      <td>https://www.nettiauto.com/chrysler/neon/9511567</td>\n      <td>2.0</td>\n      <td>Chrysler</td>\n      <td>Neon</td>\n      <td>chrysler neon</td>\n      <td>0</td>\n      <td>Sedan</td>\n      <td>4/5</td>\n      <td>287</td>\n      <td>...</td>\n      <td>220000</td>\n      <td>Bensiini</td>\n      <td>korsumäen auto ky</td>\n      <td>1000</td>\n      <td>Budget</td>\n      <td>max (more 270)</td>\n      <td>1</td>\n      <td>5364.0</td>\n      <td>Very small (0-6k)</td>\n      <td>1</td>\n    </tr>\n  </tbody>\n</table>\n<p>575 rows × 22 columns</p>\n</div>"
     },
     "execution_count": 68,
     "metadata": {},
     "output_type": "execute_result"
    }
   ],
   "source": [
    "data = data.dropna()\n",
    "data = data.drop_duplicates()\n",
    "data.reset_index(drop=True)"
   ],
   "metadata": {
    "collapsed": false,
    "ExecuteTime": {
     "end_time": "2023-11-06T12:33:41.648719Z",
     "start_time": "2023-11-06T12:33:41.544707Z"
    }
   }
  },
  {
   "cell_type": "code",
   "execution_count": 69,
   "outputs": [],
   "source": [
    "data.to_csv('data/data_new24_clean.csv')"
   ],
   "metadata": {
    "collapsed": false,
    "ExecuteTime": {
     "end_time": "2023-11-06T12:33:41.650724Z",
     "start_time": "2023-11-06T12:33:41.556399Z"
    }
   }
  },
  {
   "cell_type": "code",
   "execution_count": 70,
   "outputs": [
    {
     "name": "stderr",
     "output_type": "stream",
     "text": [
      "/Users/egor/Documents/best_car_deals_app/car_app/lib/python3.11/site-packages/sklearn/base.py:348: InconsistentVersionWarning: Trying to unpickle estimator OneHotEncoder from version 1.3.0 when using version 1.3.2. This might lead to breaking code or invalid results. Use at your own risk. For more info please refer to:\n",
      "https://scikit-learn.org/stable/model_persistence.html#security-maintainability-limitations\n",
      "  warnings.warn(\n",
      "/Users/egor/Documents/best_car_deals_app/car_app/lib/python3.11/site-packages/sklearn/base.py:348: InconsistentVersionWarning: Trying to unpickle estimator MinMaxScaler from version 1.3.0 when using version 1.3.2. This might lead to breaking code or invalid results. Use at your own risk. For more info please refer to:\n",
      "https://scikit-learn.org/stable/model_persistence.html#security-maintainability-limitations\n",
      "  warnings.warn(\n"
     ]
    }
   ],
   "source": [
    "ohe_mdl = joblib.load('models/ohe_mdl.joblib')\n",
    "scaler = joblib.load('models/scaler.joblib')\n",
    "xgb_reg_gs = joblib.load('models/xgb_reg_gs.joblib')"
   ],
   "metadata": {
    "collapsed": false,
    "ExecuteTime": {
     "end_time": "2023-11-06T12:33:42.665176Z",
     "start_time": "2023-11-06T12:33:41.562493Z"
    }
   }
  },
  {
   "cell_type": "code",
   "execution_count": 71,
   "outputs": [
    {
     "data": {
      "text/plain": "(575, 1263)"
     },
     "execution_count": 71,
     "metadata": {},
     "output_type": "execute_result"
    }
   ],
   "source": [
    "data_mdl = data[[\n",
    "    'make_model',\n",
    "    'engine_vol',\n",
    "    'awd', \n",
    "    'category',\n",
    "    'hp',\n",
    "    'capacity',\n",
    "    'age',\n",
    "    'mileage',\n",
    "    'fuel_type',\n",
    "    'manual_gearbox',\n",
    "    'hp_cat',\n",
    "    'price_category',\n",
    "    'town_category',\n",
    "    'is_company',\n",
    "    'car_price'\n",
    "]].reset_index(drop=True)\n",
    "\n",
    "numerics = ['int16', 'int32', 'int64', 'float16', 'float32', 'float64']\n",
    "data_mdl_num_cols = list(data_mdl.select_dtypes(include=numerics).columns)\n",
    "data_mdl_cat_cols = list(data_mdl.select_dtypes(exclude=numerics).columns)\n",
    "\n",
    "data_mdl_ohe = ohe_mdl.transform(data_mdl[data_mdl_cat_cols])\n",
    "data_mdl_ohe = pd.DataFrame(data_mdl_ohe, columns=ohe_mdl.get_feature_names_out(input_features=data_mdl_cat_cols))\n",
    "\n",
    "data_mdl = data_mdl.drop(list(data_mdl_cat_cols), axis=1)\n",
    "data_mdl = pd.concat([data_mdl, data_mdl_ohe], axis=1)\n",
    "data_mdl.shape"
   ],
   "metadata": {
    "collapsed": false,
    "ExecuteTime": {
     "end_time": "2023-11-06T12:33:42.687990Z",
     "start_time": "2023-11-06T12:33:42.667475Z"
    }
   }
  },
  {
   "cell_type": "code",
   "execution_count": 72,
   "outputs": [],
   "source": [
    "X = data_mdl.drop(columns=['car_price'])\n",
    "y = data_mdl['car_price']\n",
    "\n",
    "data_mdl_num_cols.remove('car_price')\n",
    "X[data_mdl_num_cols] = scaler.transform(X[data_mdl_num_cols])"
   ],
   "metadata": {
    "collapsed": false,
    "ExecuteTime": {
     "end_time": "2023-11-06T12:33:42.688122Z",
     "start_time": "2023-11-06T12:33:42.678333Z"
    }
   }
  },
  {
   "cell_type": "code",
   "execution_count": 73,
   "outputs": [],
   "source": [
    "cols_when_model_builds = xgb_reg_gs.get_booster().feature_names\n",
    "X = X[cols_when_model_builds]"
   ],
   "metadata": {
    "collapsed": false,
    "ExecuteTime": {
     "end_time": "2023-11-06T12:33:42.718370Z",
     "start_time": "2023-11-06T12:33:42.685073Z"
    }
   }
  },
  {
   "cell_type": "code",
   "execution_count": 74,
   "outputs": [
    {
     "data": {
      "text/plain": "False"
     },
     "execution_count": 74,
     "metadata": {},
     "output_type": "execute_result"
    }
   ],
   "source": [
    "'gpu_id' in X.columns"
   ],
   "metadata": {
    "collapsed": false,
    "ExecuteTime": {
     "end_time": "2023-11-06T12:33:42.726606Z",
     "start_time": "2023-11-06T12:33:42.689864Z"
    }
   }
  },
  {
   "cell_type": "code",
   "execution_count": 75,
   "outputs": [],
   "source": [
    "y_pred = xgb_reg_gs.predict(X)\n",
    "data['y_pred'] = y_pred\n",
    "data['price_diff'] = data['y_pred'] - data['car_price']\n",
    "data['profit_%'] = data['price_diff']/data['car_price'] * 100\n",
    "result = data[(data['price_diff'] > 1000) & (data['age'] <15)]\n",
    "result = result[['make_model', 'id', 'car_price', 'y_pred', 'profit_%']]\n",
    "result = result.transpose()\n",
    "result.to_json('data/result.json')"
   ],
   "metadata": {
    "collapsed": false,
    "ExecuteTime": {
     "end_time": "2023-11-06T12:33:42.756825Z",
     "start_time": "2023-11-06T12:33:42.694027Z"
    }
   }
  }
 ],
 "metadata": {
  "kernelspec": {
   "display_name": "base",
   "language": "python",
   "name": "python3"
  },
  "language_info": {
   "codemirror_mode": {
    "name": "ipython",
    "version": 3
   },
   "file_extension": ".py",
   "mimetype": "text/x-python",
   "name": "python",
   "nbconvert_exporter": "python",
   "pygments_lexer": "ipython3",
   "version": "3.11.4"
  },
  "orig_nbformat": 4
 },
 "nbformat": 4,
 "nbformat_minor": 2
}
